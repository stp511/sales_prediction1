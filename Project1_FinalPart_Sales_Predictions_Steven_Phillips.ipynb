{
  "nbformat": 4,
  "nbformat_minor": 0,
  "metadata": {
    "colab": {
      "provenance": [],
      "collapsed_sections": [],
      "authorship_tag": "ABX9TyOT/VHl49Et+Wa84HkyEUfK",
      "include_colab_link": true
    },
    "kernelspec": {
      "name": "python3",
      "display_name": "Python 3"
    },
    "language_info": {
      "name": "python"
    }
  },
  "cells": [
    {
      "cell_type": "markdown",
      "metadata": {
        "id": "view-in-github",
        "colab_type": "text"
      },
      "source": [
        "<a href=\"https://colab.research.google.com/github/stp511/sales_prediction1/blob/main/Project1_FinalPart_Sales_Predictions_Steven_Phillips.ipynb\" target=\"_parent\"><img src=\"https://colab.research.google.com/assets/colab-badge.svg\" alt=\"Open In Colab\"/></a>"
      ]
    },
    {
      "cell_type": "markdown",
      "source": [
        "# **Project 1 - Final Part of Sales Predictions Project using Machine Learning**\n",
        "- **Steven Phillips**\n",
        "- 10/21/2022"
      ],
      "metadata": {
        "id": "JdUNZQH0iQFl"
      }
    },
    {
      "cell_type": "markdown",
      "source": [
        "## Import all libraries"
      ],
      "metadata": {
        "id": "lnyufvKaiU0C"
      }
    },
    {
      "cell_type": "code",
      "source": [
        "#import all libraries\n",
        "import pandas as pd\n",
        "import numpy as np\n",
        "import seaborn as sns\n",
        "import matplotlib.pyplot as plt\n",
        "from sklearn.model_selection import train_test_split\n",
        "from sklearn.compose import make_column_selector\n",
        "from sklearn.preprocessing import OneHotEncoder, OrdinalEncoder\n",
        "from sklearn.impute import SimpleImputer\n",
        "from sklearn.compose import make_column_transformer\n",
        "from sklearn.preprocessing import StandardScaler\n",
        "from sklearn.linear_model import LinearRegression\n",
        "from sklearn.pipeline import make_pipeline\n",
        "from sklearn.tree import DecisionTreeRegressor\n",
        "from sklearn.metrics import r2_score, mean_squared_error, mean_absolute_error\n",
        "from sklearn import set_config\n",
        "set_config(display='diagram')"
      ],
      "metadata": {
        "id": "f_48Ek5GjqV4"
      },
      "execution_count": 128,
      "outputs": []
    },
    {
      "cell_type": "markdown",
      "source": [
        "## Load, copy, and explore the Sales Predictions data set"
      ],
      "metadata": {
        "id": "IYF6Bs-8uCaY"
      }
    },
    {
      "cell_type": "code",
      "source": [
        "#mount data\n",
        "from google.colab import drive\n",
        "drive.mount('/content/drive')"
      ],
      "metadata": {
        "colab": {
          "base_uri": "https://localhost:8080/"
        },
        "id": "FCdiEBNxjxxG",
        "outputId": "ceb78131-2317-4356-cc41-c3b4349c663b"
      },
      "execution_count": 69,
      "outputs": [
        {
          "output_type": "stream",
          "name": "stdout",
          "text": [
            "Drive already mounted at /content/drive; to attempt to forcibly remount, call drive.mount(\"/content/drive\", force_remount=True).\n"
          ]
        }
      ]
    },
    {
      "cell_type": "code",
      "source": [
        "#Load the data for Sales Predictions csv file as a data frame and present the first five rows\n",
        "filename = '/content/sales_predictions.csv'\n",
        "df = pd.read_csv(filename)\n",
        "df.head()"
      ],
      "metadata": {
        "colab": {
          "base_uri": "https://localhost:8080/",
          "height": 357
        },
        "id": "lERt5MWYj-5F",
        "outputId": "0774d5a1-653c-4009-9c18-eae17d3a4535"
      },
      "execution_count": 70,
      "outputs": [
        {
          "output_type": "execute_result",
          "data": {
            "text/plain": [
              "  Item_Identifier  Item_Weight Item_Fat_Content  Item_Visibility  \\\n",
              "0           FDA15         9.30          Low Fat         0.016047   \n",
              "1           DRC01         5.92          Regular         0.019278   \n",
              "2           FDN15        17.50          Low Fat         0.016760   \n",
              "3           FDX07        19.20          Regular         0.000000   \n",
              "4           NCD19         8.93          Low Fat         0.000000   \n",
              "\n",
              "               Item_Type  Item_MRP Outlet_Identifier  \\\n",
              "0                  Dairy  249.8092            OUT049   \n",
              "1            Soft Drinks   48.2692            OUT018   \n",
              "2                   Meat  141.6180            OUT049   \n",
              "3  Fruits and Vegetables  182.0950            OUT010   \n",
              "4              Household   53.8614            OUT013   \n",
              "\n",
              "   Outlet_Establishment_Year Outlet_Size Outlet_Location_Type  \\\n",
              "0                       1999      Medium               Tier 1   \n",
              "1                       2009      Medium               Tier 3   \n",
              "2                       1999      Medium               Tier 1   \n",
              "3                       1998         NaN               Tier 3   \n",
              "4                       1987        High               Tier 3   \n",
              "\n",
              "         Outlet_Type  Item_Outlet_Sales  \n",
              "0  Supermarket Type1          3735.1380  \n",
              "1  Supermarket Type2           443.4228  \n",
              "2  Supermarket Type1          2097.2700  \n",
              "3      Grocery Store           732.3800  \n",
              "4  Supermarket Type1           994.7052  "
            ],
            "text/html": [
              "\n",
              "  <div id=\"df-75b22a2e-601e-45f8-addb-5ab323769939\">\n",
              "    <div class=\"colab-df-container\">\n",
              "      <div>\n",
              "<style scoped>\n",
              "    .dataframe tbody tr th:only-of-type {\n",
              "        vertical-align: middle;\n",
              "    }\n",
              "\n",
              "    .dataframe tbody tr th {\n",
              "        vertical-align: top;\n",
              "    }\n",
              "\n",
              "    .dataframe thead th {\n",
              "        text-align: right;\n",
              "    }\n",
              "</style>\n",
              "<table border=\"1\" class=\"dataframe\">\n",
              "  <thead>\n",
              "    <tr style=\"text-align: right;\">\n",
              "      <th></th>\n",
              "      <th>Item_Identifier</th>\n",
              "      <th>Item_Weight</th>\n",
              "      <th>Item_Fat_Content</th>\n",
              "      <th>Item_Visibility</th>\n",
              "      <th>Item_Type</th>\n",
              "      <th>Item_MRP</th>\n",
              "      <th>Outlet_Identifier</th>\n",
              "      <th>Outlet_Establishment_Year</th>\n",
              "      <th>Outlet_Size</th>\n",
              "      <th>Outlet_Location_Type</th>\n",
              "      <th>Outlet_Type</th>\n",
              "      <th>Item_Outlet_Sales</th>\n",
              "    </tr>\n",
              "  </thead>\n",
              "  <tbody>\n",
              "    <tr>\n",
              "      <th>0</th>\n",
              "      <td>FDA15</td>\n",
              "      <td>9.30</td>\n",
              "      <td>Low Fat</td>\n",
              "      <td>0.016047</td>\n",
              "      <td>Dairy</td>\n",
              "      <td>249.8092</td>\n",
              "      <td>OUT049</td>\n",
              "      <td>1999</td>\n",
              "      <td>Medium</td>\n",
              "      <td>Tier 1</td>\n",
              "      <td>Supermarket Type1</td>\n",
              "      <td>3735.1380</td>\n",
              "    </tr>\n",
              "    <tr>\n",
              "      <th>1</th>\n",
              "      <td>DRC01</td>\n",
              "      <td>5.92</td>\n",
              "      <td>Regular</td>\n",
              "      <td>0.019278</td>\n",
              "      <td>Soft Drinks</td>\n",
              "      <td>48.2692</td>\n",
              "      <td>OUT018</td>\n",
              "      <td>2009</td>\n",
              "      <td>Medium</td>\n",
              "      <td>Tier 3</td>\n",
              "      <td>Supermarket Type2</td>\n",
              "      <td>443.4228</td>\n",
              "    </tr>\n",
              "    <tr>\n",
              "      <th>2</th>\n",
              "      <td>FDN15</td>\n",
              "      <td>17.50</td>\n",
              "      <td>Low Fat</td>\n",
              "      <td>0.016760</td>\n",
              "      <td>Meat</td>\n",
              "      <td>141.6180</td>\n",
              "      <td>OUT049</td>\n",
              "      <td>1999</td>\n",
              "      <td>Medium</td>\n",
              "      <td>Tier 1</td>\n",
              "      <td>Supermarket Type1</td>\n",
              "      <td>2097.2700</td>\n",
              "    </tr>\n",
              "    <tr>\n",
              "      <th>3</th>\n",
              "      <td>FDX07</td>\n",
              "      <td>19.20</td>\n",
              "      <td>Regular</td>\n",
              "      <td>0.000000</td>\n",
              "      <td>Fruits and Vegetables</td>\n",
              "      <td>182.0950</td>\n",
              "      <td>OUT010</td>\n",
              "      <td>1998</td>\n",
              "      <td>NaN</td>\n",
              "      <td>Tier 3</td>\n",
              "      <td>Grocery Store</td>\n",
              "      <td>732.3800</td>\n",
              "    </tr>\n",
              "    <tr>\n",
              "      <th>4</th>\n",
              "      <td>NCD19</td>\n",
              "      <td>8.93</td>\n",
              "      <td>Low Fat</td>\n",
              "      <td>0.000000</td>\n",
              "      <td>Household</td>\n",
              "      <td>53.8614</td>\n",
              "      <td>OUT013</td>\n",
              "      <td>1987</td>\n",
              "      <td>High</td>\n",
              "      <td>Tier 3</td>\n",
              "      <td>Supermarket Type1</td>\n",
              "      <td>994.7052</td>\n",
              "    </tr>\n",
              "  </tbody>\n",
              "</table>\n",
              "</div>\n",
              "      <button class=\"colab-df-convert\" onclick=\"convertToInteractive('df-75b22a2e-601e-45f8-addb-5ab323769939')\"\n",
              "              title=\"Convert this dataframe to an interactive table.\"\n",
              "              style=\"display:none;\">\n",
              "        \n",
              "  <svg xmlns=\"http://www.w3.org/2000/svg\" height=\"24px\"viewBox=\"0 0 24 24\"\n",
              "       width=\"24px\">\n",
              "    <path d=\"M0 0h24v24H0V0z\" fill=\"none\"/>\n",
              "    <path d=\"M18.56 5.44l.94 2.06.94-2.06 2.06-.94-2.06-.94-.94-2.06-.94 2.06-2.06.94zm-11 1L8.5 8.5l.94-2.06 2.06-.94-2.06-.94L8.5 2.5l-.94 2.06-2.06.94zm10 10l.94 2.06.94-2.06 2.06-.94-2.06-.94-.94-2.06-.94 2.06-2.06.94z\"/><path d=\"M17.41 7.96l-1.37-1.37c-.4-.4-.92-.59-1.43-.59-.52 0-1.04.2-1.43.59L10.3 9.45l-7.72 7.72c-.78.78-.78 2.05 0 2.83L4 21.41c.39.39.9.59 1.41.59.51 0 1.02-.2 1.41-.59l7.78-7.78 2.81-2.81c.8-.78.8-2.07 0-2.86zM5.41 20L4 18.59l7.72-7.72 1.47 1.35L5.41 20z\"/>\n",
              "  </svg>\n",
              "      </button>\n",
              "      \n",
              "  <style>\n",
              "    .colab-df-container {\n",
              "      display:flex;\n",
              "      flex-wrap:wrap;\n",
              "      gap: 12px;\n",
              "    }\n",
              "\n",
              "    .colab-df-convert {\n",
              "      background-color: #E8F0FE;\n",
              "      border: none;\n",
              "      border-radius: 50%;\n",
              "      cursor: pointer;\n",
              "      display: none;\n",
              "      fill: #1967D2;\n",
              "      height: 32px;\n",
              "      padding: 0 0 0 0;\n",
              "      width: 32px;\n",
              "    }\n",
              "\n",
              "    .colab-df-convert:hover {\n",
              "      background-color: #E2EBFA;\n",
              "      box-shadow: 0px 1px 2px rgba(60, 64, 67, 0.3), 0px 1px 3px 1px rgba(60, 64, 67, 0.15);\n",
              "      fill: #174EA6;\n",
              "    }\n",
              "\n",
              "    [theme=dark] .colab-df-convert {\n",
              "      background-color: #3B4455;\n",
              "      fill: #D2E3FC;\n",
              "    }\n",
              "\n",
              "    [theme=dark] .colab-df-convert:hover {\n",
              "      background-color: #434B5C;\n",
              "      box-shadow: 0px 1px 3px 1px rgba(0, 0, 0, 0.15);\n",
              "      filter: drop-shadow(0px 1px 2px rgba(0, 0, 0, 0.3));\n",
              "      fill: #FFFFFF;\n",
              "    }\n",
              "  </style>\n",
              "\n",
              "      <script>\n",
              "        const buttonEl =\n",
              "          document.querySelector('#df-75b22a2e-601e-45f8-addb-5ab323769939 button.colab-df-convert');\n",
              "        buttonEl.style.display =\n",
              "          google.colab.kernel.accessAllowed ? 'block' : 'none';\n",
              "\n",
              "        async function convertToInteractive(key) {\n",
              "          const element = document.querySelector('#df-75b22a2e-601e-45f8-addb-5ab323769939');\n",
              "          const dataTable =\n",
              "            await google.colab.kernel.invokeFunction('convertToInteractive',\n",
              "                                                     [key], {});\n",
              "          if (!dataTable) return;\n",
              "\n",
              "          const docLinkHtml = 'Like what you see? Visit the ' +\n",
              "            '<a target=\"_blank\" href=https://colab.research.google.com/notebooks/data_table.ipynb>data table notebook</a>'\n",
              "            + ' to learn more about interactive tables.';\n",
              "          element.innerHTML = '';\n",
              "          dataTable['output_type'] = 'display_data';\n",
              "          await google.colab.output.renderOutput(dataTable, element);\n",
              "          const docLink = document.createElement('div');\n",
              "          docLink.innerHTML = docLinkHtml;\n",
              "          element.appendChild(docLink);\n",
              "        }\n",
              "      </script>\n",
              "    </div>\n",
              "  </div>\n",
              "  "
            ]
          },
          "metadata": {},
          "execution_count": 70
        }
      ]
    },
    {
      "cell_type": "markdown",
      "source": [
        "We will make a copy of original df to avoid any manipulations"
      ],
      "metadata": {
        "id": "KwiET9fxkFgb"
      }
    },
    {
      "cell_type": "code",
      "source": [
        "# copy of df named df_ml\n",
        "df_ml = df.copy()"
      ],
      "metadata": {
        "id": "wRrv6VSVkGKC"
      },
      "execution_count": 71,
      "outputs": []
    },
    {
      "cell_type": "code",
      "source": [
        "df_ml.info()"
      ],
      "metadata": {
        "colab": {
          "base_uri": "https://localhost:8080/"
        },
        "id": "OjAM2Q-BmAiA",
        "outputId": "a9bbed07-0b9e-42ef-ad3a-55bac2d5e50e"
      },
      "execution_count": 72,
      "outputs": [
        {
          "output_type": "stream",
          "name": "stdout",
          "text": [
            "<class 'pandas.core.frame.DataFrame'>\n",
            "RangeIndex: 8523 entries, 0 to 8522\n",
            "Data columns (total 12 columns):\n",
            " #   Column                     Non-Null Count  Dtype  \n",
            "---  ------                     --------------  -----  \n",
            " 0   Item_Identifier            8523 non-null   object \n",
            " 1   Item_Weight                7060 non-null   float64\n",
            " 2   Item_Fat_Content           8523 non-null   object \n",
            " 3   Item_Visibility            8523 non-null   float64\n",
            " 4   Item_Type                  8523 non-null   object \n",
            " 5   Item_MRP                   8523 non-null   float64\n",
            " 6   Outlet_Identifier          8523 non-null   object \n",
            " 7   Outlet_Establishment_Year  8523 non-null   int64  \n",
            " 8   Outlet_Size                6113 non-null   object \n",
            " 9   Outlet_Location_Type       8523 non-null   object \n",
            " 10  Outlet_Type                8523 non-null   object \n",
            " 11  Item_Outlet_Sales          8523 non-null   float64\n",
            "dtypes: float64(4), int64(1), object(7)\n",
            "memory usage: 799.2+ KB\n"
          ]
        }
      ]
    },
    {
      "cell_type": "code",
      "source": [
        "df_ml.describe().round(2)"
      ],
      "metadata": {
        "colab": {
          "base_uri": "https://localhost:8080/",
          "height": 300
        },
        "id": "pZO_zoBPmJar",
        "outputId": "fc88be55-3876-4ab7-9baa-0a8d2528d136"
      },
      "execution_count": 73,
      "outputs": [
        {
          "output_type": "execute_result",
          "data": {
            "text/plain": [
              "       Item_Weight  Item_Visibility  Item_MRP  Outlet_Establishment_Year  \\\n",
              "count      7060.00          8523.00   8523.00                    8523.00   \n",
              "mean         12.86             0.07    140.99                    1997.83   \n",
              "std           4.64             0.05     62.28                       8.37   \n",
              "min           4.56             0.00     31.29                    1985.00   \n",
              "25%           8.77             0.03     93.83                    1987.00   \n",
              "50%          12.60             0.05    143.01                    1999.00   \n",
              "75%          16.85             0.09    185.64                    2004.00   \n",
              "max          21.35             0.33    266.89                    2009.00   \n",
              "\n",
              "       Item_Outlet_Sales  \n",
              "count            8523.00  \n",
              "mean             2181.29  \n",
              "std              1706.50  \n",
              "min                33.29  \n",
              "25%               834.25  \n",
              "50%              1794.33  \n",
              "75%              3101.30  \n",
              "max             13086.96  "
            ],
            "text/html": [
              "\n",
              "  <div id=\"df-8101a653-36a9-46d9-b80a-b218eb22c66f\">\n",
              "    <div class=\"colab-df-container\">\n",
              "      <div>\n",
              "<style scoped>\n",
              "    .dataframe tbody tr th:only-of-type {\n",
              "        vertical-align: middle;\n",
              "    }\n",
              "\n",
              "    .dataframe tbody tr th {\n",
              "        vertical-align: top;\n",
              "    }\n",
              "\n",
              "    .dataframe thead th {\n",
              "        text-align: right;\n",
              "    }\n",
              "</style>\n",
              "<table border=\"1\" class=\"dataframe\">\n",
              "  <thead>\n",
              "    <tr style=\"text-align: right;\">\n",
              "      <th></th>\n",
              "      <th>Item_Weight</th>\n",
              "      <th>Item_Visibility</th>\n",
              "      <th>Item_MRP</th>\n",
              "      <th>Outlet_Establishment_Year</th>\n",
              "      <th>Item_Outlet_Sales</th>\n",
              "    </tr>\n",
              "  </thead>\n",
              "  <tbody>\n",
              "    <tr>\n",
              "      <th>count</th>\n",
              "      <td>7060.00</td>\n",
              "      <td>8523.00</td>\n",
              "      <td>8523.00</td>\n",
              "      <td>8523.00</td>\n",
              "      <td>8523.00</td>\n",
              "    </tr>\n",
              "    <tr>\n",
              "      <th>mean</th>\n",
              "      <td>12.86</td>\n",
              "      <td>0.07</td>\n",
              "      <td>140.99</td>\n",
              "      <td>1997.83</td>\n",
              "      <td>2181.29</td>\n",
              "    </tr>\n",
              "    <tr>\n",
              "      <th>std</th>\n",
              "      <td>4.64</td>\n",
              "      <td>0.05</td>\n",
              "      <td>62.28</td>\n",
              "      <td>8.37</td>\n",
              "      <td>1706.50</td>\n",
              "    </tr>\n",
              "    <tr>\n",
              "      <th>min</th>\n",
              "      <td>4.56</td>\n",
              "      <td>0.00</td>\n",
              "      <td>31.29</td>\n",
              "      <td>1985.00</td>\n",
              "      <td>33.29</td>\n",
              "    </tr>\n",
              "    <tr>\n",
              "      <th>25%</th>\n",
              "      <td>8.77</td>\n",
              "      <td>0.03</td>\n",
              "      <td>93.83</td>\n",
              "      <td>1987.00</td>\n",
              "      <td>834.25</td>\n",
              "    </tr>\n",
              "    <tr>\n",
              "      <th>50%</th>\n",
              "      <td>12.60</td>\n",
              "      <td>0.05</td>\n",
              "      <td>143.01</td>\n",
              "      <td>1999.00</td>\n",
              "      <td>1794.33</td>\n",
              "    </tr>\n",
              "    <tr>\n",
              "      <th>75%</th>\n",
              "      <td>16.85</td>\n",
              "      <td>0.09</td>\n",
              "      <td>185.64</td>\n",
              "      <td>2004.00</td>\n",
              "      <td>3101.30</td>\n",
              "    </tr>\n",
              "    <tr>\n",
              "      <th>max</th>\n",
              "      <td>21.35</td>\n",
              "      <td>0.33</td>\n",
              "      <td>266.89</td>\n",
              "      <td>2009.00</td>\n",
              "      <td>13086.96</td>\n",
              "    </tr>\n",
              "  </tbody>\n",
              "</table>\n",
              "</div>\n",
              "      <button class=\"colab-df-convert\" onclick=\"convertToInteractive('df-8101a653-36a9-46d9-b80a-b218eb22c66f')\"\n",
              "              title=\"Convert this dataframe to an interactive table.\"\n",
              "              style=\"display:none;\">\n",
              "        \n",
              "  <svg xmlns=\"http://www.w3.org/2000/svg\" height=\"24px\"viewBox=\"0 0 24 24\"\n",
              "       width=\"24px\">\n",
              "    <path d=\"M0 0h24v24H0V0z\" fill=\"none\"/>\n",
              "    <path d=\"M18.56 5.44l.94 2.06.94-2.06 2.06-.94-2.06-.94-.94-2.06-.94 2.06-2.06.94zm-11 1L8.5 8.5l.94-2.06 2.06-.94-2.06-.94L8.5 2.5l-.94 2.06-2.06.94zm10 10l.94 2.06.94-2.06 2.06-.94-2.06-.94-.94-2.06-.94 2.06-2.06.94z\"/><path d=\"M17.41 7.96l-1.37-1.37c-.4-.4-.92-.59-1.43-.59-.52 0-1.04.2-1.43.59L10.3 9.45l-7.72 7.72c-.78.78-.78 2.05 0 2.83L4 21.41c.39.39.9.59 1.41.59.51 0 1.02-.2 1.41-.59l7.78-7.78 2.81-2.81c.8-.78.8-2.07 0-2.86zM5.41 20L4 18.59l7.72-7.72 1.47 1.35L5.41 20z\"/>\n",
              "  </svg>\n",
              "      </button>\n",
              "      \n",
              "  <style>\n",
              "    .colab-df-container {\n",
              "      display:flex;\n",
              "      flex-wrap:wrap;\n",
              "      gap: 12px;\n",
              "    }\n",
              "\n",
              "    .colab-df-convert {\n",
              "      background-color: #E8F0FE;\n",
              "      border: none;\n",
              "      border-radius: 50%;\n",
              "      cursor: pointer;\n",
              "      display: none;\n",
              "      fill: #1967D2;\n",
              "      height: 32px;\n",
              "      padding: 0 0 0 0;\n",
              "      width: 32px;\n",
              "    }\n",
              "\n",
              "    .colab-df-convert:hover {\n",
              "      background-color: #E2EBFA;\n",
              "      box-shadow: 0px 1px 2px rgba(60, 64, 67, 0.3), 0px 1px 3px 1px rgba(60, 64, 67, 0.15);\n",
              "      fill: #174EA6;\n",
              "    }\n",
              "\n",
              "    [theme=dark] .colab-df-convert {\n",
              "      background-color: #3B4455;\n",
              "      fill: #D2E3FC;\n",
              "    }\n",
              "\n",
              "    [theme=dark] .colab-df-convert:hover {\n",
              "      background-color: #434B5C;\n",
              "      box-shadow: 0px 1px 3px 1px rgba(0, 0, 0, 0.15);\n",
              "      filter: drop-shadow(0px 1px 2px rgba(0, 0, 0, 0.3));\n",
              "      fill: #FFFFFF;\n",
              "    }\n",
              "  </style>\n",
              "\n",
              "      <script>\n",
              "        const buttonEl =\n",
              "          document.querySelector('#df-8101a653-36a9-46d9-b80a-b218eb22c66f button.colab-df-convert');\n",
              "        buttonEl.style.display =\n",
              "          google.colab.kernel.accessAllowed ? 'block' : 'none';\n",
              "\n",
              "        async function convertToInteractive(key) {\n",
              "          const element = document.querySelector('#df-8101a653-36a9-46d9-b80a-b218eb22c66f');\n",
              "          const dataTable =\n",
              "            await google.colab.kernel.invokeFunction('convertToInteractive',\n",
              "                                                     [key], {});\n",
              "          if (!dataTable) return;\n",
              "\n",
              "          const docLinkHtml = 'Like what you see? Visit the ' +\n",
              "            '<a target=\"_blank\" href=https://colab.research.google.com/notebooks/data_table.ipynb>data table notebook</a>'\n",
              "            + ' to learn more about interactive tables.';\n",
              "          element.innerHTML = '';\n",
              "          dataTable['output_type'] = 'display_data';\n",
              "          await google.colab.output.renderOutput(dataTable, element);\n",
              "          const docLink = document.createElement('div');\n",
              "          docLink.innerHTML = docLinkHtml;\n",
              "          element.appendChild(docLink);\n",
              "        }\n",
              "      </script>\n",
              "    </div>\n",
              "  </div>\n",
              "  "
            ]
          },
          "metadata": {},
          "execution_count": 73
        }
      ]
    },
    {
      "cell_type": "code",
      "source": [
        "df_ml.isna().sum()"
      ],
      "metadata": {
        "colab": {
          "base_uri": "https://localhost:8080/"
        },
        "id": "f1S1DuHzmPTP",
        "outputId": "1effd0cd-650d-41c0-d194-3bfab967a18a"
      },
      "execution_count": 74,
      "outputs": [
        {
          "output_type": "execute_result",
          "data": {
            "text/plain": [
              "Item_Identifier                 0\n",
              "Item_Weight                  1463\n",
              "Item_Fat_Content                0\n",
              "Item_Visibility                 0\n",
              "Item_Type                       0\n",
              "Item_MRP                        0\n",
              "Outlet_Identifier               0\n",
              "Outlet_Establishment_Year       0\n",
              "Outlet_Size                  2410\n",
              "Outlet_Location_Type            0\n",
              "Outlet_Type                     0\n",
              "Item_Outlet_Sales               0\n",
              "dtype: int64"
            ]
          },
          "metadata": {},
          "execution_count": 74
        }
      ]
    },
    {
      "cell_type": "code",
      "source": [
        "# Check to see if there are any duplicates\n",
        "df_ml.duplicated().sum()"
      ],
      "metadata": {
        "colab": {
          "base_uri": "https://localhost:8080/"
        },
        "id": "nUk60_fFmyyv",
        "outputId": "3ef2a918-bca2-4fc8-ad0a-51eee3c39233"
      },
      "execution_count": 75,
      "outputs": [
        {
          "output_type": "execute_result",
          "data": {
            "text/plain": [
              "0"
            ]
          },
          "metadata": {},
          "execution_count": 75
        }
      ]
    },
    {
      "cell_type": "markdown",
      "source": [
        "Check for inconsistencies within categorial data"
      ],
      "metadata": {
        "id": "I1HfUy0Qnvk7"
      }
    },
    {
      "cell_type": "code",
      "source": [
        "#check for inconsistencies 'Item_Identifier' [none]\n",
        "df_ml['Item_Identifier'].value_counts()"
      ],
      "metadata": {
        "colab": {
          "base_uri": "https://localhost:8080/"
        },
        "id": "Dlku53vFnxaB",
        "outputId": "2e76ca92-725b-4993-c4cd-7e26a3289626"
      },
      "execution_count": 76,
      "outputs": [
        {
          "output_type": "execute_result",
          "data": {
            "text/plain": [
              "FDW13    10\n",
              "FDG33    10\n",
              "NCY18     9\n",
              "FDD38     9\n",
              "DRE49     9\n",
              "         ..\n",
              "FDY43     1\n",
              "FDQ60     1\n",
              "FDO33     1\n",
              "DRF48     1\n",
              "FDC23     1\n",
              "Name: Item_Identifier, Length: 1559, dtype: int64"
            ]
          },
          "metadata": {},
          "execution_count": 76
        }
      ]
    },
    {
      "cell_type": "code",
      "source": [
        "#check for inconsistencies 'Item_Fat_Content'\n",
        "df_ml['Item_Fat_Content'].value_counts()"
      ],
      "metadata": {
        "colab": {
          "base_uri": "https://localhost:8080/"
        },
        "id": "aS_2mk4kn1hX",
        "outputId": "0cd25d1a-9454-4bd3-a409-ca2fb03825ea"
      },
      "execution_count": 77,
      "outputs": [
        {
          "output_type": "execute_result",
          "data": {
            "text/plain": [
              "Low Fat    5089\n",
              "Regular    2889\n",
              "LF          316\n",
              "reg         117\n",
              "low fat     112\n",
              "Name: Item_Fat_Content, dtype: int64"
            ]
          },
          "metadata": {},
          "execution_count": 77
        }
      ]
    },
    {
      "cell_type": "code",
      "source": [
        "#Within Item_Fat_Content replace reg with Regular and Lf/low fat with Low Fat and confirm\n",
        "df_ml['Item_Fat_Content'].replace(['LF', 'low fat'], ['Low Fat', 'Low Fat'], inplace=True)\n",
        "df_ml['Item_Fat_Content'].replace(['reg'], ['Regular'], inplace=True)\n",
        "df_ml['Item_Fat_Content'].value_counts()"
      ],
      "metadata": {
        "colab": {
          "base_uri": "https://localhost:8080/"
        },
        "id": "T0RWaUH5n-AQ",
        "outputId": "b7746068-5dfd-4df1-acca-6070e13afaef"
      },
      "execution_count": 78,
      "outputs": [
        {
          "output_type": "execute_result",
          "data": {
            "text/plain": [
              "Low Fat    5517\n",
              "Regular    3006\n",
              "Name: Item_Fat_Content, dtype: int64"
            ]
          },
          "metadata": {},
          "execution_count": 78
        }
      ]
    },
    {
      "cell_type": "code",
      "source": [
        "#check for inconsistencies 'Item_Type' [none]\n",
        "df_ml['Item_Type'].value_counts()"
      ],
      "metadata": {
        "colab": {
          "base_uri": "https://localhost:8080/"
        },
        "id": "guCe_I6coCX5",
        "outputId": "ef244060-d72b-4f62-d550-c63bf255b9ae"
      },
      "execution_count": 79,
      "outputs": [
        {
          "output_type": "execute_result",
          "data": {
            "text/plain": [
              "Fruits and Vegetables    1232\n",
              "Snack Foods              1200\n",
              "Household                 910\n",
              "Frozen Foods              856\n",
              "Dairy                     682\n",
              "Canned                    649\n",
              "Baking Goods              648\n",
              "Health and Hygiene        520\n",
              "Soft Drinks               445\n",
              "Meat                      425\n",
              "Breads                    251\n",
              "Hard Drinks               214\n",
              "Others                    169\n",
              "Starchy Foods             148\n",
              "Breakfast                 110\n",
              "Seafood                    64\n",
              "Name: Item_Type, dtype: int64"
            ]
          },
          "metadata": {},
          "execution_count": 79
        }
      ]
    },
    {
      "cell_type": "code",
      "source": [
        "#check for inconsistencies 'Outlet_Identifier' [none]\n",
        "df_ml['Outlet_Identifier'].value_counts()"
      ],
      "metadata": {
        "colab": {
          "base_uri": "https://localhost:8080/"
        },
        "id": "lUcuZSsmoGMK",
        "outputId": "589a0ed6-3e76-435d-acfe-272c7a33d58b"
      },
      "execution_count": 80,
      "outputs": [
        {
          "output_type": "execute_result",
          "data": {
            "text/plain": [
              "OUT027    935\n",
              "OUT013    932\n",
              "OUT049    930\n",
              "OUT046    930\n",
              "OUT035    930\n",
              "OUT045    929\n",
              "OUT018    928\n",
              "OUT017    926\n",
              "OUT010    555\n",
              "OUT019    528\n",
              "Name: Outlet_Identifier, dtype: int64"
            ]
          },
          "metadata": {},
          "execution_count": 80
        }
      ]
    },
    {
      "cell_type": "code",
      "source": [
        "#check for inconsistencies 'Outlet_Size' [none]\n",
        "df_ml['Outlet_Size'].value_counts()"
      ],
      "metadata": {
        "colab": {
          "base_uri": "https://localhost:8080/"
        },
        "id": "48DOus7voLMc",
        "outputId": "1cb3b0aa-c4e4-4cc5-c6fa-157ac3bd10ef"
      },
      "execution_count": 81,
      "outputs": [
        {
          "output_type": "execute_result",
          "data": {
            "text/plain": [
              "Medium    2793\n",
              "Small     2388\n",
              "High       932\n",
              "Name: Outlet_Size, dtype: int64"
            ]
          },
          "metadata": {},
          "execution_count": 81
        }
      ]
    },
    {
      "cell_type": "code",
      "source": [
        "#check for inconsistencies 'Outlet_Location_Type' [none]\n",
        "df_ml['Outlet_Location_Type'].value_counts()"
      ],
      "metadata": {
        "colab": {
          "base_uri": "https://localhost:8080/"
        },
        "id": "2zK-Ay8foNEl",
        "outputId": "5c470867-d39d-4b0b-9e61-bcc4773c21db"
      },
      "execution_count": 82,
      "outputs": [
        {
          "output_type": "execute_result",
          "data": {
            "text/plain": [
              "Tier 3    3350\n",
              "Tier 2    2785\n",
              "Tier 1    2388\n",
              "Name: Outlet_Location_Type, dtype: int64"
            ]
          },
          "metadata": {},
          "execution_count": 82
        }
      ]
    },
    {
      "cell_type": "code",
      "source": [
        "#check for inconsistencies 'Outlet_Type' [none]\n",
        "df_ml['Outlet_Type'].value_counts()"
      ],
      "metadata": {
        "colab": {
          "base_uri": "https://localhost:8080/"
        },
        "id": "c841zeEzoPeZ",
        "outputId": "e6697812-4cb4-4ef4-daa8-37b07bf8e5a3"
      },
      "execution_count": 83,
      "outputs": [
        {
          "output_type": "execute_result",
          "data": {
            "text/plain": [
              "Supermarket Type1    5577\n",
              "Grocery Store        1083\n",
              "Supermarket Type3     935\n",
              "Supermarket Type2     928\n",
              "Name: Outlet_Type, dtype: int64"
            ]
          },
          "metadata": {},
          "execution_count": 83
        }
      ]
    },
    {
      "cell_type": "markdown",
      "source": [
        "Outlet_Size and Outlet_Location_Type are ordinal categorical features."
      ],
      "metadata": {
        "id": "h2uQa_9CoppB"
      }
    },
    {
      "cell_type": "markdown",
      "source": [
        "## Split the data (X, y and train/test) (Validation Split)"
      ],
      "metadata": {
        "id": "vVwvCmkjpKIz"
      }
    },
    {
      "cell_type": "code",
      "source": [
        "# The target vector y is Item_Outlet_Sales, split X and y, dropping unnecessary features\n",
        "X = df_ml.drop(columns=['Item_Outlet_Sales', 'Item_Identifier', 'Outlet_Identifier', 'Outlet_Establishment_Year' ])\n",
        "y = df_ml['Item_Outlet_Sales']"
      ],
      "metadata": {
        "id": "NW5Pa0YopSCo"
      },
      "execution_count": 84,
      "outputs": []
    },
    {
      "cell_type": "code",
      "source": [
        "# split training and test\n",
        "# set random_state to 42 for reproducibility\n",
        "X_train, X_test, y_train, y_test = train_test_split(X, y, random_state=42)"
      ],
      "metadata": {
        "id": "ImxTJPhop5Uz"
      },
      "execution_count": 85,
      "outputs": []
    },
    {
      "cell_type": "markdown",
      "source": [
        "## Instantiate Transformers"
      ],
      "metadata": {
        "id": "GJRrT2i4rY4O"
      }
    },
    {
      "cell_type": "code",
      "source": [
        "#instantiate the StandardScaler, OneHotEncoder, OrdinalEncoder and Imputers\n",
        "scaler = StandardScaler()\n",
        "ohe = OneHotEncoder(sparse=False, handle_unknown='ignore')\n",
        "\n",
        "mean_imputer = SimpleImputer(strategy='mean')\n",
        "freq_imputer = SimpleImputer(strategy='most_frequent')"
      ],
      "metadata": {
        "id": "CnVfgAbcqavn"
      },
      "execution_count": 86,
      "outputs": []
    },
    {
      "cell_type": "code",
      "source": [
        "#create a list of ordinal labels, in order of least to most\n",
        "\n",
        "outlet_size_labels = ['Small', 'Medium', 'High']\n",
        "outlet_location_type_labels = ['Tier 1', 'Tier 2', 'Tier 3']\n",
        "\n",
        "#combine the ordered list in the order that the columns appear\n",
        "ordered_labels = [outlet_size_labels, outlet_location_type_labels]\n",
        " \n",
        "ordinal = OrdinalEncoder(categories = ordered_labels)"
      ],
      "metadata": {
        "id": "SHUpGqMPrpwN"
      },
      "execution_count": 87,
      "outputs": []
    },
    {
      "cell_type": "markdown",
      "source": [
        "## Create a Pipeline for Numeric Data and a Pipeline for Categorical Data"
      ],
      "metadata": {
        "id": "vcry8DvDs70q"
      }
    },
    {
      "cell_type": "code",
      "source": [
        "# Setup the pipelines for the numeric and categorical data\n",
        "\n",
        "num_pipeline = make_pipeline(mean_imputer, scaler)\n",
        "ord_pipeline = make_pipeline(freq_imputer, ordinal)\n",
        "nom_pipeline = make_pipeline(freq_imputer, ohe)"
      ],
      "metadata": {
        "id": "ujFmRjdys-S2"
      },
      "execution_count": 88,
      "outputs": []
    },
    {
      "cell_type": "markdown",
      "source": [
        "## Create Tuples to Pair Pipelines with Columns"
      ],
      "metadata": {
        "id": "g1qHV43-tdV3"
      }
    },
    {
      "cell_type": "code",
      "source": [
        "# Create column lists for objects and a number selector\n",
        "ordinal_cols = ['Outlet_Size', 'Outlet_Location_Type']\n",
        "nominal_cols = ['Item_Fat_Content', 'Item_Type', 'Outlet_Type']\n",
        "\n",
        "num_selector = make_column_selector(dtype_include='number')\n",
        "\n",
        "# Setup the tuples to pair the processors with the column selectors\n",
        "\n",
        "numeric_tuple = (num_pipeline, num_selector)\n",
        "ordinal_tuple = (ord_pipeline, ordinal_cols)\n",
        "nominal_tuple = (nom_pipeline, nominal_cols)"
      ],
      "metadata": {
        "id": "22XUkFnate1s"
      },
      "execution_count": 89,
      "outputs": []
    },
    {
      "cell_type": "markdown",
      "source": [
        "## Create the Column Transformer to Apply Different Preprocessing to Different Columns"
      ],
      "metadata": {
        "id": "ywhw-ffeuhUm"
      }
    },
    {
      "cell_type": "code",
      "source": [
        "# Instantiate the column transformer\n",
        "\n",
        "preprocessor = make_column_transformer(ordinal_tuple, \n",
        "                                          numeric_tuple, \n",
        "                                          nominal_tuple, \n",
        "                                          remainder='drop')"
      ],
      "metadata": {
        "id": "r8JQH988uiyH"
      },
      "execution_count": 90,
      "outputs": []
    },
    {
      "cell_type": "markdown",
      "source": [
        "## Fit the Column Transformer on the Training Data"
      ],
      "metadata": {
        "id": "HOxB7sQwvN0k"
      }
    },
    {
      "cell_type": "code",
      "source": [
        "# Fit the column transformer on the X_train\n",
        "\n",
        "preprocessor.fit(X_train)"
      ],
      "metadata": {
        "colab": {
          "base_uri": "https://localhost:8080/",
          "height": 152
        },
        "id": "-iMk0fsPvPU8",
        "outputId": "c59ae54a-4bd0-4a50-d9da-13c4dc72aa8f"
      },
      "execution_count": 91,
      "outputs": [
        {
          "output_type": "execute_result",
          "data": {
            "text/plain": [
              "ColumnTransformer(transformers=[('pipeline-1',\n",
              "                                 Pipeline(steps=[('simpleimputer',\n",
              "                                                  SimpleImputer(strategy='most_frequent')),\n",
              "                                                 ('ordinalencoder',\n",
              "                                                  OrdinalEncoder(categories=[['Small',\n",
              "                                                                              'Medium',\n",
              "                                                                              'High'],\n",
              "                                                                             ['Tier '\n",
              "                                                                              '1',\n",
              "                                                                              'Tier '\n",
              "                                                                              '2',\n",
              "                                                                              'Tier '\n",
              "                                                                              '3']]))]),\n",
              "                                 ['Outlet_Size', 'Outlet_Location_Type']),\n",
              "                                ('pipeline-2',\n",
              "                                 Pipeline(steps=[('simpleimputer',\n",
              "                                                  SimpleImputer()),\n",
              "                                                 ('standardscaler',\n",
              "                                                  StandardScaler())]),\n",
              "                                 <sklearn.compose._column_transformer.make_column_selector object at 0x7f7901837cd0>),\n",
              "                                ('pipeline-3',\n",
              "                                 Pipeline(steps=[('simpleimputer',\n",
              "                                                  SimpleImputer(strategy='most_frequent')),\n",
              "                                                 ('onehotencoder',\n",
              "                                                  OneHotEncoder(handle_unknown='ignore',\n",
              "                                                                sparse=False))]),\n",
              "                                 ['Item_Fat_Content', 'Item_Type',\n",
              "                                  'Outlet_Type'])])"
            ],
            "text/html": [
              "<style>#sk-0b09fcbf-6bcc-4c25-9f96-81e415e8fa1b {color: black;background-color: white;}#sk-0b09fcbf-6bcc-4c25-9f96-81e415e8fa1b pre{padding: 0;}#sk-0b09fcbf-6bcc-4c25-9f96-81e415e8fa1b div.sk-toggleable {background-color: white;}#sk-0b09fcbf-6bcc-4c25-9f96-81e415e8fa1b label.sk-toggleable__label {cursor: pointer;display: block;width: 100%;margin-bottom: 0;padding: 0.3em;box-sizing: border-box;text-align: center;}#sk-0b09fcbf-6bcc-4c25-9f96-81e415e8fa1b label.sk-toggleable__label-arrow:before {content: \"▸\";float: left;margin-right: 0.25em;color: #696969;}#sk-0b09fcbf-6bcc-4c25-9f96-81e415e8fa1b label.sk-toggleable__label-arrow:hover:before {color: black;}#sk-0b09fcbf-6bcc-4c25-9f96-81e415e8fa1b div.sk-estimator:hover label.sk-toggleable__label-arrow:before {color: black;}#sk-0b09fcbf-6bcc-4c25-9f96-81e415e8fa1b div.sk-toggleable__content {max-height: 0;max-width: 0;overflow: hidden;text-align: left;background-color: #f0f8ff;}#sk-0b09fcbf-6bcc-4c25-9f96-81e415e8fa1b div.sk-toggleable__content pre {margin: 0.2em;color: black;border-radius: 0.25em;background-color: #f0f8ff;}#sk-0b09fcbf-6bcc-4c25-9f96-81e415e8fa1b input.sk-toggleable__control:checked~div.sk-toggleable__content {max-height: 200px;max-width: 100%;overflow: auto;}#sk-0b09fcbf-6bcc-4c25-9f96-81e415e8fa1b input.sk-toggleable__control:checked~label.sk-toggleable__label-arrow:before {content: \"▾\";}#sk-0b09fcbf-6bcc-4c25-9f96-81e415e8fa1b div.sk-estimator input.sk-toggleable__control:checked~label.sk-toggleable__label {background-color: #d4ebff;}#sk-0b09fcbf-6bcc-4c25-9f96-81e415e8fa1b div.sk-label input.sk-toggleable__control:checked~label.sk-toggleable__label {background-color: #d4ebff;}#sk-0b09fcbf-6bcc-4c25-9f96-81e415e8fa1b input.sk-hidden--visually {border: 0;clip: rect(1px 1px 1px 1px);clip: rect(1px, 1px, 1px, 1px);height: 1px;margin: -1px;overflow: hidden;padding: 0;position: absolute;width: 1px;}#sk-0b09fcbf-6bcc-4c25-9f96-81e415e8fa1b div.sk-estimator {font-family: monospace;background-color: #f0f8ff;border: 1px dotted black;border-radius: 0.25em;box-sizing: border-box;margin-bottom: 0.5em;}#sk-0b09fcbf-6bcc-4c25-9f96-81e415e8fa1b div.sk-estimator:hover {background-color: #d4ebff;}#sk-0b09fcbf-6bcc-4c25-9f96-81e415e8fa1b div.sk-parallel-item::after {content: \"\";width: 100%;border-bottom: 1px solid gray;flex-grow: 1;}#sk-0b09fcbf-6bcc-4c25-9f96-81e415e8fa1b div.sk-label:hover label.sk-toggleable__label {background-color: #d4ebff;}#sk-0b09fcbf-6bcc-4c25-9f96-81e415e8fa1b div.sk-serial::before {content: \"\";position: absolute;border-left: 1px solid gray;box-sizing: border-box;top: 2em;bottom: 0;left: 50%;}#sk-0b09fcbf-6bcc-4c25-9f96-81e415e8fa1b div.sk-serial {display: flex;flex-direction: column;align-items: center;background-color: white;padding-right: 0.2em;padding-left: 0.2em;}#sk-0b09fcbf-6bcc-4c25-9f96-81e415e8fa1b div.sk-item {z-index: 1;}#sk-0b09fcbf-6bcc-4c25-9f96-81e415e8fa1b div.sk-parallel {display: flex;align-items: stretch;justify-content: center;background-color: white;}#sk-0b09fcbf-6bcc-4c25-9f96-81e415e8fa1b div.sk-parallel::before {content: \"\";position: absolute;border-left: 1px solid gray;box-sizing: border-box;top: 2em;bottom: 0;left: 50%;}#sk-0b09fcbf-6bcc-4c25-9f96-81e415e8fa1b div.sk-parallel-item {display: flex;flex-direction: column;position: relative;background-color: white;}#sk-0b09fcbf-6bcc-4c25-9f96-81e415e8fa1b div.sk-parallel-item:first-child::after {align-self: flex-end;width: 50%;}#sk-0b09fcbf-6bcc-4c25-9f96-81e415e8fa1b div.sk-parallel-item:last-child::after {align-self: flex-start;width: 50%;}#sk-0b09fcbf-6bcc-4c25-9f96-81e415e8fa1b div.sk-parallel-item:only-child::after {width: 0;}#sk-0b09fcbf-6bcc-4c25-9f96-81e415e8fa1b div.sk-dashed-wrapped {border: 1px dashed gray;margin: 0 0.4em 0.5em 0.4em;box-sizing: border-box;padding-bottom: 0.4em;background-color: white;position: relative;}#sk-0b09fcbf-6bcc-4c25-9f96-81e415e8fa1b div.sk-label label {font-family: monospace;font-weight: bold;background-color: white;display: inline-block;line-height: 1.2em;}#sk-0b09fcbf-6bcc-4c25-9f96-81e415e8fa1b div.sk-label-container {position: relative;z-index: 2;text-align: center;}#sk-0b09fcbf-6bcc-4c25-9f96-81e415e8fa1b div.sk-container {/* jupyter's `normalize.less` sets `[hidden] { display: none; }` but bootstrap.min.css set `[hidden] { display: none !important; }` so we also need the `!important` here to be able to override the default hidden behavior on the sphinx rendered scikit-learn.org. See: https://github.com/scikit-learn/scikit-learn/issues/21755 */display: inline-block !important;position: relative;}#sk-0b09fcbf-6bcc-4c25-9f96-81e415e8fa1b div.sk-text-repr-fallback {display: none;}</style><div id=\"sk-0b09fcbf-6bcc-4c25-9f96-81e415e8fa1b\" class=\"sk-top-container\"><div class=\"sk-text-repr-fallback\"><pre>ColumnTransformer(transformers=[(&#x27;pipeline-1&#x27;,\n",
              "                                 Pipeline(steps=[(&#x27;simpleimputer&#x27;,\n",
              "                                                  SimpleImputer(strategy=&#x27;most_frequent&#x27;)),\n",
              "                                                 (&#x27;ordinalencoder&#x27;,\n",
              "                                                  OrdinalEncoder(categories=[[&#x27;Small&#x27;,\n",
              "                                                                              &#x27;Medium&#x27;,\n",
              "                                                                              &#x27;High&#x27;],\n",
              "                                                                             [&#x27;Tier &#x27;\n",
              "                                                                              &#x27;1&#x27;,\n",
              "                                                                              &#x27;Tier &#x27;\n",
              "                                                                              &#x27;2&#x27;,\n",
              "                                                                              &#x27;Tier &#x27;\n",
              "                                                                              &#x27;3&#x27;]]))]),\n",
              "                                 [&#x27;Outlet_Size&#x27;, &#x27;Outlet_Location_Type&#x27;]),\n",
              "                                (&#x27;pipeline-2&#x27;,\n",
              "                                 Pipeline(steps=[(&#x27;simpleimputer&#x27;,\n",
              "                                                  SimpleImputer()),\n",
              "                                                 (&#x27;standardscaler&#x27;,\n",
              "                                                  StandardScaler())]),\n",
              "                                 &lt;sklearn.compose._column_transformer.make_column_selector object at 0x7f7901837cd0&gt;),\n",
              "                                (&#x27;pipeline-3&#x27;,\n",
              "                                 Pipeline(steps=[(&#x27;simpleimputer&#x27;,\n",
              "                                                  SimpleImputer(strategy=&#x27;most_frequent&#x27;)),\n",
              "                                                 (&#x27;onehotencoder&#x27;,\n",
              "                                                  OneHotEncoder(handle_unknown=&#x27;ignore&#x27;,\n",
              "                                                                sparse=False))]),\n",
              "                                 [&#x27;Item_Fat_Content&#x27;, &#x27;Item_Type&#x27;,\n",
              "                                  &#x27;Outlet_Type&#x27;])])</pre><b>Please rerun this cell to show the HTML repr or trust the notebook.</b></div><div class=\"sk-container\" hidden><div class=\"sk-item sk-dashed-wrapped\"><div class=\"sk-label-container\"><div class=\"sk-label sk-toggleable\"><input class=\"sk-toggleable__control sk-hidden--visually\" id=\"97d1308f-6c70-4f19-a405-994d6c7ac029\" type=\"checkbox\" ><label for=\"97d1308f-6c70-4f19-a405-994d6c7ac029\" class=\"sk-toggleable__label sk-toggleable__label-arrow\">ColumnTransformer</label><div class=\"sk-toggleable__content\"><pre>ColumnTransformer(transformers=[(&#x27;pipeline-1&#x27;,\n",
              "                                 Pipeline(steps=[(&#x27;simpleimputer&#x27;,\n",
              "                                                  SimpleImputer(strategy=&#x27;most_frequent&#x27;)),\n",
              "                                                 (&#x27;ordinalencoder&#x27;,\n",
              "                                                  OrdinalEncoder(categories=[[&#x27;Small&#x27;,\n",
              "                                                                              &#x27;Medium&#x27;,\n",
              "                                                                              &#x27;High&#x27;],\n",
              "                                                                             [&#x27;Tier &#x27;\n",
              "                                                                              &#x27;1&#x27;,\n",
              "                                                                              &#x27;Tier &#x27;\n",
              "                                                                              &#x27;2&#x27;,\n",
              "                                                                              &#x27;Tier &#x27;\n",
              "                                                                              &#x27;3&#x27;]]))]),\n",
              "                                 [&#x27;Outlet_Size&#x27;, &#x27;Outlet_Location_Type&#x27;]),\n",
              "                                (&#x27;pipeline-2&#x27;,\n",
              "                                 Pipeline(steps=[(&#x27;simpleimputer&#x27;,\n",
              "                                                  SimpleImputer()),\n",
              "                                                 (&#x27;standardscaler&#x27;,\n",
              "                                                  StandardScaler())]),\n",
              "                                 &lt;sklearn.compose._column_transformer.make_column_selector object at 0x7f7901837cd0&gt;),\n",
              "                                (&#x27;pipeline-3&#x27;,\n",
              "                                 Pipeline(steps=[(&#x27;simpleimputer&#x27;,\n",
              "                                                  SimpleImputer(strategy=&#x27;most_frequent&#x27;)),\n",
              "                                                 (&#x27;onehotencoder&#x27;,\n",
              "                                                  OneHotEncoder(handle_unknown=&#x27;ignore&#x27;,\n",
              "                                                                sparse=False))]),\n",
              "                                 [&#x27;Item_Fat_Content&#x27;, &#x27;Item_Type&#x27;,\n",
              "                                  &#x27;Outlet_Type&#x27;])])</pre></div></div></div><div class=\"sk-parallel\"><div class=\"sk-parallel-item\"><div class=\"sk-item\"><div class=\"sk-label-container\"><div class=\"sk-label sk-toggleable\"><input class=\"sk-toggleable__control sk-hidden--visually\" id=\"f63f66f0-4fa0-427c-9e34-91209fc0f1fb\" type=\"checkbox\" ><label for=\"f63f66f0-4fa0-427c-9e34-91209fc0f1fb\" class=\"sk-toggleable__label sk-toggleable__label-arrow\">pipeline-1</label><div class=\"sk-toggleable__content\"><pre>[&#x27;Outlet_Size&#x27;, &#x27;Outlet_Location_Type&#x27;]</pre></div></div></div><div class=\"sk-serial\"><div class=\"sk-item\"><div class=\"sk-serial\"><div class=\"sk-item\"><div class=\"sk-estimator sk-toggleable\"><input class=\"sk-toggleable__control sk-hidden--visually\" id=\"4913e540-3941-49e3-8c26-de3ccb1ddbd4\" type=\"checkbox\" ><label for=\"4913e540-3941-49e3-8c26-de3ccb1ddbd4\" class=\"sk-toggleable__label sk-toggleable__label-arrow\">SimpleImputer</label><div class=\"sk-toggleable__content\"><pre>SimpleImputer(strategy=&#x27;most_frequent&#x27;)</pre></div></div></div><div class=\"sk-item\"><div class=\"sk-estimator sk-toggleable\"><input class=\"sk-toggleable__control sk-hidden--visually\" id=\"88fe8508-e689-4dcc-9eeb-b1f134506b1d\" type=\"checkbox\" ><label for=\"88fe8508-e689-4dcc-9eeb-b1f134506b1d\" class=\"sk-toggleable__label sk-toggleable__label-arrow\">OrdinalEncoder</label><div class=\"sk-toggleable__content\"><pre>OrdinalEncoder(categories=[[&#x27;Small&#x27;, &#x27;Medium&#x27;, &#x27;High&#x27;],\n",
              "                           [&#x27;Tier 1&#x27;, &#x27;Tier 2&#x27;, &#x27;Tier 3&#x27;]])</pre></div></div></div></div></div></div></div></div><div class=\"sk-parallel-item\"><div class=\"sk-item\"><div class=\"sk-label-container\"><div class=\"sk-label sk-toggleable\"><input class=\"sk-toggleable__control sk-hidden--visually\" id=\"216d596b-c261-48f6-ad77-de641d648ab2\" type=\"checkbox\" ><label for=\"216d596b-c261-48f6-ad77-de641d648ab2\" class=\"sk-toggleable__label sk-toggleable__label-arrow\">pipeline-2</label><div class=\"sk-toggleable__content\"><pre>&lt;sklearn.compose._column_transformer.make_column_selector object at 0x7f7901837cd0&gt;</pre></div></div></div><div class=\"sk-serial\"><div class=\"sk-item\"><div class=\"sk-serial\"><div class=\"sk-item\"><div class=\"sk-estimator sk-toggleable\"><input class=\"sk-toggleable__control sk-hidden--visually\" id=\"188f507e-de92-425f-8493-1af913ab8e42\" type=\"checkbox\" ><label for=\"188f507e-de92-425f-8493-1af913ab8e42\" class=\"sk-toggleable__label sk-toggleable__label-arrow\">SimpleImputer</label><div class=\"sk-toggleable__content\"><pre>SimpleImputer()</pre></div></div></div><div class=\"sk-item\"><div class=\"sk-estimator sk-toggleable\"><input class=\"sk-toggleable__control sk-hidden--visually\" id=\"7376e480-c44d-4679-8ffc-284bfe2b8419\" type=\"checkbox\" ><label for=\"7376e480-c44d-4679-8ffc-284bfe2b8419\" class=\"sk-toggleable__label sk-toggleable__label-arrow\">StandardScaler</label><div class=\"sk-toggleable__content\"><pre>StandardScaler()</pre></div></div></div></div></div></div></div></div><div class=\"sk-parallel-item\"><div class=\"sk-item\"><div class=\"sk-label-container\"><div class=\"sk-label sk-toggleable\"><input class=\"sk-toggleable__control sk-hidden--visually\" id=\"4076aa9e-6a1e-4835-8e27-93721aeda907\" type=\"checkbox\" ><label for=\"4076aa9e-6a1e-4835-8e27-93721aeda907\" class=\"sk-toggleable__label sk-toggleable__label-arrow\">pipeline-3</label><div class=\"sk-toggleable__content\"><pre>[&#x27;Item_Fat_Content&#x27;, &#x27;Item_Type&#x27;, &#x27;Outlet_Type&#x27;]</pre></div></div></div><div class=\"sk-serial\"><div class=\"sk-item\"><div class=\"sk-serial\"><div class=\"sk-item\"><div class=\"sk-estimator sk-toggleable\"><input class=\"sk-toggleable__control sk-hidden--visually\" id=\"50092a7e-8f6e-4714-85cf-7d730301aa53\" type=\"checkbox\" ><label for=\"50092a7e-8f6e-4714-85cf-7d730301aa53\" class=\"sk-toggleable__label sk-toggleable__label-arrow\">SimpleImputer</label><div class=\"sk-toggleable__content\"><pre>SimpleImputer(strategy=&#x27;most_frequent&#x27;)</pre></div></div></div><div class=\"sk-item\"><div class=\"sk-estimator sk-toggleable\"><input class=\"sk-toggleable__control sk-hidden--visually\" id=\"fba37a7c-d165-4ebc-9274-6054d7ee0c5d\" type=\"checkbox\" ><label for=\"fba37a7c-d165-4ebc-9274-6054d7ee0c5d\" class=\"sk-toggleable__label sk-toggleable__label-arrow\">OneHotEncoder</label><div class=\"sk-toggleable__content\"><pre>OneHotEncoder(handle_unknown=&#x27;ignore&#x27;, sparse=False)</pre></div></div></div></div></div></div></div></div></div></div></div></div>"
            ]
          },
          "metadata": {},
          "execution_count": 91
        }
      ]
    },
    {
      "cell_type": "markdown",
      "source": [
        "## Transform Both the Training and Testing Data"
      ],
      "metadata": {
        "id": "jK_ANic5vjmI"
      }
    },
    {
      "cell_type": "code",
      "source": [
        "# Transform the X_train data and the X_test data\n",
        "\n",
        "X_train_transformed = preprocessor.transform(X_train)\n",
        "\n",
        "X_test_transformed = preprocessor.transform(X_test)"
      ],
      "metadata": {
        "id": "yZ-Db19xvoeo"
      },
      "execution_count": 92,
      "outputs": []
    },
    {
      "cell_type": "markdown",
      "source": [
        "## Display the Results"
      ],
      "metadata": {
        "id": "v4SOL8pRvwtQ"
      }
    },
    {
      "cell_type": "code",
      "source": [
        "X_train_transformed"
      ],
      "metadata": {
        "colab": {
          "base_uri": "https://localhost:8080/"
        },
        "id": "74CssO9YvzUL",
        "outputId": "d633ea84-ce75-4521-9fdb-8d2ec121d581"
      },
      "execution_count": 93,
      "outputs": [
        {
          "output_type": "execute_result",
          "data": {
            "text/plain": [
              "array([[ 1.        ,  2.        ,  0.81724868, ...,  0.        ,\n",
              "         1.        ,  0.        ],\n",
              "       [ 1.        ,  2.        ,  0.5563395 , ...,  0.        ,\n",
              "         1.        ,  0.        ],\n",
              "       [ 1.        ,  0.        , -0.13151196, ...,  1.        ,\n",
              "         0.        ,  0.        ],\n",
              "       ...,\n",
              "       [ 1.        ,  1.        ,  1.11373638, ...,  1.        ,\n",
              "         0.        ,  0.        ],\n",
              "       [ 1.        ,  1.        ,  1.76600931, ...,  1.        ,\n",
              "         0.        ,  0.        ],\n",
              "       [ 0.        ,  0.        ,  0.81724868, ...,  1.        ,\n",
              "         0.        ,  0.        ]])"
            ]
          },
          "metadata": {},
          "execution_count": 93
        }
      ]
    },
    {
      "cell_type": "markdown",
      "source": [
        "## **Comparison of Two Models:**"
      ],
      "metadata": {
        "id": "H3OAJ_nJFuNe"
      }
    },
    {
      "cell_type": "markdown",
      "source": [
        "The following function provides the evaluation metrics for any model:"
      ],
      "metadata": {
        "id": "dShYEKeGFdyS"
      }
    },
    {
      "cell_type": "code",
      "source": [
        "def eval_regression(true, pred):\n",
        "  \"\"\"Takes true and predicted values (arrays) and prints MAE, MSE, RMSE and R2\"\"\"\n",
        "  mae = mean_absolute_error(true, pred)\n",
        "  mse = mean_squared_error(true, pred)\n",
        "  rmse = np.sqrt(mse)\n",
        "  r2 = r2_score(true, pred)\n",
        "\n",
        "  print(f'MAE {mae},\\n MSE {mse},\\n RMSE: {rmse},\\n R^2: {r2} ')"
      ],
      "metadata": {
        "id": "afDYg0Hixzvh"
      },
      "execution_count": 94,
      "outputs": []
    },
    {
      "cell_type": "markdown",
      "source": [
        "## Linear Regression Model to Predict Sales"
      ],
      "metadata": {
        "id": "zc1gGTaWF-Lo"
      }
    },
    {
      "cell_type": "markdown",
      "source": [
        "Here we instantiate and fit the model, also using the preprocessor from above:"
      ],
      "metadata": {
        "id": "Tb9An4JQxf5j"
      }
    },
    {
      "cell_type": "code",
      "source": [
        "# instantiate a linear regression model\n",
        "lin_reg = LinearRegression()\n",
        "\n",
        "# create linear regression model pipeline\n",
        "lr_pipe = make_pipeline(preprocessor, lin_reg)\n",
        "\n",
        "# fit on the training data\n",
        "lr_pipe.fit(X_train, y_train)"
      ],
      "metadata": {
        "colab": {
          "base_uri": "https://localhost:8080/",
          "height": 227
        },
        "id": "ckH7skwCx8L2",
        "outputId": "c5721ab2-1924-4dbe-bbaf-43487c8156b7"
      },
      "execution_count": 95,
      "outputs": [
        {
          "output_type": "execute_result",
          "data": {
            "text/plain": [
              "Pipeline(steps=[('columntransformer',\n",
              "                 ColumnTransformer(transformers=[('pipeline-1',\n",
              "                                                  Pipeline(steps=[('simpleimputer',\n",
              "                                                                   SimpleImputer(strategy='most_frequent')),\n",
              "                                                                  ('ordinalencoder',\n",
              "                                                                   OrdinalEncoder(categories=[['Small',\n",
              "                                                                                               'Medium',\n",
              "                                                                                               'High'],\n",
              "                                                                                              ['Tier '\n",
              "                                                                                               '1',\n",
              "                                                                                               'Tier '\n",
              "                                                                                               '2',\n",
              "                                                                                               'Tier '\n",
              "                                                                                               '3']]))]),\n",
              "                                                  ['Outlet_Size',\n",
              "                                                   'Outlet_Location_Type']),\n",
              "                                                 ('pipeline-2',\n",
              "                                                  Pipeline(steps=[('simpleimputer...\n",
              "                                                                   StandardScaler())]),\n",
              "                                                  <sklearn.compose._column_transformer.make_column_selector object at 0x7f7901837cd0>),\n",
              "                                                 ('pipeline-3',\n",
              "                                                  Pipeline(steps=[('simpleimputer',\n",
              "                                                                   SimpleImputer(strategy='most_frequent')),\n",
              "                                                                  ('onehotencoder',\n",
              "                                                                   OneHotEncoder(handle_unknown='ignore',\n",
              "                                                                                 sparse=False))]),\n",
              "                                                  ['Item_Fat_Content',\n",
              "                                                   'Item_Type',\n",
              "                                                   'Outlet_Type'])])),\n",
              "                ('linearregression', LinearRegression())])"
            ],
            "text/html": [
              "<style>#sk-c80d4ca7-1d08-45d1-b2ee-504af31b6ccf {color: black;background-color: white;}#sk-c80d4ca7-1d08-45d1-b2ee-504af31b6ccf pre{padding: 0;}#sk-c80d4ca7-1d08-45d1-b2ee-504af31b6ccf div.sk-toggleable {background-color: white;}#sk-c80d4ca7-1d08-45d1-b2ee-504af31b6ccf label.sk-toggleable__label {cursor: pointer;display: block;width: 100%;margin-bottom: 0;padding: 0.3em;box-sizing: border-box;text-align: center;}#sk-c80d4ca7-1d08-45d1-b2ee-504af31b6ccf label.sk-toggleable__label-arrow:before {content: \"▸\";float: left;margin-right: 0.25em;color: #696969;}#sk-c80d4ca7-1d08-45d1-b2ee-504af31b6ccf label.sk-toggleable__label-arrow:hover:before {color: black;}#sk-c80d4ca7-1d08-45d1-b2ee-504af31b6ccf div.sk-estimator:hover label.sk-toggleable__label-arrow:before {color: black;}#sk-c80d4ca7-1d08-45d1-b2ee-504af31b6ccf div.sk-toggleable__content {max-height: 0;max-width: 0;overflow: hidden;text-align: left;background-color: #f0f8ff;}#sk-c80d4ca7-1d08-45d1-b2ee-504af31b6ccf div.sk-toggleable__content pre {margin: 0.2em;color: black;border-radius: 0.25em;background-color: #f0f8ff;}#sk-c80d4ca7-1d08-45d1-b2ee-504af31b6ccf input.sk-toggleable__control:checked~div.sk-toggleable__content {max-height: 200px;max-width: 100%;overflow: auto;}#sk-c80d4ca7-1d08-45d1-b2ee-504af31b6ccf input.sk-toggleable__control:checked~label.sk-toggleable__label-arrow:before {content: \"▾\";}#sk-c80d4ca7-1d08-45d1-b2ee-504af31b6ccf div.sk-estimator input.sk-toggleable__control:checked~label.sk-toggleable__label {background-color: #d4ebff;}#sk-c80d4ca7-1d08-45d1-b2ee-504af31b6ccf div.sk-label input.sk-toggleable__control:checked~label.sk-toggleable__label {background-color: #d4ebff;}#sk-c80d4ca7-1d08-45d1-b2ee-504af31b6ccf input.sk-hidden--visually {border: 0;clip: rect(1px 1px 1px 1px);clip: rect(1px, 1px, 1px, 1px);height: 1px;margin: -1px;overflow: hidden;padding: 0;position: absolute;width: 1px;}#sk-c80d4ca7-1d08-45d1-b2ee-504af31b6ccf div.sk-estimator {font-family: monospace;background-color: #f0f8ff;border: 1px dotted black;border-radius: 0.25em;box-sizing: border-box;margin-bottom: 0.5em;}#sk-c80d4ca7-1d08-45d1-b2ee-504af31b6ccf div.sk-estimator:hover {background-color: #d4ebff;}#sk-c80d4ca7-1d08-45d1-b2ee-504af31b6ccf div.sk-parallel-item::after {content: \"\";width: 100%;border-bottom: 1px solid gray;flex-grow: 1;}#sk-c80d4ca7-1d08-45d1-b2ee-504af31b6ccf div.sk-label:hover label.sk-toggleable__label {background-color: #d4ebff;}#sk-c80d4ca7-1d08-45d1-b2ee-504af31b6ccf div.sk-serial::before {content: \"\";position: absolute;border-left: 1px solid gray;box-sizing: border-box;top: 2em;bottom: 0;left: 50%;}#sk-c80d4ca7-1d08-45d1-b2ee-504af31b6ccf div.sk-serial {display: flex;flex-direction: column;align-items: center;background-color: white;padding-right: 0.2em;padding-left: 0.2em;}#sk-c80d4ca7-1d08-45d1-b2ee-504af31b6ccf div.sk-item {z-index: 1;}#sk-c80d4ca7-1d08-45d1-b2ee-504af31b6ccf div.sk-parallel {display: flex;align-items: stretch;justify-content: center;background-color: white;}#sk-c80d4ca7-1d08-45d1-b2ee-504af31b6ccf div.sk-parallel::before {content: \"\";position: absolute;border-left: 1px solid gray;box-sizing: border-box;top: 2em;bottom: 0;left: 50%;}#sk-c80d4ca7-1d08-45d1-b2ee-504af31b6ccf div.sk-parallel-item {display: flex;flex-direction: column;position: relative;background-color: white;}#sk-c80d4ca7-1d08-45d1-b2ee-504af31b6ccf div.sk-parallel-item:first-child::after {align-self: flex-end;width: 50%;}#sk-c80d4ca7-1d08-45d1-b2ee-504af31b6ccf div.sk-parallel-item:last-child::after {align-self: flex-start;width: 50%;}#sk-c80d4ca7-1d08-45d1-b2ee-504af31b6ccf div.sk-parallel-item:only-child::after {width: 0;}#sk-c80d4ca7-1d08-45d1-b2ee-504af31b6ccf div.sk-dashed-wrapped {border: 1px dashed gray;margin: 0 0.4em 0.5em 0.4em;box-sizing: border-box;padding-bottom: 0.4em;background-color: white;position: relative;}#sk-c80d4ca7-1d08-45d1-b2ee-504af31b6ccf div.sk-label label {font-family: monospace;font-weight: bold;background-color: white;display: inline-block;line-height: 1.2em;}#sk-c80d4ca7-1d08-45d1-b2ee-504af31b6ccf div.sk-label-container {position: relative;z-index: 2;text-align: center;}#sk-c80d4ca7-1d08-45d1-b2ee-504af31b6ccf div.sk-container {/* jupyter's `normalize.less` sets `[hidden] { display: none; }` but bootstrap.min.css set `[hidden] { display: none !important; }` so we also need the `!important` here to be able to override the default hidden behavior on the sphinx rendered scikit-learn.org. See: https://github.com/scikit-learn/scikit-learn/issues/21755 */display: inline-block !important;position: relative;}#sk-c80d4ca7-1d08-45d1-b2ee-504af31b6ccf div.sk-text-repr-fallback {display: none;}</style><div id=\"sk-c80d4ca7-1d08-45d1-b2ee-504af31b6ccf\" class=\"sk-top-container\"><div class=\"sk-text-repr-fallback\"><pre>Pipeline(steps=[(&#x27;columntransformer&#x27;,\n",
              "                 ColumnTransformer(transformers=[(&#x27;pipeline-1&#x27;,\n",
              "                                                  Pipeline(steps=[(&#x27;simpleimputer&#x27;,\n",
              "                                                                   SimpleImputer(strategy=&#x27;most_frequent&#x27;)),\n",
              "                                                                  (&#x27;ordinalencoder&#x27;,\n",
              "                                                                   OrdinalEncoder(categories=[[&#x27;Small&#x27;,\n",
              "                                                                                               &#x27;Medium&#x27;,\n",
              "                                                                                               &#x27;High&#x27;],\n",
              "                                                                                              [&#x27;Tier &#x27;\n",
              "                                                                                               &#x27;1&#x27;,\n",
              "                                                                                               &#x27;Tier &#x27;\n",
              "                                                                                               &#x27;2&#x27;,\n",
              "                                                                                               &#x27;Tier &#x27;\n",
              "                                                                                               &#x27;3&#x27;]]))]),\n",
              "                                                  [&#x27;Outlet_Size&#x27;,\n",
              "                                                   &#x27;Outlet_Location_Type&#x27;]),\n",
              "                                                 (&#x27;pipeline-2&#x27;,\n",
              "                                                  Pipeline(steps=[(&#x27;simpleimputer...\n",
              "                                                                   StandardScaler())]),\n",
              "                                                  &lt;sklearn.compose._column_transformer.make_column_selector object at 0x7f7901837cd0&gt;),\n",
              "                                                 (&#x27;pipeline-3&#x27;,\n",
              "                                                  Pipeline(steps=[(&#x27;simpleimputer&#x27;,\n",
              "                                                                   SimpleImputer(strategy=&#x27;most_frequent&#x27;)),\n",
              "                                                                  (&#x27;onehotencoder&#x27;,\n",
              "                                                                   OneHotEncoder(handle_unknown=&#x27;ignore&#x27;,\n",
              "                                                                                 sparse=False))]),\n",
              "                                                  [&#x27;Item_Fat_Content&#x27;,\n",
              "                                                   &#x27;Item_Type&#x27;,\n",
              "                                                   &#x27;Outlet_Type&#x27;])])),\n",
              "                (&#x27;linearregression&#x27;, LinearRegression())])</pre><b>Please rerun this cell to show the HTML repr or trust the notebook.</b></div><div class=\"sk-container\" hidden><div class=\"sk-item sk-dashed-wrapped\"><div class=\"sk-label-container\"><div class=\"sk-label sk-toggleable\"><input class=\"sk-toggleable__control sk-hidden--visually\" id=\"0bcad0d7-f5e3-41f5-949e-c2999f575b10\" type=\"checkbox\" ><label for=\"0bcad0d7-f5e3-41f5-949e-c2999f575b10\" class=\"sk-toggleable__label sk-toggleable__label-arrow\">Pipeline</label><div class=\"sk-toggleable__content\"><pre>Pipeline(steps=[(&#x27;columntransformer&#x27;,\n",
              "                 ColumnTransformer(transformers=[(&#x27;pipeline-1&#x27;,\n",
              "                                                  Pipeline(steps=[(&#x27;simpleimputer&#x27;,\n",
              "                                                                   SimpleImputer(strategy=&#x27;most_frequent&#x27;)),\n",
              "                                                                  (&#x27;ordinalencoder&#x27;,\n",
              "                                                                   OrdinalEncoder(categories=[[&#x27;Small&#x27;,\n",
              "                                                                                               &#x27;Medium&#x27;,\n",
              "                                                                                               &#x27;High&#x27;],\n",
              "                                                                                              [&#x27;Tier &#x27;\n",
              "                                                                                               &#x27;1&#x27;,\n",
              "                                                                                               &#x27;Tier &#x27;\n",
              "                                                                                               &#x27;2&#x27;,\n",
              "                                                                                               &#x27;Tier &#x27;\n",
              "                                                                                               &#x27;3&#x27;]]))]),\n",
              "                                                  [&#x27;Outlet_Size&#x27;,\n",
              "                                                   &#x27;Outlet_Location_Type&#x27;]),\n",
              "                                                 (&#x27;pipeline-2&#x27;,\n",
              "                                                  Pipeline(steps=[(&#x27;simpleimputer...\n",
              "                                                                   StandardScaler())]),\n",
              "                                                  &lt;sklearn.compose._column_transformer.make_column_selector object at 0x7f7901837cd0&gt;),\n",
              "                                                 (&#x27;pipeline-3&#x27;,\n",
              "                                                  Pipeline(steps=[(&#x27;simpleimputer&#x27;,\n",
              "                                                                   SimpleImputer(strategy=&#x27;most_frequent&#x27;)),\n",
              "                                                                  (&#x27;onehotencoder&#x27;,\n",
              "                                                                   OneHotEncoder(handle_unknown=&#x27;ignore&#x27;,\n",
              "                                                                                 sparse=False))]),\n",
              "                                                  [&#x27;Item_Fat_Content&#x27;,\n",
              "                                                   &#x27;Item_Type&#x27;,\n",
              "                                                   &#x27;Outlet_Type&#x27;])])),\n",
              "                (&#x27;linearregression&#x27;, LinearRegression())])</pre></div></div></div><div class=\"sk-serial\"><div class=\"sk-item sk-dashed-wrapped\"><div class=\"sk-label-container\"><div class=\"sk-label sk-toggleable\"><input class=\"sk-toggleable__control sk-hidden--visually\" id=\"12b260d3-0211-471c-ac6c-6e5f876738b8\" type=\"checkbox\" ><label for=\"12b260d3-0211-471c-ac6c-6e5f876738b8\" class=\"sk-toggleable__label sk-toggleable__label-arrow\">columntransformer: ColumnTransformer</label><div class=\"sk-toggleable__content\"><pre>ColumnTransformer(transformers=[(&#x27;pipeline-1&#x27;,\n",
              "                                 Pipeline(steps=[(&#x27;simpleimputer&#x27;,\n",
              "                                                  SimpleImputer(strategy=&#x27;most_frequent&#x27;)),\n",
              "                                                 (&#x27;ordinalencoder&#x27;,\n",
              "                                                  OrdinalEncoder(categories=[[&#x27;Small&#x27;,\n",
              "                                                                              &#x27;Medium&#x27;,\n",
              "                                                                              &#x27;High&#x27;],\n",
              "                                                                             [&#x27;Tier &#x27;\n",
              "                                                                              &#x27;1&#x27;,\n",
              "                                                                              &#x27;Tier &#x27;\n",
              "                                                                              &#x27;2&#x27;,\n",
              "                                                                              &#x27;Tier &#x27;\n",
              "                                                                              &#x27;3&#x27;]]))]),\n",
              "                                 [&#x27;Outlet_Size&#x27;, &#x27;Outlet_Location_Type&#x27;]),\n",
              "                                (&#x27;pipeline-2&#x27;,\n",
              "                                 Pipeline(steps=[(&#x27;simpleimputer&#x27;,\n",
              "                                                  SimpleImputer()),\n",
              "                                                 (&#x27;standardscaler&#x27;,\n",
              "                                                  StandardScaler())]),\n",
              "                                 &lt;sklearn.compose._column_transformer.make_column_selector object at 0x7f7901837cd0&gt;),\n",
              "                                (&#x27;pipeline-3&#x27;,\n",
              "                                 Pipeline(steps=[(&#x27;simpleimputer&#x27;,\n",
              "                                                  SimpleImputer(strategy=&#x27;most_frequent&#x27;)),\n",
              "                                                 (&#x27;onehotencoder&#x27;,\n",
              "                                                  OneHotEncoder(handle_unknown=&#x27;ignore&#x27;,\n",
              "                                                                sparse=False))]),\n",
              "                                 [&#x27;Item_Fat_Content&#x27;, &#x27;Item_Type&#x27;,\n",
              "                                  &#x27;Outlet_Type&#x27;])])</pre></div></div></div><div class=\"sk-parallel\"><div class=\"sk-parallel-item\"><div class=\"sk-item\"><div class=\"sk-label-container\"><div class=\"sk-label sk-toggleable\"><input class=\"sk-toggleable__control sk-hidden--visually\" id=\"6a105bdb-6573-40ad-b757-739df7b07cf6\" type=\"checkbox\" ><label for=\"6a105bdb-6573-40ad-b757-739df7b07cf6\" class=\"sk-toggleable__label sk-toggleable__label-arrow\">pipeline-1</label><div class=\"sk-toggleable__content\"><pre>[&#x27;Outlet_Size&#x27;, &#x27;Outlet_Location_Type&#x27;]</pre></div></div></div><div class=\"sk-serial\"><div class=\"sk-item\"><div class=\"sk-serial\"><div class=\"sk-item\"><div class=\"sk-estimator sk-toggleable\"><input class=\"sk-toggleable__control sk-hidden--visually\" id=\"5a69b035-c61f-4481-b6fc-eee9aac46ce0\" type=\"checkbox\" ><label for=\"5a69b035-c61f-4481-b6fc-eee9aac46ce0\" class=\"sk-toggleable__label sk-toggleable__label-arrow\">SimpleImputer</label><div class=\"sk-toggleable__content\"><pre>SimpleImputer(strategy=&#x27;most_frequent&#x27;)</pre></div></div></div><div class=\"sk-item\"><div class=\"sk-estimator sk-toggleable\"><input class=\"sk-toggleable__control sk-hidden--visually\" id=\"0bb6f0cd-9ff4-46b8-b4f8-c72b46a7034d\" type=\"checkbox\" ><label for=\"0bb6f0cd-9ff4-46b8-b4f8-c72b46a7034d\" class=\"sk-toggleable__label sk-toggleable__label-arrow\">OrdinalEncoder</label><div class=\"sk-toggleable__content\"><pre>OrdinalEncoder(categories=[[&#x27;Small&#x27;, &#x27;Medium&#x27;, &#x27;High&#x27;],\n",
              "                           [&#x27;Tier 1&#x27;, &#x27;Tier 2&#x27;, &#x27;Tier 3&#x27;]])</pre></div></div></div></div></div></div></div></div><div class=\"sk-parallel-item\"><div class=\"sk-item\"><div class=\"sk-label-container\"><div class=\"sk-label sk-toggleable\"><input class=\"sk-toggleable__control sk-hidden--visually\" id=\"aba5f24b-e89a-470a-b50c-9ce58ce9bba6\" type=\"checkbox\" ><label for=\"aba5f24b-e89a-470a-b50c-9ce58ce9bba6\" class=\"sk-toggleable__label sk-toggleable__label-arrow\">pipeline-2</label><div class=\"sk-toggleable__content\"><pre>&lt;sklearn.compose._column_transformer.make_column_selector object at 0x7f7901837cd0&gt;</pre></div></div></div><div class=\"sk-serial\"><div class=\"sk-item\"><div class=\"sk-serial\"><div class=\"sk-item\"><div class=\"sk-estimator sk-toggleable\"><input class=\"sk-toggleable__control sk-hidden--visually\" id=\"5ed9ef9f-71d1-4f35-8d88-eed9afc34c47\" type=\"checkbox\" ><label for=\"5ed9ef9f-71d1-4f35-8d88-eed9afc34c47\" class=\"sk-toggleable__label sk-toggleable__label-arrow\">SimpleImputer</label><div class=\"sk-toggleable__content\"><pre>SimpleImputer()</pre></div></div></div><div class=\"sk-item\"><div class=\"sk-estimator sk-toggleable\"><input class=\"sk-toggleable__control sk-hidden--visually\" id=\"9767fc99-33e2-475f-9e0c-923460a3dfc0\" type=\"checkbox\" ><label for=\"9767fc99-33e2-475f-9e0c-923460a3dfc0\" class=\"sk-toggleable__label sk-toggleable__label-arrow\">StandardScaler</label><div class=\"sk-toggleable__content\"><pre>StandardScaler()</pre></div></div></div></div></div></div></div></div><div class=\"sk-parallel-item\"><div class=\"sk-item\"><div class=\"sk-label-container\"><div class=\"sk-label sk-toggleable\"><input class=\"sk-toggleable__control sk-hidden--visually\" id=\"54c40919-406a-4005-acbd-82aa9944f478\" type=\"checkbox\" ><label for=\"54c40919-406a-4005-acbd-82aa9944f478\" class=\"sk-toggleable__label sk-toggleable__label-arrow\">pipeline-3</label><div class=\"sk-toggleable__content\"><pre>[&#x27;Item_Fat_Content&#x27;, &#x27;Item_Type&#x27;, &#x27;Outlet_Type&#x27;]</pre></div></div></div><div class=\"sk-serial\"><div class=\"sk-item\"><div class=\"sk-serial\"><div class=\"sk-item\"><div class=\"sk-estimator sk-toggleable\"><input class=\"sk-toggleable__control sk-hidden--visually\" id=\"5432de7f-7dac-412b-8266-a14112731e1f\" type=\"checkbox\" ><label for=\"5432de7f-7dac-412b-8266-a14112731e1f\" class=\"sk-toggleable__label sk-toggleable__label-arrow\">SimpleImputer</label><div class=\"sk-toggleable__content\"><pre>SimpleImputer(strategy=&#x27;most_frequent&#x27;)</pre></div></div></div><div class=\"sk-item\"><div class=\"sk-estimator sk-toggleable\"><input class=\"sk-toggleable__control sk-hidden--visually\" id=\"ad73c9c2-2676-4de5-a76a-af8abe274806\" type=\"checkbox\" ><label for=\"ad73c9c2-2676-4de5-a76a-af8abe274806\" class=\"sk-toggleable__label sk-toggleable__label-arrow\">OneHotEncoder</label><div class=\"sk-toggleable__content\"><pre>OneHotEncoder(handle_unknown=&#x27;ignore&#x27;, sparse=False)</pre></div></div></div></div></div></div></div></div></div></div><div class=\"sk-item\"><div class=\"sk-estimator sk-toggleable\"><input class=\"sk-toggleable__control sk-hidden--visually\" id=\"9ff640cb-950e-455c-89d7-aa45e3417e34\" type=\"checkbox\" ><label for=\"9ff640cb-950e-455c-89d7-aa45e3417e34\" class=\"sk-toggleable__label sk-toggleable__label-arrow\">LinearRegression</label><div class=\"sk-toggleable__content\"><pre>LinearRegression()</pre></div></div></div></div></div></div></div>"
            ]
          },
          "metadata": {},
          "execution_count": 95
        }
      ]
    },
    {
      "cell_type": "code",
      "source": [
        "# predictions of the training and testing data created using linear regression model\n",
        "train_pred_lr = lr_pipe.predict(X_train)\n",
        "test_pred_lr = lr_pipe.predict(X_test)"
      ],
      "metadata": {
        "id": "8yUfwgpcydxN"
      },
      "execution_count": 96,
      "outputs": []
    },
    {
      "cell_type": "code",
      "source": [
        "# find MAE, MSE, RMSE and R2 on the linear regression model for the training data\n",
        "eval_regression(y_train, train_pred_lr)"
      ],
      "metadata": {
        "colab": {
          "base_uri": "https://localhost:8080/"
        },
        "id": "pYpzBsIVyjm5",
        "outputId": "5b75701c-d124-4317-f62b-5952d8be49fb"
      },
      "execution_count": 97,
      "outputs": [
        {
          "output_type": "stream",
          "name": "stdout",
          "text": [
            "MAE 847.4260723873593,\n",
            " MSE 1300474.7736749046,\n",
            " RMSE: 1140.3836081226812,\n",
            " R^2: 0.5605696102544135 \n"
          ]
        }
      ]
    },
    {
      "cell_type": "code",
      "source": [
        "# find MAE, MSE, RMSE and R2 on the linear regression model for the test data\n",
        "eval_regression(y_test, test_pred_lr)"
      ],
      "metadata": {
        "colab": {
          "base_uri": "https://localhost:8080/"
        },
        "id": "eJdZTKmRy2_I",
        "outputId": "614f4125-84ae-46ed-91f5-362fa646be76"
      },
      "execution_count": 98,
      "outputs": [
        {
          "output_type": "stream",
          "name": "stdout",
          "text": [
            "MAE 805.3907843735335,\n",
            " MSE 1197696.132326376,\n",
            " RMSE: 1094.3930428901565,\n",
            " R^2: 0.5658912678913257 \n"
          ]
        }
      ]
    },
    {
      "cell_type": "markdown",
      "source": [
        "**The metrics for evaluation of our Linear Regression Model on our test data are: Mean Absolute Error(MAE) 805.39, Mean Squared Error(MSE) 1,197,696.13, and Root Mean Squared Errer(RMSE) 1,094.39.  The R2 value explaining the variability in our target data is 0.5659.**"
      ],
      "metadata": {
        "id": "i4YXX4FpCBBX"
      }
    },
    {
      "cell_type": "markdown",
      "source": [
        "## Regression Tree Model to Predict Sales"
      ],
      "metadata": {
        "id": "Y4jK2azvGA0K"
      }
    },
    {
      "cell_type": "markdown",
      "source": [
        "Here the Decision Tree Model is created with default hyperparameter values:"
      ],
      "metadata": {
        "id": "uRGxplsDAfbm"
      }
    },
    {
      "cell_type": "code",
      "source": [
        "## Make and fit model\n",
        "dec_tree = DecisionTreeRegressor(random_state = 42)\n",
        "\n",
        "# create decision tree model pipeline\n",
        "dec_tree_pipe = make_pipeline(preprocessor, dec_tree)\n",
        "\n",
        "dec_tree_pipe.fit(X_train, y_train)"
      ],
      "metadata": {
        "colab": {
          "base_uri": "https://localhost:8080/",
          "height": 227
        },
        "id": "A-9aNXek15_B",
        "outputId": "261d1ac3-2f77-417f-f324-ac6c78b3e045"
      },
      "execution_count": 99,
      "outputs": [
        {
          "output_type": "execute_result",
          "data": {
            "text/plain": [
              "Pipeline(steps=[('columntransformer',\n",
              "                 ColumnTransformer(transformers=[('pipeline-1',\n",
              "                                                  Pipeline(steps=[('simpleimputer',\n",
              "                                                                   SimpleImputer(strategy='most_frequent')),\n",
              "                                                                  ('ordinalencoder',\n",
              "                                                                   OrdinalEncoder(categories=[['Small',\n",
              "                                                                                               'Medium',\n",
              "                                                                                               'High'],\n",
              "                                                                                              ['Tier '\n",
              "                                                                                               '1',\n",
              "                                                                                               'Tier '\n",
              "                                                                                               '2',\n",
              "                                                                                               'Tier '\n",
              "                                                                                               '3']]))]),\n",
              "                                                  ['Outlet_Size',\n",
              "                                                   'Outlet_Location_Type']),\n",
              "                                                 ('pipeline-2',\n",
              "                                                  Pipeline(steps=[('simpleimputer...\n",
              "                                                  <sklearn.compose._column_transformer.make_column_selector object at 0x7f7901837cd0>),\n",
              "                                                 ('pipeline-3',\n",
              "                                                  Pipeline(steps=[('simpleimputer',\n",
              "                                                                   SimpleImputer(strategy='most_frequent')),\n",
              "                                                                  ('onehotencoder',\n",
              "                                                                   OneHotEncoder(handle_unknown='ignore',\n",
              "                                                                                 sparse=False))]),\n",
              "                                                  ['Item_Fat_Content',\n",
              "                                                   'Item_Type',\n",
              "                                                   'Outlet_Type'])])),\n",
              "                ('decisiontreeregressor',\n",
              "                 DecisionTreeRegressor(random_state=42))])"
            ],
            "text/html": [
              "<style>#sk-3fb67b15-f633-4b69-b449-0310e5dab556 {color: black;background-color: white;}#sk-3fb67b15-f633-4b69-b449-0310e5dab556 pre{padding: 0;}#sk-3fb67b15-f633-4b69-b449-0310e5dab556 div.sk-toggleable {background-color: white;}#sk-3fb67b15-f633-4b69-b449-0310e5dab556 label.sk-toggleable__label {cursor: pointer;display: block;width: 100%;margin-bottom: 0;padding: 0.3em;box-sizing: border-box;text-align: center;}#sk-3fb67b15-f633-4b69-b449-0310e5dab556 label.sk-toggleable__label-arrow:before {content: \"▸\";float: left;margin-right: 0.25em;color: #696969;}#sk-3fb67b15-f633-4b69-b449-0310e5dab556 label.sk-toggleable__label-arrow:hover:before {color: black;}#sk-3fb67b15-f633-4b69-b449-0310e5dab556 div.sk-estimator:hover label.sk-toggleable__label-arrow:before {color: black;}#sk-3fb67b15-f633-4b69-b449-0310e5dab556 div.sk-toggleable__content {max-height: 0;max-width: 0;overflow: hidden;text-align: left;background-color: #f0f8ff;}#sk-3fb67b15-f633-4b69-b449-0310e5dab556 div.sk-toggleable__content pre {margin: 0.2em;color: black;border-radius: 0.25em;background-color: #f0f8ff;}#sk-3fb67b15-f633-4b69-b449-0310e5dab556 input.sk-toggleable__control:checked~div.sk-toggleable__content {max-height: 200px;max-width: 100%;overflow: auto;}#sk-3fb67b15-f633-4b69-b449-0310e5dab556 input.sk-toggleable__control:checked~label.sk-toggleable__label-arrow:before {content: \"▾\";}#sk-3fb67b15-f633-4b69-b449-0310e5dab556 div.sk-estimator input.sk-toggleable__control:checked~label.sk-toggleable__label {background-color: #d4ebff;}#sk-3fb67b15-f633-4b69-b449-0310e5dab556 div.sk-label input.sk-toggleable__control:checked~label.sk-toggleable__label {background-color: #d4ebff;}#sk-3fb67b15-f633-4b69-b449-0310e5dab556 input.sk-hidden--visually {border: 0;clip: rect(1px 1px 1px 1px);clip: rect(1px, 1px, 1px, 1px);height: 1px;margin: -1px;overflow: hidden;padding: 0;position: absolute;width: 1px;}#sk-3fb67b15-f633-4b69-b449-0310e5dab556 div.sk-estimator {font-family: monospace;background-color: #f0f8ff;border: 1px dotted black;border-radius: 0.25em;box-sizing: border-box;margin-bottom: 0.5em;}#sk-3fb67b15-f633-4b69-b449-0310e5dab556 div.sk-estimator:hover {background-color: #d4ebff;}#sk-3fb67b15-f633-4b69-b449-0310e5dab556 div.sk-parallel-item::after {content: \"\";width: 100%;border-bottom: 1px solid gray;flex-grow: 1;}#sk-3fb67b15-f633-4b69-b449-0310e5dab556 div.sk-label:hover label.sk-toggleable__label {background-color: #d4ebff;}#sk-3fb67b15-f633-4b69-b449-0310e5dab556 div.sk-serial::before {content: \"\";position: absolute;border-left: 1px solid gray;box-sizing: border-box;top: 2em;bottom: 0;left: 50%;}#sk-3fb67b15-f633-4b69-b449-0310e5dab556 div.sk-serial {display: flex;flex-direction: column;align-items: center;background-color: white;padding-right: 0.2em;padding-left: 0.2em;}#sk-3fb67b15-f633-4b69-b449-0310e5dab556 div.sk-item {z-index: 1;}#sk-3fb67b15-f633-4b69-b449-0310e5dab556 div.sk-parallel {display: flex;align-items: stretch;justify-content: center;background-color: white;}#sk-3fb67b15-f633-4b69-b449-0310e5dab556 div.sk-parallel::before {content: \"\";position: absolute;border-left: 1px solid gray;box-sizing: border-box;top: 2em;bottom: 0;left: 50%;}#sk-3fb67b15-f633-4b69-b449-0310e5dab556 div.sk-parallel-item {display: flex;flex-direction: column;position: relative;background-color: white;}#sk-3fb67b15-f633-4b69-b449-0310e5dab556 div.sk-parallel-item:first-child::after {align-self: flex-end;width: 50%;}#sk-3fb67b15-f633-4b69-b449-0310e5dab556 div.sk-parallel-item:last-child::after {align-self: flex-start;width: 50%;}#sk-3fb67b15-f633-4b69-b449-0310e5dab556 div.sk-parallel-item:only-child::after {width: 0;}#sk-3fb67b15-f633-4b69-b449-0310e5dab556 div.sk-dashed-wrapped {border: 1px dashed gray;margin: 0 0.4em 0.5em 0.4em;box-sizing: border-box;padding-bottom: 0.4em;background-color: white;position: relative;}#sk-3fb67b15-f633-4b69-b449-0310e5dab556 div.sk-label label {font-family: monospace;font-weight: bold;background-color: white;display: inline-block;line-height: 1.2em;}#sk-3fb67b15-f633-4b69-b449-0310e5dab556 div.sk-label-container {position: relative;z-index: 2;text-align: center;}#sk-3fb67b15-f633-4b69-b449-0310e5dab556 div.sk-container {/* jupyter's `normalize.less` sets `[hidden] { display: none; }` but bootstrap.min.css set `[hidden] { display: none !important; }` so we also need the `!important` here to be able to override the default hidden behavior on the sphinx rendered scikit-learn.org. See: https://github.com/scikit-learn/scikit-learn/issues/21755 */display: inline-block !important;position: relative;}#sk-3fb67b15-f633-4b69-b449-0310e5dab556 div.sk-text-repr-fallback {display: none;}</style><div id=\"sk-3fb67b15-f633-4b69-b449-0310e5dab556\" class=\"sk-top-container\"><div class=\"sk-text-repr-fallback\"><pre>Pipeline(steps=[(&#x27;columntransformer&#x27;,\n",
              "                 ColumnTransformer(transformers=[(&#x27;pipeline-1&#x27;,\n",
              "                                                  Pipeline(steps=[(&#x27;simpleimputer&#x27;,\n",
              "                                                                   SimpleImputer(strategy=&#x27;most_frequent&#x27;)),\n",
              "                                                                  (&#x27;ordinalencoder&#x27;,\n",
              "                                                                   OrdinalEncoder(categories=[[&#x27;Small&#x27;,\n",
              "                                                                                               &#x27;Medium&#x27;,\n",
              "                                                                                               &#x27;High&#x27;],\n",
              "                                                                                              [&#x27;Tier &#x27;\n",
              "                                                                                               &#x27;1&#x27;,\n",
              "                                                                                               &#x27;Tier &#x27;\n",
              "                                                                                               &#x27;2&#x27;,\n",
              "                                                                                               &#x27;Tier &#x27;\n",
              "                                                                                               &#x27;3&#x27;]]))]),\n",
              "                                                  [&#x27;Outlet_Size&#x27;,\n",
              "                                                   &#x27;Outlet_Location_Type&#x27;]),\n",
              "                                                 (&#x27;pipeline-2&#x27;,\n",
              "                                                  Pipeline(steps=[(&#x27;simpleimputer...\n",
              "                                                  &lt;sklearn.compose._column_transformer.make_column_selector object at 0x7f7901837cd0&gt;),\n",
              "                                                 (&#x27;pipeline-3&#x27;,\n",
              "                                                  Pipeline(steps=[(&#x27;simpleimputer&#x27;,\n",
              "                                                                   SimpleImputer(strategy=&#x27;most_frequent&#x27;)),\n",
              "                                                                  (&#x27;onehotencoder&#x27;,\n",
              "                                                                   OneHotEncoder(handle_unknown=&#x27;ignore&#x27;,\n",
              "                                                                                 sparse=False))]),\n",
              "                                                  [&#x27;Item_Fat_Content&#x27;,\n",
              "                                                   &#x27;Item_Type&#x27;,\n",
              "                                                   &#x27;Outlet_Type&#x27;])])),\n",
              "                (&#x27;decisiontreeregressor&#x27;,\n",
              "                 DecisionTreeRegressor(random_state=42))])</pre><b>Please rerun this cell to show the HTML repr or trust the notebook.</b></div><div class=\"sk-container\" hidden><div class=\"sk-item sk-dashed-wrapped\"><div class=\"sk-label-container\"><div class=\"sk-label sk-toggleable\"><input class=\"sk-toggleable__control sk-hidden--visually\" id=\"101dec7a-8424-4ce1-b350-15c0f1d41af5\" type=\"checkbox\" ><label for=\"101dec7a-8424-4ce1-b350-15c0f1d41af5\" class=\"sk-toggleable__label sk-toggleable__label-arrow\">Pipeline</label><div class=\"sk-toggleable__content\"><pre>Pipeline(steps=[(&#x27;columntransformer&#x27;,\n",
              "                 ColumnTransformer(transformers=[(&#x27;pipeline-1&#x27;,\n",
              "                                                  Pipeline(steps=[(&#x27;simpleimputer&#x27;,\n",
              "                                                                   SimpleImputer(strategy=&#x27;most_frequent&#x27;)),\n",
              "                                                                  (&#x27;ordinalencoder&#x27;,\n",
              "                                                                   OrdinalEncoder(categories=[[&#x27;Small&#x27;,\n",
              "                                                                                               &#x27;Medium&#x27;,\n",
              "                                                                                               &#x27;High&#x27;],\n",
              "                                                                                              [&#x27;Tier &#x27;\n",
              "                                                                                               &#x27;1&#x27;,\n",
              "                                                                                               &#x27;Tier &#x27;\n",
              "                                                                                               &#x27;2&#x27;,\n",
              "                                                                                               &#x27;Tier &#x27;\n",
              "                                                                                               &#x27;3&#x27;]]))]),\n",
              "                                                  [&#x27;Outlet_Size&#x27;,\n",
              "                                                   &#x27;Outlet_Location_Type&#x27;]),\n",
              "                                                 (&#x27;pipeline-2&#x27;,\n",
              "                                                  Pipeline(steps=[(&#x27;simpleimputer...\n",
              "                                                  &lt;sklearn.compose._column_transformer.make_column_selector object at 0x7f7901837cd0&gt;),\n",
              "                                                 (&#x27;pipeline-3&#x27;,\n",
              "                                                  Pipeline(steps=[(&#x27;simpleimputer&#x27;,\n",
              "                                                                   SimpleImputer(strategy=&#x27;most_frequent&#x27;)),\n",
              "                                                                  (&#x27;onehotencoder&#x27;,\n",
              "                                                                   OneHotEncoder(handle_unknown=&#x27;ignore&#x27;,\n",
              "                                                                                 sparse=False))]),\n",
              "                                                  [&#x27;Item_Fat_Content&#x27;,\n",
              "                                                   &#x27;Item_Type&#x27;,\n",
              "                                                   &#x27;Outlet_Type&#x27;])])),\n",
              "                (&#x27;decisiontreeregressor&#x27;,\n",
              "                 DecisionTreeRegressor(random_state=42))])</pre></div></div></div><div class=\"sk-serial\"><div class=\"sk-item sk-dashed-wrapped\"><div class=\"sk-label-container\"><div class=\"sk-label sk-toggleable\"><input class=\"sk-toggleable__control sk-hidden--visually\" id=\"a9935dab-95b4-4a8e-aecd-1e9b22e55c81\" type=\"checkbox\" ><label for=\"a9935dab-95b4-4a8e-aecd-1e9b22e55c81\" class=\"sk-toggleable__label sk-toggleable__label-arrow\">columntransformer: ColumnTransformer</label><div class=\"sk-toggleable__content\"><pre>ColumnTransformer(transformers=[(&#x27;pipeline-1&#x27;,\n",
              "                                 Pipeline(steps=[(&#x27;simpleimputer&#x27;,\n",
              "                                                  SimpleImputer(strategy=&#x27;most_frequent&#x27;)),\n",
              "                                                 (&#x27;ordinalencoder&#x27;,\n",
              "                                                  OrdinalEncoder(categories=[[&#x27;Small&#x27;,\n",
              "                                                                              &#x27;Medium&#x27;,\n",
              "                                                                              &#x27;High&#x27;],\n",
              "                                                                             [&#x27;Tier &#x27;\n",
              "                                                                              &#x27;1&#x27;,\n",
              "                                                                              &#x27;Tier &#x27;\n",
              "                                                                              &#x27;2&#x27;,\n",
              "                                                                              &#x27;Tier &#x27;\n",
              "                                                                              &#x27;3&#x27;]]))]),\n",
              "                                 [&#x27;Outlet_Size&#x27;, &#x27;Outlet_Location_Type&#x27;]),\n",
              "                                (&#x27;pipeline-2&#x27;,\n",
              "                                 Pipeline(steps=[(&#x27;simpleimputer&#x27;,\n",
              "                                                  SimpleImputer()),\n",
              "                                                 (&#x27;standardscaler&#x27;,\n",
              "                                                  StandardScaler())]),\n",
              "                                 &lt;sklearn.compose._column_transformer.make_column_selector object at 0x7f7901837cd0&gt;),\n",
              "                                (&#x27;pipeline-3&#x27;,\n",
              "                                 Pipeline(steps=[(&#x27;simpleimputer&#x27;,\n",
              "                                                  SimpleImputer(strategy=&#x27;most_frequent&#x27;)),\n",
              "                                                 (&#x27;onehotencoder&#x27;,\n",
              "                                                  OneHotEncoder(handle_unknown=&#x27;ignore&#x27;,\n",
              "                                                                sparse=False))]),\n",
              "                                 [&#x27;Item_Fat_Content&#x27;, &#x27;Item_Type&#x27;,\n",
              "                                  &#x27;Outlet_Type&#x27;])])</pre></div></div></div><div class=\"sk-parallel\"><div class=\"sk-parallel-item\"><div class=\"sk-item\"><div class=\"sk-label-container\"><div class=\"sk-label sk-toggleable\"><input class=\"sk-toggleable__control sk-hidden--visually\" id=\"d6951f86-23b6-4240-a053-6d288a6d3566\" type=\"checkbox\" ><label for=\"d6951f86-23b6-4240-a053-6d288a6d3566\" class=\"sk-toggleable__label sk-toggleable__label-arrow\">pipeline-1</label><div class=\"sk-toggleable__content\"><pre>[&#x27;Outlet_Size&#x27;, &#x27;Outlet_Location_Type&#x27;]</pre></div></div></div><div class=\"sk-serial\"><div class=\"sk-item\"><div class=\"sk-serial\"><div class=\"sk-item\"><div class=\"sk-estimator sk-toggleable\"><input class=\"sk-toggleable__control sk-hidden--visually\" id=\"24026a43-0c6c-4ecd-96fe-e420f254902b\" type=\"checkbox\" ><label for=\"24026a43-0c6c-4ecd-96fe-e420f254902b\" class=\"sk-toggleable__label sk-toggleable__label-arrow\">SimpleImputer</label><div class=\"sk-toggleable__content\"><pre>SimpleImputer(strategy=&#x27;most_frequent&#x27;)</pre></div></div></div><div class=\"sk-item\"><div class=\"sk-estimator sk-toggleable\"><input class=\"sk-toggleable__control sk-hidden--visually\" id=\"ea1be0eb-fa57-45e5-bc5a-806beb5f8bab\" type=\"checkbox\" ><label for=\"ea1be0eb-fa57-45e5-bc5a-806beb5f8bab\" class=\"sk-toggleable__label sk-toggleable__label-arrow\">OrdinalEncoder</label><div class=\"sk-toggleable__content\"><pre>OrdinalEncoder(categories=[[&#x27;Small&#x27;, &#x27;Medium&#x27;, &#x27;High&#x27;],\n",
              "                           [&#x27;Tier 1&#x27;, &#x27;Tier 2&#x27;, &#x27;Tier 3&#x27;]])</pre></div></div></div></div></div></div></div></div><div class=\"sk-parallel-item\"><div class=\"sk-item\"><div class=\"sk-label-container\"><div class=\"sk-label sk-toggleable\"><input class=\"sk-toggleable__control sk-hidden--visually\" id=\"6dfe3b80-f589-41f5-9238-f95e2b27f6f4\" type=\"checkbox\" ><label for=\"6dfe3b80-f589-41f5-9238-f95e2b27f6f4\" class=\"sk-toggleable__label sk-toggleable__label-arrow\">pipeline-2</label><div class=\"sk-toggleable__content\"><pre>&lt;sklearn.compose._column_transformer.make_column_selector object at 0x7f7901837cd0&gt;</pre></div></div></div><div class=\"sk-serial\"><div class=\"sk-item\"><div class=\"sk-serial\"><div class=\"sk-item\"><div class=\"sk-estimator sk-toggleable\"><input class=\"sk-toggleable__control sk-hidden--visually\" id=\"26d931ba-65ff-4b1c-bf2a-705c5d637e21\" type=\"checkbox\" ><label for=\"26d931ba-65ff-4b1c-bf2a-705c5d637e21\" class=\"sk-toggleable__label sk-toggleable__label-arrow\">SimpleImputer</label><div class=\"sk-toggleable__content\"><pre>SimpleImputer()</pre></div></div></div><div class=\"sk-item\"><div class=\"sk-estimator sk-toggleable\"><input class=\"sk-toggleable__control sk-hidden--visually\" id=\"e3a03acc-6a03-47d9-a0af-b4296b0c1e7a\" type=\"checkbox\" ><label for=\"e3a03acc-6a03-47d9-a0af-b4296b0c1e7a\" class=\"sk-toggleable__label sk-toggleable__label-arrow\">StandardScaler</label><div class=\"sk-toggleable__content\"><pre>StandardScaler()</pre></div></div></div></div></div></div></div></div><div class=\"sk-parallel-item\"><div class=\"sk-item\"><div class=\"sk-label-container\"><div class=\"sk-label sk-toggleable\"><input class=\"sk-toggleable__control sk-hidden--visually\" id=\"180f83df-99f0-4fd1-ab2a-b70d8f3fc9bd\" type=\"checkbox\" ><label for=\"180f83df-99f0-4fd1-ab2a-b70d8f3fc9bd\" class=\"sk-toggleable__label sk-toggleable__label-arrow\">pipeline-3</label><div class=\"sk-toggleable__content\"><pre>[&#x27;Item_Fat_Content&#x27;, &#x27;Item_Type&#x27;, &#x27;Outlet_Type&#x27;]</pre></div></div></div><div class=\"sk-serial\"><div class=\"sk-item\"><div class=\"sk-serial\"><div class=\"sk-item\"><div class=\"sk-estimator sk-toggleable\"><input class=\"sk-toggleable__control sk-hidden--visually\" id=\"07ec4178-c25a-49da-b0af-8c65ed84fe73\" type=\"checkbox\" ><label for=\"07ec4178-c25a-49da-b0af-8c65ed84fe73\" class=\"sk-toggleable__label sk-toggleable__label-arrow\">SimpleImputer</label><div class=\"sk-toggleable__content\"><pre>SimpleImputer(strategy=&#x27;most_frequent&#x27;)</pre></div></div></div><div class=\"sk-item\"><div class=\"sk-estimator sk-toggleable\"><input class=\"sk-toggleable__control sk-hidden--visually\" id=\"5f46cd19-33ef-4a8b-b31d-915944a6a9f6\" type=\"checkbox\" ><label for=\"5f46cd19-33ef-4a8b-b31d-915944a6a9f6\" class=\"sk-toggleable__label sk-toggleable__label-arrow\">OneHotEncoder</label><div class=\"sk-toggleable__content\"><pre>OneHotEncoder(handle_unknown=&#x27;ignore&#x27;, sparse=False)</pre></div></div></div></div></div></div></div></div></div></div><div class=\"sk-item\"><div class=\"sk-estimator sk-toggleable\"><input class=\"sk-toggleable__control sk-hidden--visually\" id=\"78d86ced-950a-4341-94d0-189f6ab47ed8\" type=\"checkbox\" ><label for=\"78d86ced-950a-4341-94d0-189f6ab47ed8\" class=\"sk-toggleable__label sk-toggleable__label-arrow\">DecisionTreeRegressor</label><div class=\"sk-toggleable__content\"><pre>DecisionTreeRegressor(random_state=42)</pre></div></div></div></div></div></div></div>"
            ]
          },
          "metadata": {},
          "execution_count": 99
        }
      ]
    },
    {
      "cell_type": "code",
      "source": [
        "# Make Predictions using the model\n",
        "dec_tree_train_preds = dec_tree_pipe.predict(X_train)\n",
        "dec_tree_test_preds = dec_tree_pipe.predict(X_test)"
      ],
      "metadata": {
        "id": "0u1dgVpd2X8H"
      },
      "execution_count": 100,
      "outputs": []
    },
    {
      "cell_type": "markdown",
      "source": [
        "Here are the resulting metrics on the train and test data for our model:"
      ],
      "metadata": {
        "id": "5J3oA5OxAtml"
      }
    },
    {
      "cell_type": "code",
      "source": [
        "# find MAE, MSE, RMSE and R2 on the decision tree model for the training data\n",
        "eval_regression(y_train, dec_tree_train_preds)"
      ],
      "metadata": {
        "colab": {
          "base_uri": "https://localhost:8080/"
        },
        "id": "QhIwrzYp26z4",
        "outputId": "08daa5b8-1215-4cc6-f215-0ce8634c0990"
      },
      "execution_count": 101,
      "outputs": [
        {
          "output_type": "stream",
          "name": "stdout",
          "text": [
            "MAE 1.6007220580327663e-16,\n",
            " MSE 3.0330171474830394e-29,\n",
            " RMSE: 5.50728349323243e-15,\n",
            " R^2: 1.0 \n"
          ]
        }
      ]
    },
    {
      "cell_type": "code",
      "source": [
        "# find MAE, MSE, RMSE and R2 on the decision tree model for the test data\n",
        "eval_regression(y_test, dec_tree_test_preds)"
      ],
      "metadata": {
        "colab": {
          "base_uri": "https://localhost:8080/"
        },
        "id": "2d8dRlc324kh",
        "outputId": "9bc8df1e-ee75-4a44-8d15-4998c2820f5e"
      },
      "execution_count": 102,
      "outputs": [
        {
          "output_type": "stream",
          "name": "stdout",
          "text": [
            "MAE 1062.5518134209292,\n",
            " MSE 2363743.145677713,\n",
            " RMSE: 1537.446957028994,\n",
            " R^2: 0.14325385854957384 \n"
          ]
        }
      ]
    },
    {
      "cell_type": "code",
      "source": [
        "# What was the depth of our default tree?\n",
        "dec_tree.get_depth()"
      ],
      "metadata": {
        "colab": {
          "base_uri": "https://localhost:8080/"
        },
        "id": "Eod87QtA6ckc",
        "outputId": "9ee03503-2c03-4e89-9e11-744df78cc3ca"
      },
      "execution_count": 103,
      "outputs": [
        {
          "output_type": "execute_result",
          "data": {
            "text/plain": [
              "42"
            ]
          },
          "metadata": {},
          "execution_count": 103
        }
      ]
    },
    {
      "cell_type": "markdown",
      "source": [
        "The model with a depth of 42 is quite overfitted, a very high R2 value on the training data of 1.0 and a very poor R2 value of 0.1433 on the test data, and we will tune the depth to optimize performance."
      ],
      "metadata": {
        "id": "7my_JhoaAy7t"
      }
    },
    {
      "cell_type": "markdown",
      "source": [
        "Here we will tune the hyperparamter 'max_depth':"
      ],
      "metadata": {
        "id": "P0dVRmJpBIoB"
      }
    },
    {
      "cell_type": "code",
      "source": [
        "# List of values to try for max_depth:\n",
        "depths = list(range(2, 42)) # will try every value between 2 and 42"
      ],
      "metadata": {
        "id": "BUGMZh9B7HKC"
      },
      "execution_count": 123,
      "outputs": []
    },
    {
      "cell_type": "code",
      "source": [
        "# create a dataframe to store train and test R2 scores.\n",
        "scores = pd.DataFrame(columns=['Train','Test'], index=depths)"
      ],
      "metadata": {
        "id": "LK3Fttq-7LwO"
      },
      "execution_count": 105,
      "outputs": []
    },
    {
      "cell_type": "code",
      "source": [
        "# this loop will create metrics for each depth between 2 and 42\n",
        "for depth in depths:\n",
        "    # fit a new model with the depth\n",
        "    dec_tree = DecisionTreeRegressor(max_depth=depth, random_state=42)\n",
        "    #fit the model\n",
        "    dec_tree_pipe = make_pipeline(preprocessor, dec_tree)\n",
        "    dec_tree_pipe.fit(X_train, y_train)\n",
        "    # create prediction arrays\n",
        "    dt_train_preds = dec_tree_pipe.predict(X_train)\n",
        "    dt_test_preds = dec_tree_pipe.predict(X_test)\n",
        "    current_depth = dec_tree.get_depth()\n",
        "    print(f'\\nCurrent depth metrics: {current_depth},\\n')\n",
        "    eval_regression(y_test, dt_test_preds)\n",
        "    # evaluate the model using R2 score\n",
        "    train_r2 = r2_score(y_train, dt_train_preds)\n",
        "    test_r2 = r2_score(y_test, dt_test_preds)\n",
        "    # store the scores in a dataframe\n",
        "    scores.loc[depth, 'Train'] = train_r2\n",
        "    scores.loc[depth, 'Test'] = test_r2"
      ],
      "metadata": {
        "colab": {
          "base_uri": "https://localhost:8080/"
        },
        "id": "EI9on4rM7PXH",
        "outputId": "c078967f-da3b-4391-bc07-70cae7faf6a4"
      },
      "execution_count": 124,
      "outputs": [
        {
          "output_type": "stream",
          "name": "stdout",
          "text": [
            "\n",
            "Current depth metrics: 2,\n",
            "\n",
            "MAE 904.9816223664748,\n",
            " MSE 1562195.0050104978,\n",
            " RMSE: 1249.8779960502136,\n",
            " R^2: 0.4337775044707167 \n",
            "\n",
            "Current depth metrics: 3,\n",
            "\n",
            "MAE 810.0469764375893,\n",
            " MSE 1312661.077522819,\n",
            " RMSE: 1145.7142215765757,\n",
            " R^2: 0.5242218617296539 \n",
            "\n",
            "Current depth metrics: 4,\n",
            "\n",
            "MAE 750.1611092907328,\n",
            " MSE 1147721.1352093078,\n",
            " RMSE: 1071.3174763856453,\n",
            " R^2: 0.5840048628592631 \n",
            "\n",
            "Current depth metrics: 5,\n",
            "\n",
            "MAE 738.3173097797824,\n",
            " MSE 1118185.973077762,\n",
            " RMSE: 1057.4431299496734,\n",
            " R^2: 0.5947099753159972 \n",
            "\n",
            "Current depth metrics: 6,\n",
            "\n",
            "MAE 741.8150721590573,\n",
            " MSE 1152126.084216121,\n",
            " RMSE: 1073.371363609129,\n",
            " R^2: 0.5824082752301147 \n",
            "\n",
            "Current depth metrics: 7,\n",
            "\n",
            "MAE 748.9600968694648,\n",
            " MSE 1161982.9929505335,\n",
            " RMSE: 1077.9531497011053,\n",
            " R^2: 0.5788356076413037 \n",
            "\n",
            "Current depth metrics: 8,\n",
            "\n",
            "MAE 758.9589538779821,\n",
            " MSE 1198908.7913080666,\n",
            " RMSE: 1094.9469353845723,\n",
            " R^2: 0.5654517358273794 \n",
            "\n",
            "Current depth metrics: 9,\n",
            "\n",
            "MAE 766.5696153098345,\n",
            " MSE 1226787.7485772339,\n",
            " RMSE: 1107.6045090993598,\n",
            " R^2: 0.5553469200348106 \n",
            "\n",
            "Current depth metrics: 10,\n",
            "\n",
            "MAE 786.2722991533075,\n",
            " MSE 1296611.619084274,\n",
            " RMSE: 1138.688552275939,\n",
            " R^2: 0.5300390384456334 \n",
            "\n",
            "Current depth metrics: 11,\n",
            "\n",
            "MAE 807.2078267039096,\n",
            " MSE 1381527.59826537,\n",
            " RMSE: 1175.3840216139447,\n",
            " R^2: 0.49926097457523344 \n",
            "\n",
            "Current depth metrics: 12,\n",
            "\n",
            "MAE 825.9017290814857,\n",
            " MSE 1448520.14418297,\n",
            " RMSE: 1203.5448243347523,\n",
            " R^2: 0.47497931549319794 \n",
            "\n",
            "Current depth metrics: 13,\n",
            "\n",
            "MAE 847.8593940163794,\n",
            " MSE 1536702.1188232661,\n",
            " RMSE: 1239.637898268388,\n",
            " R^2: 0.4430174812910761 \n",
            "\n",
            "Current depth metrics: 14,\n",
            "\n",
            "MAE 869.0834653056721,\n",
            " MSE 1600064.3538706894,\n",
            " RMSE: 1264.9365019125225,\n",
            " R^2: 0.42005163980790994 \n",
            "\n",
            "Current depth metrics: 15,\n",
            "\n",
            "MAE 900.748701991792,\n",
            " MSE 1744361.888988681,\n",
            " RMSE: 1320.7429306979768,\n",
            " R^2: 0.36775054412447805 \n",
            "\n",
            "Current depth metrics: 16,\n",
            "\n",
            "MAE 918.4664487897157,\n",
            " MSE 1811005.923124971,\n",
            " RMSE: 1345.7362011646157,\n",
            " R^2: 0.3435952042342858 \n",
            "\n",
            "Current depth metrics: 17,\n",
            "\n",
            "MAE 951.6111725713636,\n",
            " MSE 1936971.7433549825,\n",
            " RMSE: 1391.7513223830551,\n",
            " R^2: 0.29793849629880576 \n",
            "\n",
            "Current depth metrics: 18,\n",
            "\n",
            "MAE 978.369706779376,\n",
            " MSE 2025769.9846338485,\n",
            " RMSE: 1423.2954663856162,\n",
            " R^2: 0.26575329431424743 \n",
            "\n",
            "Current depth metrics: 19,\n",
            "\n",
            "MAE 1000.0826451906588,\n",
            " MSE 2153175.5169380982,\n",
            " RMSE: 1467.3702726095069,\n",
            " R^2: 0.2195747582069295 \n",
            "\n",
            "Current depth metrics: 20,\n",
            "\n",
            "MAE 1013.6312732740547,\n",
            " MSE 2203155.222196434,\n",
            " RMSE: 1484.30294151714,\n",
            " R^2: 0.20145945675837396 \n",
            "\n",
            "Current depth metrics: 21,\n",
            "\n",
            "MAE 1037.5990084257485,\n",
            " MSE 2314382.3246239377,\n",
            " RMSE: 1521.309411205997,\n",
            " R^2: 0.1611448434706627 \n",
            "\n",
            "Current depth metrics: 22,\n",
            "\n",
            "MAE 1052.7487625338085,\n",
            " MSE 2354408.2643391523,\n",
            " RMSE: 1534.4081153132474,\n",
            " R^2: 0.14663731566602667 \n",
            "\n",
            "Current depth metrics: 23,\n",
            "\n",
            "MAE 1052.2573442042285,\n",
            " MSE 2397408.287593369,\n",
            " RMSE: 1548.3566409562652,\n",
            " R^2: 0.13105182192374176 \n",
            "\n",
            "Current depth metrics: 24,\n",
            "\n",
            "MAE 1059.818441581417,\n",
            " MSE 2414932.283347476,\n",
            " RMSE: 1554.0052391634579,\n",
            " R^2: 0.1247001945176176 \n",
            "\n",
            "Current depth metrics: 25,\n",
            "\n",
            "MAE 1060.3342110530652,\n",
            " MSE 2368696.7031563804,\n",
            " RMSE: 1539.0570824879694,\n",
            " R^2: 0.14145842605342407 \n",
            "\n",
            "Current depth metrics: 26,\n",
            "\n",
            "MAE 1055.0509290465961,\n",
            " MSE 2347985.9122097744,\n",
            " RMSE: 1532.3139078562767,\n",
            " R^2: 0.14896511740537455 \n",
            "\n",
            "Current depth metrics: 27,\n",
            "\n",
            "MAE 1060.3514031389616,\n",
            " MSE 2397687.35813233,\n",
            " RMSE: 1548.446756634638,\n",
            " R^2: 0.13095067192870768 \n",
            "\n",
            "Current depth metrics: 28,\n",
            "\n",
            "MAE 1062.38883414678,\n",
            " MSE 2390362.773725147,\n",
            " RMSE: 1546.0798083298116,\n",
            " R^2: 0.13360549059631832 \n",
            "\n",
            "Current depth metrics: 29,\n",
            "\n",
            "MAE 1051.0348591678587,\n",
            " MSE 2332822.4490749817,\n",
            " RMSE: 1527.3579963698694,\n",
            " R^2: 0.15446116233543172 \n",
            "\n",
            "Current depth metrics: 30,\n",
            "\n",
            "MAE 1069.9162324133092,\n",
            " MSE 2429017.637437831,\n",
            " RMSE: 1558.5306020216065,\n",
            " R^2: 0.1195949136033434 \n",
            "\n",
            "Current depth metrics: 31,\n",
            "\n",
            "MAE 1065.6580535039145,\n",
            " MSE 2413525.9385193046,\n",
            " RMSE: 1553.5526828914765,\n",
            " R^2: 0.12520992862611735 \n",
            "\n",
            "Current depth metrics: 32,\n",
            "\n",
            "MAE 1062.4926036530671,\n",
            " MSE 2399980.1332265204,\n",
            " RMSE: 1549.1869264961283,\n",
            " R^2: 0.1301196483808431 \n",
            "\n",
            "Current depth metrics: 33,\n",
            "\n",
            "MAE 1061.920518943711,\n",
            " MSE 2364948.975862075,\n",
            " RMSE: 1537.8390604553115,\n",
            " R^2: 0.14281680160470833 \n",
            "\n",
            "Current depth metrics: 34,\n",
            "\n",
            "MAE 1068.258858768966,\n",
            " MSE 2414009.7807470066,\n",
            " RMSE: 1553.7083963044695,\n",
            " R^2: 0.12503455848811706 \n",
            "\n",
            "Current depth metrics: 35,\n",
            "\n",
            "MAE 1070.5766839146984,\n",
            " MSE 2446014.92885309,\n",
            " RMSE: 1563.974081899406,\n",
            " R^2: 0.1134341918422841 \n",
            "\n",
            "Current depth metrics: 36,\n",
            "\n",
            "MAE 1056.5427054544034,\n",
            " MSE 2338552.4740780615,\n",
            " RMSE: 1529.2326422353342,\n",
            " R^2: 0.15238429674164677 \n",
            "\n",
            "Current depth metrics: 37,\n",
            "\n",
            "MAE 1070.636985201448,\n",
            " MSE 2429112.2594978604,\n",
            " RMSE: 1558.5609579024685,\n",
            " R^2: 0.11956061753992608 \n",
            "\n",
            "Current depth metrics: 38,\n",
            "\n",
            "MAE 1059.4446738526512,\n",
            " MSE 2371067.1780937253,\n",
            " RMSE: 1539.8269961569467,\n",
            " R^2: 0.14059923995290002 \n",
            "\n",
            "Current depth metrics: 39,\n",
            "\n",
            "MAE 1074.084275504458,\n",
            " MSE 2442180.7898808615,\n",
            " RMSE: 1562.747833107076,\n",
            " R^2: 0.11482388757815465 \n",
            "\n",
            "Current depth metrics: 40,\n",
            "\n",
            "MAE 1068.2237670577194,\n",
            " MSE 2410309.274543714,\n",
            " RMSE: 1552.5170770538125,\n",
            " R^2: 0.12637581860636715 \n",
            "\n",
            "Current depth metrics: 41,\n",
            "\n",
            "MAE 1077.1283343500704,\n",
            " MSE 2459143.396823567,\n",
            " RMSE: 1568.1656152408032,\n",
            " R^2: 0.10867573731331848 \n"
          ]
        }
      ]
    },
    {
      "cell_type": "markdown",
      "source": [
        "Here is a visual plot comparing the train and test R2 score for each depth:"
      ],
      "metadata": {
        "id": "i1KEHHJIBnlS"
      }
    },
    {
      "cell_type": "code",
      "source": [
        "#plot the R2 scores to visually determine the best max_depth\n",
        "plt.plot(depths, scores['Train'], label = 'train')\n",
        "plt.plot(depths, scores['Test'], label = 'test')\n",
        "plt.ylabel('R2 Scores')\n",
        "plt.xlabel('Max Depths')\n",
        "plt.legend()\n",
        "plt.show()"
      ],
      "metadata": {
        "colab": {
          "base_uri": "https://localhost:8080/",
          "height": 279
        },
        "id": "t8cMjizA-AKx",
        "outputId": "f6de1e5a-75d7-4d44-cc3c-2cebca7e97aa"
      },
      "execution_count": 125,
      "outputs": [
        {
          "output_type": "display_data",
          "data": {
            "text/plain": [
              "<Figure size 432x288 with 1 Axes>"
            ],
            "image/png": "[encoded data removed]"
          },
          "metadata": {
            "needs_background": "light"
          }
        }
      ]
    },
    {
      "cell_type": "code",
      "source": [
        "# sort the dataframe by test R2 scores and save the index (k) of the best score\n",
        "scores.sort_values(by='Test', ascending=False)"
      ],
      "metadata": {
        "colab": {
          "base_uri": "https://localhost:8080/",
          "height": 1000
        },
        "id": "_9X1KaOm-D_b",
        "outputId": "38fab3dd-1471-4891-a7cb-4851cad9966e"
      },
      "execution_count": 126,
      "outputs": [
        {
          "output_type": "execute_result",
          "data": {
            "text/plain": [
              "       Train      Test\n",
              "5    0.60394   0.59471\n",
              "4   0.582625  0.584005\n",
              "6   0.615072  0.582408\n",
              "7   0.626453  0.578836\n",
              "8   0.642724  0.565452\n",
              "9   0.663609  0.555347\n",
              "10  0.684022  0.530039\n",
              "3   0.524218  0.524222\n",
              "11  0.709235  0.499261\n",
              "12  0.733642  0.474979\n",
              "13  0.762445  0.443017\n",
              "2   0.431641  0.433778\n",
              "14  0.788536  0.420052\n",
              "15  0.817061  0.367751\n",
              "16  0.843367  0.343595\n",
              "17  0.867892  0.297938\n",
              "18  0.892253  0.265753\n",
              "19  0.912778  0.219575\n",
              "20  0.931773  0.201459\n",
              "21  0.947813  0.161145\n",
              "29  0.995948  0.154461\n",
              "36  0.999574  0.152384\n",
              "26  0.988823  0.148965\n",
              "22  0.962486  0.146637\n",
              "33  0.999013  0.142817\n",
              "25  0.985015  0.141458\n",
              "38  0.999895  0.140599\n",
              "28  0.994464  0.133605\n",
              "23  0.971902  0.131052\n",
              "27  0.992394  0.130951\n",
              "32  0.998732   0.13012\n",
              "40  0.999991  0.126376\n",
              "31  0.998225   0.12521\n",
              "34  0.999278  0.125035\n",
              "24  0.979833    0.1247\n",
              "30  0.997222  0.119595\n",
              "37  0.999708  0.119561\n",
              "39  0.999958  0.114824\n",
              "35  0.999457  0.113434\n",
              "41       1.0  0.108676"
            ],
            "text/html": [
              "\n",
              "  <div id=\"df-76d3e65e-8387-4525-bc2b-8278e81a0773\">\n",
              "    <div class=\"colab-df-container\">\n",
              "      <div>\n",
              "<style scoped>\n",
              "    .dataframe tbody tr th:only-of-type {\n",
              "        vertical-align: middle;\n",
              "    }\n",
              "\n",
              "    .dataframe tbody tr th {\n",
              "        vertical-align: top;\n",
              "    }\n",
              "\n",
              "    .dataframe thead th {\n",
              "        text-align: right;\n",
              "    }\n",
              "</style>\n",
              "<table border=\"1\" class=\"dataframe\">\n",
              "  <thead>\n",
              "    <tr style=\"text-align: right;\">\n",
              "      <th></th>\n",
              "      <th>Train</th>\n",
              "      <th>Test</th>\n",
              "    </tr>\n",
              "  </thead>\n",
              "  <tbody>\n",
              "    <tr>\n",
              "      <th>5</th>\n",
              "      <td>0.60394</td>\n",
              "      <td>0.59471</td>\n",
              "    </tr>\n",
              "    <tr>\n",
              "      <th>4</th>\n",
              "      <td>0.582625</td>\n",
              "      <td>0.584005</td>\n",
              "    </tr>\n",
              "    <tr>\n",
              "      <th>6</th>\n",
              "      <td>0.615072</td>\n",
              "      <td>0.582408</td>\n",
              "    </tr>\n",
              "    <tr>\n",
              "      <th>7</th>\n",
              "      <td>0.626453</td>\n",
              "      <td>0.578836</td>\n",
              "    </tr>\n",
              "    <tr>\n",
              "      <th>8</th>\n",
              "      <td>0.642724</td>\n",
              "      <td>0.565452</td>\n",
              "    </tr>\n",
              "    <tr>\n",
              "      <th>9</th>\n",
              "      <td>0.663609</td>\n",
              "      <td>0.555347</td>\n",
              "    </tr>\n",
              "    <tr>\n",
              "      <th>10</th>\n",
              "      <td>0.684022</td>\n",
              "      <td>0.530039</td>\n",
              "    </tr>\n",
              "    <tr>\n",
              "      <th>3</th>\n",
              "      <td>0.524218</td>\n",
              "      <td>0.524222</td>\n",
              "    </tr>\n",
              "    <tr>\n",
              "      <th>11</th>\n",
              "      <td>0.709235</td>\n",
              "      <td>0.499261</td>\n",
              "    </tr>\n",
              "    <tr>\n",
              "      <th>12</th>\n",
              "      <td>0.733642</td>\n",
              "      <td>0.474979</td>\n",
              "    </tr>\n",
              "    <tr>\n",
              "      <th>13</th>\n",
              "      <td>0.762445</td>\n",
              "      <td>0.443017</td>\n",
              "    </tr>\n",
              "    <tr>\n",
              "      <th>2</th>\n",
              "      <td>0.431641</td>\n",
              "      <td>0.433778</td>\n",
              "    </tr>\n",
              "    <tr>\n",
              "      <th>14</th>\n",
              "      <td>0.788536</td>\n",
              "      <td>0.420052</td>\n",
              "    </tr>\n",
              "    <tr>\n",
              "      <th>15</th>\n",
              "      <td>0.817061</td>\n",
              "      <td>0.367751</td>\n",
              "    </tr>\n",
              "    <tr>\n",
              "      <th>16</th>\n",
              "      <td>0.843367</td>\n",
              "      <td>0.343595</td>\n",
              "    </tr>\n",
              "    <tr>\n",
              "      <th>17</th>\n",
              "      <td>0.867892</td>\n",
              "      <td>0.297938</td>\n",
              "    </tr>\n",
              "    <tr>\n",
              "      <th>18</th>\n",
              "      <td>0.892253</td>\n",
              "      <td>0.265753</td>\n",
              "    </tr>\n",
              "    <tr>\n",
              "      <th>19</th>\n",
              "      <td>0.912778</td>\n",
              "      <td>0.219575</td>\n",
              "    </tr>\n",
              "    <tr>\n",
              "      <th>20</th>\n",
              "      <td>0.931773</td>\n",
              "      <td>0.201459</td>\n",
              "    </tr>\n",
              "    <tr>\n",
              "      <th>21</th>\n",
              "      <td>0.947813</td>\n",
              "      <td>0.161145</td>\n",
              "    </tr>\n",
              "    <tr>\n",
              "      <th>29</th>\n",
              "      <td>0.995948</td>\n",
              "      <td>0.154461</td>\n",
              "    </tr>\n",
              "    <tr>\n",
              "      <th>36</th>\n",
              "      <td>0.999574</td>\n",
              "      <td>0.152384</td>\n",
              "    </tr>\n",
              "    <tr>\n",
              "      <th>26</th>\n",
              "      <td>0.988823</td>\n",
              "      <td>0.148965</td>\n",
              "    </tr>\n",
              "    <tr>\n",
              "      <th>22</th>\n",
              "      <td>0.962486</td>\n",
              "      <td>0.146637</td>\n",
              "    </tr>\n",
              "    <tr>\n",
              "      <th>33</th>\n",
              "      <td>0.999013</td>\n",
              "      <td>0.142817</td>\n",
              "    </tr>\n",
              "    <tr>\n",
              "      <th>25</th>\n",
              "      <td>0.985015</td>\n",
              "      <td>0.141458</td>\n",
              "    </tr>\n",
              "    <tr>\n",
              "      <th>38</th>\n",
              "      <td>0.999895</td>\n",
              "      <td>0.140599</td>\n",
              "    </tr>\n",
              "    <tr>\n",
              "      <th>28</th>\n",
              "      <td>0.994464</td>\n",
              "      <td>0.133605</td>\n",
              "    </tr>\n",
              "    <tr>\n",
              "      <th>23</th>\n",
              "      <td>0.971902</td>\n",
              "      <td>0.131052</td>\n",
              "    </tr>\n",
              "    <tr>\n",
              "      <th>27</th>\n",
              "      <td>0.992394</td>\n",
              "      <td>0.130951</td>\n",
              "    </tr>\n",
              "    <tr>\n",
              "      <th>32</th>\n",
              "      <td>0.998732</td>\n",
              "      <td>0.13012</td>\n",
              "    </tr>\n",
              "    <tr>\n",
              "      <th>40</th>\n",
              "      <td>0.999991</td>\n",
              "      <td>0.126376</td>\n",
              "    </tr>\n",
              "    <tr>\n",
              "      <th>31</th>\n",
              "      <td>0.998225</td>\n",
              "      <td>0.12521</td>\n",
              "    </tr>\n",
              "    <tr>\n",
              "      <th>34</th>\n",
              "      <td>0.999278</td>\n",
              "      <td>0.125035</td>\n",
              "    </tr>\n",
              "    <tr>\n",
              "      <th>24</th>\n",
              "      <td>0.979833</td>\n",
              "      <td>0.1247</td>\n",
              "    </tr>\n",
              "    <tr>\n",
              "      <th>30</th>\n",
              "      <td>0.997222</td>\n",
              "      <td>0.119595</td>\n",
              "    </tr>\n",
              "    <tr>\n",
              "      <th>37</th>\n",
              "      <td>0.999708</td>\n",
              "      <td>0.119561</td>\n",
              "    </tr>\n",
              "    <tr>\n",
              "      <th>39</th>\n",
              "      <td>0.999958</td>\n",
              "      <td>0.114824</td>\n",
              "    </tr>\n",
              "    <tr>\n",
              "      <th>35</th>\n",
              "      <td>0.999457</td>\n",
              "      <td>0.113434</td>\n",
              "    </tr>\n",
              "    <tr>\n",
              "      <th>41</th>\n",
              "      <td>1.0</td>\n",
              "      <td>0.108676</td>\n",
              "    </tr>\n",
              "  </tbody>\n",
              "</table>\n",
              "</div>\n",
              "      <button class=\"colab-df-convert\" onclick=\"convertToInteractive('df-76d3e65e-8387-4525-bc2b-8278e81a0773')\"\n",
              "              title=\"Convert this dataframe to an interactive table.\"\n",
              "              style=\"display:none;\">\n",
              "        \n",
              "  <svg xmlns=\"http://www.w3.org/2000/svg\" height=\"24px\"viewBox=\"0 0 24 24\"\n",
              "       width=\"24px\">\n",
              "    <path d=\"M0 0h24v24H0V0z\" fill=\"none\"/>\n",
              "    <path d=\"M18.56 5.44l.94 2.06.94-2.06 2.06-.94-2.06-.94-.94-2.06-.94 2.06-2.06.94zm-11 1L8.5 8.5l.94-2.06 2.06-.94-2.06-.94L8.5 2.5l-.94 2.06-2.06.94zm10 10l.94 2.06.94-2.06 2.06-.94-2.06-.94-.94-2.06-.94 2.06-2.06.94z\"/><path d=\"M17.41 7.96l-1.37-1.37c-.4-.4-.92-.59-1.43-.59-.52 0-1.04.2-1.43.59L10.3 9.45l-7.72 7.72c-.78.78-.78 2.05 0 2.83L4 21.41c.39.39.9.59 1.41.59.51 0 1.02-.2 1.41-.59l7.78-7.78 2.81-2.81c.8-.78.8-2.07 0-2.86zM5.41 20L4 18.59l7.72-7.72 1.47 1.35L5.41 20z\"/>\n",
              "  </svg>\n",
              "      </button>\n",
              "      \n",
              "  <style>\n",
              "    .colab-df-container {\n",
              "      display:flex;\n",
              "      flex-wrap:wrap;\n",
              "      gap: 12px;\n",
              "    }\n",
              "\n",
              "    .colab-df-convert {\n",
              "      background-color: #E8F0FE;\n",
              "      border: none;\n",
              "      border-radius: 50%;\n",
              "      cursor: pointer;\n",
              "      display: none;\n",
              "      fill: #1967D2;\n",
              "      height: 32px;\n",
              "      padding: 0 0 0 0;\n",
              "      width: 32px;\n",
              "    }\n",
              "\n",
              "    .colab-df-convert:hover {\n",
              "      background-color: #E2EBFA;\n",
              "      box-shadow: 0px 1px 2px rgba(60, 64, 67, 0.3), 0px 1px 3px 1px rgba(60, 64, 67, 0.15);\n",
              "      fill: #174EA6;\n",
              "    }\n",
              "\n",
              "    [theme=dark] .colab-df-convert {\n",
              "      background-color: #3B4455;\n",
              "      fill: #D2E3FC;\n",
              "    }\n",
              "\n",
              "    [theme=dark] .colab-df-convert:hover {\n",
              "      background-color: #434B5C;\n",
              "      box-shadow: 0px 1px 3px 1px rgba(0, 0, 0, 0.15);\n",
              "      filter: drop-shadow(0px 1px 2px rgba(0, 0, 0, 0.3));\n",
              "      fill: #FFFFFF;\n",
              "    }\n",
              "  </style>\n",
              "\n",
              "      <script>\n",
              "        const buttonEl =\n",
              "          document.querySelector('#df-76d3e65e-8387-4525-bc2b-8278e81a0773 button.colab-df-convert');\n",
              "        buttonEl.style.display =\n",
              "          google.colab.kernel.accessAllowed ? 'block' : 'none';\n",
              "\n",
              "        async function convertToInteractive(key) {\n",
              "          const element = document.querySelector('#df-76d3e65e-8387-4525-bc2b-8278e81a0773');\n",
              "          const dataTable =\n",
              "            await google.colab.kernel.invokeFunction('convertToInteractive',\n",
              "                                                     [key], {});\n",
              "          if (!dataTable) return;\n",
              "\n",
              "          const docLinkHtml = 'Like what you see? Visit the ' +\n",
              "            '<a target=\"_blank\" href=https://colab.research.google.com/notebooks/data_table.ipynb>data table notebook</a>'\n",
              "            + ' to learn more about interactive tables.';\n",
              "          element.innerHTML = '';\n",
              "          dataTable['output_type'] = 'display_data';\n",
              "          await google.colab.output.renderOutput(dataTable, element);\n",
              "          const docLink = document.createElement('div');\n",
              "          docLink.innerHTML = docLinkHtml;\n",
              "          element.appendChild(docLink);\n",
              "        }\n",
              "      </script>\n",
              "    </div>\n",
              "  </div>\n",
              "  "
            ]
          },
          "metadata": {},
          "execution_count": 126
        }
      ]
    },
    {
      "cell_type": "code",
      "source": [
        "# print the best score\n",
        "best_depth = scores.sort_values(by='Test', ascending=False).index[0]\n",
        "best_depth"
      ],
      "metadata": {
        "colab": {
          "base_uri": "https://localhost:8080/"
        },
        "id": "8TfKAFIS-IDs",
        "outputId": "7e180183-26f5-49ed-af42-eb9cd96b2b94"
      },
      "execution_count": 114,
      "outputs": [
        {
          "output_type": "execute_result",
          "data": {
            "text/plain": [
              "5"
            ]
          },
          "metadata": {},
          "execution_count": 114
        }
      ]
    },
    {
      "cell_type": "markdown",
      "source": [
        "### The depth of 5 maximizes the R2 score on the test data and will be used now to create our optimal Decision Tree Model:"
      ],
      "metadata": {
        "id": "6UdG4zCVBw1q"
      }
    },
    {
      "cell_type": "code",
      "source": [
        "## Make and fit model\n",
        "dec_tree_5 = DecisionTreeRegressor(max_depth = 5, random_state = 42)\n",
        "\n",
        "# create decision tree model pipeline\n",
        "dec_tree_5_pipe = make_pipeline(preprocessor, dec_tree_5)\n",
        "\n",
        "dec_tree_5_pipe.fit(X_train, y_train)"
      ],
      "metadata": {
        "colab": {
          "base_uri": "https://localhost:8080/",
          "height": 227
        },
        "id": "VY7qou7I-TjV",
        "outputId": "6c44d36d-1db6-42f4-c36c-ab951af60213"
      },
      "execution_count": 119,
      "outputs": [
        {
          "output_type": "execute_result",
          "data": {
            "text/plain": [
              "Pipeline(steps=[('columntransformer',\n",
              "                 ColumnTransformer(transformers=[('pipeline-1',\n",
              "                                                  Pipeline(steps=[('simpleimputer',\n",
              "                                                                   SimpleImputer(strategy='most_frequent')),\n",
              "                                                                  ('ordinalencoder',\n",
              "                                                                   OrdinalEncoder(categories=[['Small',\n",
              "                                                                                               'Medium',\n",
              "                                                                                               'High'],\n",
              "                                                                                              ['Tier '\n",
              "                                                                                               '1',\n",
              "                                                                                               'Tier '\n",
              "                                                                                               '2',\n",
              "                                                                                               'Tier '\n",
              "                                                                                               '3']]))]),\n",
              "                                                  ['Outlet_Size',\n",
              "                                                   'Outlet_Location_Type']),\n",
              "                                                 ('pipeline-2',\n",
              "                                                  Pipeline(steps=[('simpleimputer...\n",
              "                                                  <sklearn.compose._column_transformer.make_column_selector object at 0x7f7901837cd0>),\n",
              "                                                 ('pipeline-3',\n",
              "                                                  Pipeline(steps=[('simpleimputer',\n",
              "                                                                   SimpleImputer(strategy='most_frequent')),\n",
              "                                                                  ('onehotencoder',\n",
              "                                                                   OneHotEncoder(handle_unknown='ignore',\n",
              "                                                                                 sparse=False))]),\n",
              "                                                  ['Item_Fat_Content',\n",
              "                                                   'Item_Type',\n",
              "                                                   'Outlet_Type'])])),\n",
              "                ('decisiontreeregressor',\n",
              "                 DecisionTreeRegressor(max_depth=5, random_state=42))])"
            ],
            "text/html": [
              "<style>#sk-b2936f14-c59c-46a3-a5f5-9d2788a5b86e {color: black;background-color: white;}#sk-b2936f14-c59c-46a3-a5f5-9d2788a5b86e pre{padding: 0;}#sk-b2936f14-c59c-46a3-a5f5-9d2788a5b86e div.sk-toggleable {background-color: white;}#sk-b2936f14-c59c-46a3-a5f5-9d2788a5b86e label.sk-toggleable__label {cursor: pointer;display: block;width: 100%;margin-bottom: 0;padding: 0.3em;box-sizing: border-box;text-align: center;}#sk-b2936f14-c59c-46a3-a5f5-9d2788a5b86e label.sk-toggleable__label-arrow:before {content: \"▸\";float: left;margin-right: 0.25em;color: #696969;}#sk-b2936f14-c59c-46a3-a5f5-9d2788a5b86e label.sk-toggleable__label-arrow:hover:before {color: black;}#sk-b2936f14-c59c-46a3-a5f5-9d2788a5b86e div.sk-estimator:hover label.sk-toggleable__label-arrow:before {color: black;}#sk-b2936f14-c59c-46a3-a5f5-9d2788a5b86e div.sk-toggleable__content {max-height: 0;max-width: 0;overflow: hidden;text-align: left;background-color: #f0f8ff;}#sk-b2936f14-c59c-46a3-a5f5-9d2788a5b86e div.sk-toggleable__content pre {margin: 0.2em;color: black;border-radius: 0.25em;background-color: #f0f8ff;}#sk-b2936f14-c59c-46a3-a5f5-9d2788a5b86e input.sk-toggleable__control:checked~div.sk-toggleable__content {max-height: 200px;max-width: 100%;overflow: auto;}#sk-b2936f14-c59c-46a3-a5f5-9d2788a5b86e input.sk-toggleable__control:checked~label.sk-toggleable__label-arrow:before {content: \"▾\";}#sk-b2936f14-c59c-46a3-a5f5-9d2788a5b86e div.sk-estimator input.sk-toggleable__control:checked~label.sk-toggleable__label {background-color: #d4ebff;}#sk-b2936f14-c59c-46a3-a5f5-9d2788a5b86e div.sk-label input.sk-toggleable__control:checked~label.sk-toggleable__label {background-color: #d4ebff;}#sk-b2936f14-c59c-46a3-a5f5-9d2788a5b86e input.sk-hidden--visually {border: 0;clip: rect(1px 1px 1px 1px);clip: rect(1px, 1px, 1px, 1px);height: 1px;margin: -1px;overflow: hidden;padding: 0;position: absolute;width: 1px;}#sk-b2936f14-c59c-46a3-a5f5-9d2788a5b86e div.sk-estimator {font-family: monospace;background-color: #f0f8ff;border: 1px dotted black;border-radius: 0.25em;box-sizing: border-box;margin-bottom: 0.5em;}#sk-b2936f14-c59c-46a3-a5f5-9d2788a5b86e div.sk-estimator:hover {background-color: #d4ebff;}#sk-b2936f14-c59c-46a3-a5f5-9d2788a5b86e div.sk-parallel-item::after {content: \"\";width: 100%;border-bottom: 1px solid gray;flex-grow: 1;}#sk-b2936f14-c59c-46a3-a5f5-9d2788a5b86e div.sk-label:hover label.sk-toggleable__label {background-color: #d4ebff;}#sk-b2936f14-c59c-46a3-a5f5-9d2788a5b86e div.sk-serial::before {content: \"\";position: absolute;border-left: 1px solid gray;box-sizing: border-box;top: 2em;bottom: 0;left: 50%;}#sk-b2936f14-c59c-46a3-a5f5-9d2788a5b86e div.sk-serial {display: flex;flex-direction: column;align-items: center;background-color: white;padding-right: 0.2em;padding-left: 0.2em;}#sk-b2936f14-c59c-46a3-a5f5-9d2788a5b86e div.sk-item {z-index: 1;}#sk-b2936f14-c59c-46a3-a5f5-9d2788a5b86e div.sk-parallel {display: flex;align-items: stretch;justify-content: center;background-color: white;}#sk-b2936f14-c59c-46a3-a5f5-9d2788a5b86e div.sk-parallel::before {content: \"\";position: absolute;border-left: 1px solid gray;box-sizing: border-box;top: 2em;bottom: 0;left: 50%;}#sk-b2936f14-c59c-46a3-a5f5-9d2788a5b86e div.sk-parallel-item {display: flex;flex-direction: column;position: relative;background-color: white;}#sk-b2936f14-c59c-46a3-a5f5-9d2788a5b86e div.sk-parallel-item:first-child::after {align-self: flex-end;width: 50%;}#sk-b2936f14-c59c-46a3-a5f5-9d2788a5b86e div.sk-parallel-item:last-child::after {align-self: flex-start;width: 50%;}#sk-b2936f14-c59c-46a3-a5f5-9d2788a5b86e div.sk-parallel-item:only-child::after {width: 0;}#sk-b2936f14-c59c-46a3-a5f5-9d2788a5b86e div.sk-dashed-wrapped {border: 1px dashed gray;margin: 0 0.4em 0.5em 0.4em;box-sizing: border-box;padding-bottom: 0.4em;background-color: white;position: relative;}#sk-b2936f14-c59c-46a3-a5f5-9d2788a5b86e div.sk-label label {font-family: monospace;font-weight: bold;background-color: white;display: inline-block;line-height: 1.2em;}#sk-b2936f14-c59c-46a3-a5f5-9d2788a5b86e div.sk-label-container {position: relative;z-index: 2;text-align: center;}#sk-b2936f14-c59c-46a3-a5f5-9d2788a5b86e div.sk-container {/* jupyter's `normalize.less` sets `[hidden] { display: none; }` but bootstrap.min.css set `[hidden] { display: none !important; }` so we also need the `!important` here to be able to override the default hidden behavior on the sphinx rendered scikit-learn.org. See: https://github.com/scikit-learn/scikit-learn/issues/21755 */display: inline-block !important;position: relative;}#sk-b2936f14-c59c-46a3-a5f5-9d2788a5b86e div.sk-text-repr-fallback {display: none;}</style><div id=\"sk-b2936f14-c59c-46a3-a5f5-9d2788a5b86e\" class=\"sk-top-container\"><div class=\"sk-text-repr-fallback\"><pre>Pipeline(steps=[(&#x27;columntransformer&#x27;,\n",
              "                 ColumnTransformer(transformers=[(&#x27;pipeline-1&#x27;,\n",
              "                                                  Pipeline(steps=[(&#x27;simpleimputer&#x27;,\n",
              "                                                                   SimpleImputer(strategy=&#x27;most_frequent&#x27;)),\n",
              "                                                                  (&#x27;ordinalencoder&#x27;,\n",
              "                                                                   OrdinalEncoder(categories=[[&#x27;Small&#x27;,\n",
              "                                                                                               &#x27;Medium&#x27;,\n",
              "                                                                                               &#x27;High&#x27;],\n",
              "                                                                                              [&#x27;Tier &#x27;\n",
              "                                                                                               &#x27;1&#x27;,\n",
              "                                                                                               &#x27;Tier &#x27;\n",
              "                                                                                               &#x27;2&#x27;,\n",
              "                                                                                               &#x27;Tier &#x27;\n",
              "                                                                                               &#x27;3&#x27;]]))]),\n",
              "                                                  [&#x27;Outlet_Size&#x27;,\n",
              "                                                   &#x27;Outlet_Location_Type&#x27;]),\n",
              "                                                 (&#x27;pipeline-2&#x27;,\n",
              "                                                  Pipeline(steps=[(&#x27;simpleimputer...\n",
              "                                                  &lt;sklearn.compose._column_transformer.make_column_selector object at 0x7f7901837cd0&gt;),\n",
              "                                                 (&#x27;pipeline-3&#x27;,\n",
              "                                                  Pipeline(steps=[(&#x27;simpleimputer&#x27;,\n",
              "                                                                   SimpleImputer(strategy=&#x27;most_frequent&#x27;)),\n",
              "                                                                  (&#x27;onehotencoder&#x27;,\n",
              "                                                                   OneHotEncoder(handle_unknown=&#x27;ignore&#x27;,\n",
              "                                                                                 sparse=False))]),\n",
              "                                                  [&#x27;Item_Fat_Content&#x27;,\n",
              "                                                   &#x27;Item_Type&#x27;,\n",
              "                                                   &#x27;Outlet_Type&#x27;])])),\n",
              "                (&#x27;decisiontreeregressor&#x27;,\n",
              "                 DecisionTreeRegressor(max_depth=5, random_state=42))])</pre><b>Please rerun this cell to show the HTML repr or trust the notebook.</b></div><div class=\"sk-container\" hidden><div class=\"sk-item sk-dashed-wrapped\"><div class=\"sk-label-container\"><div class=\"sk-label sk-toggleable\"><input class=\"sk-toggleable__control sk-hidden--visually\" id=\"1b7d6587-55b6-4a45-aa5c-25646d9418a8\" type=\"checkbox\" ><label for=\"1b7d6587-55b6-4a45-aa5c-25646d9418a8\" class=\"sk-toggleable__label sk-toggleable__label-arrow\">Pipeline</label><div class=\"sk-toggleable__content\"><pre>Pipeline(steps=[(&#x27;columntransformer&#x27;,\n",
              "                 ColumnTransformer(transformers=[(&#x27;pipeline-1&#x27;,\n",
              "                                                  Pipeline(steps=[(&#x27;simpleimputer&#x27;,\n",
              "                                                                   SimpleImputer(strategy=&#x27;most_frequent&#x27;)),\n",
              "                                                                  (&#x27;ordinalencoder&#x27;,\n",
              "                                                                   OrdinalEncoder(categories=[[&#x27;Small&#x27;,\n",
              "                                                                                               &#x27;Medium&#x27;,\n",
              "                                                                                               &#x27;High&#x27;],\n",
              "                                                                                              [&#x27;Tier &#x27;\n",
              "                                                                                               &#x27;1&#x27;,\n",
              "                                                                                               &#x27;Tier &#x27;\n",
              "                                                                                               &#x27;2&#x27;,\n",
              "                                                                                               &#x27;Tier &#x27;\n",
              "                                                                                               &#x27;3&#x27;]]))]),\n",
              "                                                  [&#x27;Outlet_Size&#x27;,\n",
              "                                                   &#x27;Outlet_Location_Type&#x27;]),\n",
              "                                                 (&#x27;pipeline-2&#x27;,\n",
              "                                                  Pipeline(steps=[(&#x27;simpleimputer...\n",
              "                                                  &lt;sklearn.compose._column_transformer.make_column_selector object at 0x7f7901837cd0&gt;),\n",
              "                                                 (&#x27;pipeline-3&#x27;,\n",
              "                                                  Pipeline(steps=[(&#x27;simpleimputer&#x27;,\n",
              "                                                                   SimpleImputer(strategy=&#x27;most_frequent&#x27;)),\n",
              "                                                                  (&#x27;onehotencoder&#x27;,\n",
              "                                                                   OneHotEncoder(handle_unknown=&#x27;ignore&#x27;,\n",
              "                                                                                 sparse=False))]),\n",
              "                                                  [&#x27;Item_Fat_Content&#x27;,\n",
              "                                                   &#x27;Item_Type&#x27;,\n",
              "                                                   &#x27;Outlet_Type&#x27;])])),\n",
              "                (&#x27;decisiontreeregressor&#x27;,\n",
              "                 DecisionTreeRegressor(max_depth=5, random_state=42))])</pre></div></div></div><div class=\"sk-serial\"><div class=\"sk-item sk-dashed-wrapped\"><div class=\"sk-label-container\"><div class=\"sk-label sk-toggleable\"><input class=\"sk-toggleable__control sk-hidden--visually\" id=\"bf73831b-73d7-43d7-b094-9a1a0fee2e65\" type=\"checkbox\" ><label for=\"bf73831b-73d7-43d7-b094-9a1a0fee2e65\" class=\"sk-toggleable__label sk-toggleable__label-arrow\">columntransformer: ColumnTransformer</label><div class=\"sk-toggleable__content\"><pre>ColumnTransformer(transformers=[(&#x27;pipeline-1&#x27;,\n",
              "                                 Pipeline(steps=[(&#x27;simpleimputer&#x27;,\n",
              "                                                  SimpleImputer(strategy=&#x27;most_frequent&#x27;)),\n",
              "                                                 (&#x27;ordinalencoder&#x27;,\n",
              "                                                  OrdinalEncoder(categories=[[&#x27;Small&#x27;,\n",
              "                                                                              &#x27;Medium&#x27;,\n",
              "                                                                              &#x27;High&#x27;],\n",
              "                                                                             [&#x27;Tier &#x27;\n",
              "                                                                              &#x27;1&#x27;,\n",
              "                                                                              &#x27;Tier &#x27;\n",
              "                                                                              &#x27;2&#x27;,\n",
              "                                                                              &#x27;Tier &#x27;\n",
              "                                                                              &#x27;3&#x27;]]))]),\n",
              "                                 [&#x27;Outlet_Size&#x27;, &#x27;Outlet_Location_Type&#x27;]),\n",
              "                                (&#x27;pipeline-2&#x27;,\n",
              "                                 Pipeline(steps=[(&#x27;simpleimputer&#x27;,\n",
              "                                                  SimpleImputer()),\n",
              "                                                 (&#x27;standardscaler&#x27;,\n",
              "                                                  StandardScaler())]),\n",
              "                                 &lt;sklearn.compose._column_transformer.make_column_selector object at 0x7f7901837cd0&gt;),\n",
              "                                (&#x27;pipeline-3&#x27;,\n",
              "                                 Pipeline(steps=[(&#x27;simpleimputer&#x27;,\n",
              "                                                  SimpleImputer(strategy=&#x27;most_frequent&#x27;)),\n",
              "                                                 (&#x27;onehotencoder&#x27;,\n",
              "                                                  OneHotEncoder(handle_unknown=&#x27;ignore&#x27;,\n",
              "                                                                sparse=False))]),\n",
              "                                 [&#x27;Item_Fat_Content&#x27;, &#x27;Item_Type&#x27;,\n",
              "                                  &#x27;Outlet_Type&#x27;])])</pre></div></div></div><div class=\"sk-parallel\"><div class=\"sk-parallel-item\"><div class=\"sk-item\"><div class=\"sk-label-container\"><div class=\"sk-label sk-toggleable\"><input class=\"sk-toggleable__control sk-hidden--visually\" id=\"3e3874d2-dc87-482a-b4d6-6f8d4d1081b1\" type=\"checkbox\" ><label for=\"3e3874d2-dc87-482a-b4d6-6f8d4d1081b1\" class=\"sk-toggleable__label sk-toggleable__label-arrow\">pipeline-1</label><div class=\"sk-toggleable__content\"><pre>[&#x27;Outlet_Size&#x27;, &#x27;Outlet_Location_Type&#x27;]</pre></div></div></div><div class=\"sk-serial\"><div class=\"sk-item\"><div class=\"sk-serial\"><div class=\"sk-item\"><div class=\"sk-estimator sk-toggleable\"><input class=\"sk-toggleable__control sk-hidden--visually\" id=\"94ef01d0-8054-4ecc-b5f3-bc5bfa11484e\" type=\"checkbox\" ><label for=\"94ef01d0-8054-4ecc-b5f3-bc5bfa11484e\" class=\"sk-toggleable__label sk-toggleable__label-arrow\">SimpleImputer</label><div class=\"sk-toggleable__content\"><pre>SimpleImputer(strategy=&#x27;most_frequent&#x27;)</pre></div></div></div><div class=\"sk-item\"><div class=\"sk-estimator sk-toggleable\"><input class=\"sk-toggleable__control sk-hidden--visually\" id=\"31a24d8e-98cb-4ab7-a41a-34efd44373c6\" type=\"checkbox\" ><label for=\"31a24d8e-98cb-4ab7-a41a-34efd44373c6\" class=\"sk-toggleable__label sk-toggleable__label-arrow\">OrdinalEncoder</label><div class=\"sk-toggleable__content\"><pre>OrdinalEncoder(categories=[[&#x27;Small&#x27;, &#x27;Medium&#x27;, &#x27;High&#x27;],\n",
              "                           [&#x27;Tier 1&#x27;, &#x27;Tier 2&#x27;, &#x27;Tier 3&#x27;]])</pre></div></div></div></div></div></div></div></div><div class=\"sk-parallel-item\"><div class=\"sk-item\"><div class=\"sk-label-container\"><div class=\"sk-label sk-toggleable\"><input class=\"sk-toggleable__control sk-hidden--visually\" id=\"ca11c234-f022-457e-a423-45bdb11cc51c\" type=\"checkbox\" ><label for=\"ca11c234-f022-457e-a423-45bdb11cc51c\" class=\"sk-toggleable__label sk-toggleable__label-arrow\">pipeline-2</label><div class=\"sk-toggleable__content\"><pre>&lt;sklearn.compose._column_transformer.make_column_selector object at 0x7f7901837cd0&gt;</pre></div></div></div><div class=\"sk-serial\"><div class=\"sk-item\"><div class=\"sk-serial\"><div class=\"sk-item\"><div class=\"sk-estimator sk-toggleable\"><input class=\"sk-toggleable__control sk-hidden--visually\" id=\"f2e122a1-3ab9-4faf-b9a6-fae9cc1d4b5c\" type=\"checkbox\" ><label for=\"f2e122a1-3ab9-4faf-b9a6-fae9cc1d4b5c\" class=\"sk-toggleable__label sk-toggleable__label-arrow\">SimpleImputer</label><div class=\"sk-toggleable__content\"><pre>SimpleImputer()</pre></div></div></div><div class=\"sk-item\"><div class=\"sk-estimator sk-toggleable\"><input class=\"sk-toggleable__control sk-hidden--visually\" id=\"3a8b1142-c8ce-4760-8828-253cb5809e79\" type=\"checkbox\" ><label for=\"3a8b1142-c8ce-4760-8828-253cb5809e79\" class=\"sk-toggleable__label sk-toggleable__label-arrow\">StandardScaler</label><div class=\"sk-toggleable__content\"><pre>StandardScaler()</pre></div></div></div></div></div></div></div></div><div class=\"sk-parallel-item\"><div class=\"sk-item\"><div class=\"sk-label-container\"><div class=\"sk-label sk-toggleable\"><input class=\"sk-toggleable__control sk-hidden--visually\" id=\"8a5260d7-d151-4ea7-af64-a677b6599f49\" type=\"checkbox\" ><label for=\"8a5260d7-d151-4ea7-af64-a677b6599f49\" class=\"sk-toggleable__label sk-toggleable__label-arrow\">pipeline-3</label><div class=\"sk-toggleable__content\"><pre>[&#x27;Item_Fat_Content&#x27;, &#x27;Item_Type&#x27;, &#x27;Outlet_Type&#x27;]</pre></div></div></div><div class=\"sk-serial\"><div class=\"sk-item\"><div class=\"sk-serial\"><div class=\"sk-item\"><div class=\"sk-estimator sk-toggleable\"><input class=\"sk-toggleable__control sk-hidden--visually\" id=\"ed5960f0-3522-47e2-99e6-b7582f34630f\" type=\"checkbox\" ><label for=\"ed5960f0-3522-47e2-99e6-b7582f34630f\" class=\"sk-toggleable__label sk-toggleable__label-arrow\">SimpleImputer</label><div class=\"sk-toggleable__content\"><pre>SimpleImputer(strategy=&#x27;most_frequent&#x27;)</pre></div></div></div><div class=\"sk-item\"><div class=\"sk-estimator sk-toggleable\"><input class=\"sk-toggleable__control sk-hidden--visually\" id=\"b53d44e6-6573-44d4-8b27-7bd1923b5e0d\" type=\"checkbox\" ><label for=\"b53d44e6-6573-44d4-8b27-7bd1923b5e0d\" class=\"sk-toggleable__label sk-toggleable__label-arrow\">OneHotEncoder</label><div class=\"sk-toggleable__content\"><pre>OneHotEncoder(handle_unknown=&#x27;ignore&#x27;, sparse=False)</pre></div></div></div></div></div></div></div></div></div></div><div class=\"sk-item\"><div class=\"sk-estimator sk-toggleable\"><input class=\"sk-toggleable__control sk-hidden--visually\" id=\"4dc593a4-b397-4be9-992f-278afb77f554\" type=\"checkbox\" ><label for=\"4dc593a4-b397-4be9-992f-278afb77f554\" class=\"sk-toggleable__label sk-toggleable__label-arrow\">DecisionTreeRegressor</label><div class=\"sk-toggleable__content\"><pre>DecisionTreeRegressor(max_depth=5, random_state=42)</pre></div></div></div></div></div></div></div>"
            ]
          },
          "metadata": {},
          "execution_count": 119
        }
      ]
    },
    {
      "cell_type": "code",
      "source": [
        "# Make Predictions using the tuned Decision Tree model\n",
        "dec_tree_5_train_preds = dec_tree_5_pipe.predict(X_train)\n",
        "dec_tree_5_test_preds = dec_tree_5_pipe.predict(X_test)"
      ],
      "metadata": {
        "id": "P3pcaNOz-nGW"
      },
      "execution_count": 120,
      "outputs": []
    },
    {
      "cell_type": "code",
      "source": [
        "# find MAE, MSE, RMSE and R2 on the decision tree model for the training data\n",
        "eval_regression(y_train, dec_tree_5_train_preds)"
      ],
      "metadata": {
        "colab": {
          "base_uri": "https://localhost:8080/"
        },
        "id": "R3fZL9VU-yDH",
        "outputId": "a98acb57-ded0-4922-f901-3b97b699e80e"
      },
      "execution_count": 121,
      "outputs": [
        {
          "output_type": "stream",
          "name": "stdout",
          "text": [
            "MAE 762.6101695559578,\n",
            " MSE 1172122.7729098853,\n",
            " RMSE: 1082.6461900869947,\n",
            " R^2: 0.6039397477322956 \n"
          ]
        }
      ]
    },
    {
      "cell_type": "code",
      "source": [
        "# find MAE, MSE, RMSE and R2 on the decision tree model for the test data\n",
        "eval_regression(y_test, dec_tree_5_test_preds)"
      ],
      "metadata": {
        "colab": {
          "base_uri": "https://localhost:8080/"
        },
        "id": "VAxl_EAw-zCT",
        "outputId": "79f7833c-c7f7-429f-c661-f4b40deb7e4f"
      },
      "execution_count": 122,
      "outputs": [
        {
          "output_type": "stream",
          "name": "stdout",
          "text": [
            "MAE 738.3173097797824,\n",
            " MSE 1118185.973077762,\n",
            " RMSE: 1057.4431299496734,\n",
            " R^2: 0.5947099753159972 \n"
          ]
        }
      ]
    },
    {
      "cell_type": "markdown",
      "source": [
        "**The metrics for evaluation of our optimized Decision Tree Model of depth 5 on our test data are: Mean Absolute Error(MAE) 738.32 [a decrease in MAE from 805.39 in our Linear Regression (LR) Model, Mean Squared Error(MSE) 1,118,185.97, and Root Mean Squared Errer(RMSE) of 1,057.44 [a decrease in RMSE from our LR Model of 1,094.39]. The R2 value explaining the variability in our target data is 0.5947 [an increase in R2 from our LR model of 0.5659].**"
      ],
      "metadata": {
        "id": "RJXU-OeJCgt9"
      }
    },
    {
      "cell_type": "markdown",
      "source": [
        "## **Model Recommendation**\n",
        "- The overall model recommendation is to use the Decision Tree Model with tuning the hyperparameter depth to 5.\n",
        "- There is an increase in the explanation in variability of the target values with an R2 score of 0.5947 for this model, higher than the 0.5659 score from the Linear Regression model.\n",
        "- Both the MAE and RMSE metrics were decreased with this model in comparison to the Linear Regression model, with values showing this decrease provided above."
      ],
      "metadata": {
        "id": "ximBTfu0GHxC"
      }
    }
  ]
}