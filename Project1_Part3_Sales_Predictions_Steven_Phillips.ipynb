{
  "nbformat": 4,
  "nbformat_minor": 0,
  "metadata": {
    "colab": {
      "provenance": [],
      "collapsed_sections": [],
      "authorship_tag": "ABX9TyNC8KqkIWgBzWXnZOq+QJvR",
      "include_colab_link": true
    },
    "kernelspec": {
      "name": "python3",
      "display_name": "Python 3"
    },
    "language_info": {
      "name": "python"
    }
  },
  "cells": [
    {
      "cell_type": "markdown",
      "metadata": {
        "id": "view-in-github",
        "colab_type": "text"
      },
      "source": [
        "<a href=\"https://colab.research.google.com/github/stp511/sales_prediction1/blob/main/Project1_Part3_Sales_Predictions_Steven_Phillips.ipynb\" target=\"_parent\"><img src=\"https://colab.research.google.com/assets/colab-badge.svg\" alt=\"Open In Colab\"/></a>"
      ]
    },
    {
      "cell_type": "markdown",
      "source": [
        "# Project 1 - Part 3 of Sales Predictions\n",
        "\n"
      ],
      "metadata": {
        "id": "h6dDS2um0IPm"
      }
    },
    {
      "cell_type": "markdown",
      "source": [],
      "metadata": {
        "id": "z9A51jD5cc1K"
      }
    },
    {
      "cell_type": "markdown",
      "source": [
        "- Steven Phillips\n",
        "- 09/30/2022"
      ],
      "metadata": {
        "id": "CoRoMxgQ0v8L"
      }
    },
    {
      "cell_type": "markdown",
      "source": [
        "## Loading Data\n"
      ],
      "metadata": {
        "id": "i6hWL6a60cBR"
      }
    },
    {
      "cell_type": "code",
      "source": [
        "#import the pandas library\n",
        "import pandas as pd"
      ],
      "metadata": {
        "id": "82KRWXD5d1Vz"
      },
      "execution_count": 1,
      "outputs": []
    },
    {
      "cell_type": "code",
      "source": [
        "#mount data\n",
        "from google.colab import drive\n",
        "drive.mount('/content/drive')"
      ],
      "metadata": {
        "colab": {
          "base_uri": "https://localhost:8080/"
        },
        "id": "sN7E6nu4d8JA",
        "outputId": "9423bf15-af4a-4bb7-f96e-40e102b5aeed"
      },
      "execution_count": 2,
      "outputs": [
        {
          "output_type": "stream",
          "name": "stdout",
          "text": [
            "Mounted at /content/drive\n"
          ]
        }
      ]
    },
    {
      "cell_type": "code",
      "source": [
        "#Load the data for Sales Predictions csv file as a data frame and present the first five rows\n",
        "filename = '/content/sales_predictions.csv'\n",
        "df = pd.read_csv(filename)\n",
        "df.head()"
      ],
      "metadata": {
        "colab": {
          "base_uri": "https://localhost:8080/",
          "height": 357
        },
        "id": "4YRA--4jeMU-",
        "outputId": "9ef37173-e0e6-4445-f4b9-76518abc1475"
      },
      "execution_count": 3,
      "outputs": [
        {
          "output_type": "execute_result",
          "data": {
            "text/plain": [
              "  Item_Identifier  Item_Weight Item_Fat_Content  Item_Visibility  \\\n",
              "0           FDA15         9.30          Low Fat         0.016047   \n",
              "1           DRC01         5.92          Regular         0.019278   \n",
              "2           FDN15        17.50          Low Fat         0.016760   \n",
              "3           FDX07        19.20          Regular         0.000000   \n",
              "4           NCD19         8.93          Low Fat         0.000000   \n",
              "\n",
              "               Item_Type  Item_MRP Outlet_Identifier  \\\n",
              "0                  Dairy  249.8092            OUT049   \n",
              "1            Soft Drinks   48.2692            OUT018   \n",
              "2                   Meat  141.6180            OUT049   \n",
              "3  Fruits and Vegetables  182.0950            OUT010   \n",
              "4              Household   53.8614            OUT013   \n",
              "\n",
              "   Outlet_Establishment_Year Outlet_Size Outlet_Location_Type  \\\n",
              "0                       1999      Medium               Tier 1   \n",
              "1                       2009      Medium               Tier 3   \n",
              "2                       1999      Medium               Tier 1   \n",
              "3                       1998         NaN               Tier 3   \n",
              "4                       1987        High               Tier 3   \n",
              "\n",
              "         Outlet_Type  Item_Outlet_Sales  \n",
              "0  Supermarket Type1          3735.1380  \n",
              "1  Supermarket Type2           443.4228  \n",
              "2  Supermarket Type1          2097.2700  \n",
              "3      Grocery Store           732.3800  \n",
              "4  Supermarket Type1           994.7052  "
            ],
            "text/html": [
              "\n",
              "  <div id=\"df-59cd23e5-deef-4244-b822-131d66d2d643\">\n",
              "    <div class=\"colab-df-container\">\n",
              "      <div>\n",
              "<style scoped>\n",
              "    .dataframe tbody tr th:only-of-type {\n",
              "        vertical-align: middle;\n",
              "    }\n",
              "\n",
              "    .dataframe tbody tr th {\n",
              "        vertical-align: top;\n",
              "    }\n",
              "\n",
              "    .dataframe thead th {\n",
              "        text-align: right;\n",
              "    }\n",
              "</style>\n",
              "<table border=\"1\" class=\"dataframe\">\n",
              "  <thead>\n",
              "    <tr style=\"text-align: right;\">\n",
              "      <th></th>\n",
              "      <th>Item_Identifier</th>\n",
              "      <th>Item_Weight</th>\n",
              "      <th>Item_Fat_Content</th>\n",
              "      <th>Item_Visibility</th>\n",
              "      <th>Item_Type</th>\n",
              "      <th>Item_MRP</th>\n",
              "      <th>Outlet_Identifier</th>\n",
              "      <th>Outlet_Establishment_Year</th>\n",
              "      <th>Outlet_Size</th>\n",
              "      <th>Outlet_Location_Type</th>\n",
              "      <th>Outlet_Type</th>\n",
              "      <th>Item_Outlet_Sales</th>\n",
              "    </tr>\n",
              "  </thead>\n",
              "  <tbody>\n",
              "    <tr>\n",
              "      <th>0</th>\n",
              "      <td>FDA15</td>\n",
              "      <td>9.30</td>\n",
              "      <td>Low Fat</td>\n",
              "      <td>0.016047</td>\n",
              "      <td>Dairy</td>\n",
              "      <td>249.8092</td>\n",
              "      <td>OUT049</td>\n",
              "      <td>1999</td>\n",
              "      <td>Medium</td>\n",
              "      <td>Tier 1</td>\n",
              "      <td>Supermarket Type1</td>\n",
              "      <td>3735.1380</td>\n",
              "    </tr>\n",
              "    <tr>\n",
              "      <th>1</th>\n",
              "      <td>DRC01</td>\n",
              "      <td>5.92</td>\n",
              "      <td>Regular</td>\n",
              "      <td>0.019278</td>\n",
              "      <td>Soft Drinks</td>\n",
              "      <td>48.2692</td>\n",
              "      <td>OUT018</td>\n",
              "      <td>2009</td>\n",
              "      <td>Medium</td>\n",
              "      <td>Tier 3</td>\n",
              "      <td>Supermarket Type2</td>\n",
              "      <td>443.4228</td>\n",
              "    </tr>\n",
              "    <tr>\n",
              "      <th>2</th>\n",
              "      <td>FDN15</td>\n",
              "      <td>17.50</td>\n",
              "      <td>Low Fat</td>\n",
              "      <td>0.016760</td>\n",
              "      <td>Meat</td>\n",
              "      <td>141.6180</td>\n",
              "      <td>OUT049</td>\n",
              "      <td>1999</td>\n",
              "      <td>Medium</td>\n",
              "      <td>Tier 1</td>\n",
              "      <td>Supermarket Type1</td>\n",
              "      <td>2097.2700</td>\n",
              "    </tr>\n",
              "    <tr>\n",
              "      <th>3</th>\n",
              "      <td>FDX07</td>\n",
              "      <td>19.20</td>\n",
              "      <td>Regular</td>\n",
              "      <td>0.000000</td>\n",
              "      <td>Fruits and Vegetables</td>\n",
              "      <td>182.0950</td>\n",
              "      <td>OUT010</td>\n",
              "      <td>1998</td>\n",
              "      <td>NaN</td>\n",
              "      <td>Tier 3</td>\n",
              "      <td>Grocery Store</td>\n",
              "      <td>732.3800</td>\n",
              "    </tr>\n",
              "    <tr>\n",
              "      <th>4</th>\n",
              "      <td>NCD19</td>\n",
              "      <td>8.93</td>\n",
              "      <td>Low Fat</td>\n",
              "      <td>0.000000</td>\n",
              "      <td>Household</td>\n",
              "      <td>53.8614</td>\n",
              "      <td>OUT013</td>\n",
              "      <td>1987</td>\n",
              "      <td>High</td>\n",
              "      <td>Tier 3</td>\n",
              "      <td>Supermarket Type1</td>\n",
              "      <td>994.7052</td>\n",
              "    </tr>\n",
              "  </tbody>\n",
              "</table>\n",
              "</div>\n",
              "      <button class=\"colab-df-convert\" onclick=\"convertToInteractive('df-59cd23e5-deef-4244-b822-131d66d2d643')\"\n",
              "              title=\"Convert this dataframe to an interactive table.\"\n",
              "              style=\"display:none;\">\n",
              "        \n",
              "  <svg xmlns=\"http://www.w3.org/2000/svg\" height=\"24px\"viewBox=\"0 0 24 24\"\n",
              "       width=\"24px\">\n",
              "    <path d=\"M0 0h24v24H0V0z\" fill=\"none\"/>\n",
              "    <path d=\"M18.56 5.44l.94 2.06.94-2.06 2.06-.94-2.06-.94-.94-2.06-.94 2.06-2.06.94zm-11 1L8.5 8.5l.94-2.06 2.06-.94-2.06-.94L8.5 2.5l-.94 2.06-2.06.94zm10 10l.94 2.06.94-2.06 2.06-.94-2.06-.94-.94-2.06-.94 2.06-2.06.94z\"/><path d=\"M17.41 7.96l-1.37-1.37c-.4-.4-.92-.59-1.43-.59-.52 0-1.04.2-1.43.59L10.3 9.45l-7.72 7.72c-.78.78-.78 2.05 0 2.83L4 21.41c.39.39.9.59 1.41.59.51 0 1.02-.2 1.41-.59l7.78-7.78 2.81-2.81c.8-.78.8-2.07 0-2.86zM5.41 20L4 18.59l7.72-7.72 1.47 1.35L5.41 20z\"/>\n",
              "  </svg>\n",
              "      </button>\n",
              "      \n",
              "  <style>\n",
              "    .colab-df-container {\n",
              "      display:flex;\n",
              "      flex-wrap:wrap;\n",
              "      gap: 12px;\n",
              "    }\n",
              "\n",
              "    .colab-df-convert {\n",
              "      background-color: #E8F0FE;\n",
              "      border: none;\n",
              "      border-radius: 50%;\n",
              "      cursor: pointer;\n",
              "      display: none;\n",
              "      fill: #1967D2;\n",
              "      height: 32px;\n",
              "      padding: 0 0 0 0;\n",
              "      width: 32px;\n",
              "    }\n",
              "\n",
              "    .colab-df-convert:hover {\n",
              "      background-color: #E2EBFA;\n",
              "      box-shadow: 0px 1px 2px rgba(60, 64, 67, 0.3), 0px 1px 3px 1px rgba(60, 64, 67, 0.15);\n",
              "      fill: #174EA6;\n",
              "    }\n",
              "\n",
              "    [theme=dark] .colab-df-convert {\n",
              "      background-color: #3B4455;\n",
              "      fill: #D2E3FC;\n",
              "    }\n",
              "\n",
              "    [theme=dark] .colab-df-convert:hover {\n",
              "      background-color: #434B5C;\n",
              "      box-shadow: 0px 1px 3px 1px rgba(0, 0, 0, 0.15);\n",
              "      filter: drop-shadow(0px 1px 2px rgba(0, 0, 0, 0.3));\n",
              "      fill: #FFFFFF;\n",
              "    }\n",
              "  </style>\n",
              "\n",
              "      <script>\n",
              "        const buttonEl =\n",
              "          document.querySelector('#df-59cd23e5-deef-4244-b822-131d66d2d643 button.colab-df-convert');\n",
              "        buttonEl.style.display =\n",
              "          google.colab.kernel.accessAllowed ? 'block' : 'none';\n",
              "\n",
              "        async function convertToInteractive(key) {\n",
              "          const element = document.querySelector('#df-59cd23e5-deef-4244-b822-131d66d2d643');\n",
              "          const dataTable =\n",
              "            await google.colab.kernel.invokeFunction('convertToInteractive',\n",
              "                                                     [key], {});\n",
              "          if (!dataTable) return;\n",
              "\n",
              "          const docLinkHtml = 'Like what you see? Visit the ' +\n",
              "            '<a target=\"_blank\" href=https://colab.research.google.com/notebooks/data_table.ipynb>data table notebook</a>'\n",
              "            + ' to learn more about interactive tables.';\n",
              "          element.innerHTML = '';\n",
              "          dataTable['output_type'] = 'display_data';\n",
              "          await google.colab.output.renderOutput(dataTable, element);\n",
              "          const docLink = document.createElement('div');\n",
              "          docLink.innerHTML = docLinkHtml;\n",
              "          element.appendChild(docLink);\n",
              "        }\n",
              "      </script>\n",
              "    </div>\n",
              "  </div>\n",
              "  "
            ]
          },
          "metadata": {},
          "execution_count": 3
        }
      ]
    },
    {
      "cell_type": "markdown",
      "source": [
        "\n",
        "## Data Cleaning"
      ],
      "metadata": {
        "id": "aklope9W0e1c"
      }
    },
    {
      "cell_type": "markdown",
      "source": [
        "### Discover the shape of the Data Frame\n"
      ],
      "metadata": {
        "id": "zUIQZk-1e76S"
      }
    },
    {
      "cell_type": "code",
      "source": [
        "#shape of data frame rows x columns or (rows, columns)\n",
        "df.shape"
      ],
      "metadata": {
        "colab": {
          "base_uri": "https://localhost:8080/"
        },
        "id": "-93OqK8qfrzX",
        "outputId": "a3dbe7ec-e0ec-4908-f3dc-95491c661e40"
      },
      "execution_count": 4,
      "outputs": [
        {
          "output_type": "execute_result",
          "data": {
            "text/plain": [
              "(8523, 12)"
            ]
          },
          "metadata": {},
          "execution_count": 4
        }
      ]
    },
    {
      "cell_type": "markdown",
      "source": [
        "###Display the data types of each variable"
      ],
      "metadata": {
        "id": "H2DbujATfbei"
      }
    },
    {
      "cell_type": "code",
      "source": [
        "#display information including the data types of each variable\n",
        "df.info()"
      ],
      "metadata": {
        "colab": {
          "base_uri": "https://localhost:8080/"
        },
        "id": "n1WVFozLf8U2",
        "outputId": "e0d8161d-a1f6-4b1d-e4b4-36b994e9b1e6"
      },
      "execution_count": 5,
      "outputs": [
        {
          "output_type": "stream",
          "name": "stdout",
          "text": [
            "<class 'pandas.core.frame.DataFrame'>\n",
            "RangeIndex: 8523 entries, 0 to 8522\n",
            "Data columns (total 12 columns):\n",
            " #   Column                     Non-Null Count  Dtype  \n",
            "---  ------                     --------------  -----  \n",
            " 0   Item_Identifier            8523 non-null   object \n",
            " 1   Item_Weight                7060 non-null   float64\n",
            " 2   Item_Fat_Content           8523 non-null   object \n",
            " 3   Item_Visibility            8523 non-null   float64\n",
            " 4   Item_Type                  8523 non-null   object \n",
            " 5   Item_MRP                   8523 non-null   float64\n",
            " 6   Outlet_Identifier          8523 non-null   object \n",
            " 7   Outlet_Establishment_Year  8523 non-null   int64  \n",
            " 8   Outlet_Size                6113 non-null   object \n",
            " 9   Outlet_Location_Type       8523 non-null   object \n",
            " 10  Outlet_Type                8523 non-null   object \n",
            " 11  Item_Outlet_Sales          8523 non-null   float64\n",
            "dtypes: float64(4), int64(1), object(7)\n",
            "memory usage: 799.2+ KB\n"
          ]
        }
      ]
    },
    {
      "cell_type": "markdown",
      "source": [
        "### Check for duplicate rows in the data frame, and if so drop and confirm"
      ],
      "metadata": {
        "id": "960x3ikSfxRT"
      }
    },
    {
      "cell_type": "code",
      "source": [
        "#check for duplicates\n",
        "df.duplicated()\n"
      ],
      "metadata": {
        "colab": {
          "base_uri": "https://localhost:8080/"
        },
        "id": "EusuJaX_gGez",
        "outputId": "f6dc1f32-b2a6-4654-9592-002d39967447"
      },
      "execution_count": 6,
      "outputs": [
        {
          "output_type": "execute_result",
          "data": {
            "text/plain": [
              "0       False\n",
              "1       False\n",
              "2       False\n",
              "3       False\n",
              "4       False\n",
              "        ...  \n",
              "8518    False\n",
              "8519    False\n",
              "8520    False\n",
              "8521    False\n",
              "8522    False\n",
              "Length: 8523, dtype: bool"
            ]
          },
          "metadata": {},
          "execution_count": 6
        }
      ]
    },
    {
      "cell_type": "code",
      "source": [
        "#confirm there are no more duplicates\n",
        "df.duplicated().sum()"
      ],
      "metadata": {
        "colab": {
          "base_uri": "https://localhost:8080/"
        },
        "id": "yY3xZsS7hEKB",
        "outputId": "ce2ee091-6292-4d4e-82f2-421a7eb74b8d"
      },
      "execution_count": 7,
      "outputs": [
        {
          "output_type": "execute_result",
          "data": {
            "text/plain": [
              "0"
            ]
          },
          "metadata": {},
          "execution_count": 7
        }
      ]
    },
    {
      "cell_type": "markdown",
      "source": [
        "###Identify Missing Values"
      ],
      "metadata": {
        "id": "Lqm5AYmhf_YH"
      }
    },
    {
      "cell_type": "code",
      "source": [
        "#identify missing values in the data frame\n",
        "df.isna().sum()"
      ],
      "metadata": {
        "colab": {
          "base_uri": "https://localhost:8080/"
        },
        "id": "DTXU4n9chho1",
        "outputId": "037e9f26-48fc-4c67-d642-5840ee2fe4c6"
      },
      "execution_count": 8,
      "outputs": [
        {
          "output_type": "execute_result",
          "data": {
            "text/plain": [
              "Item_Identifier                 0\n",
              "Item_Weight                  1463\n",
              "Item_Fat_Content                0\n",
              "Item_Visibility                 0\n",
              "Item_Type                       0\n",
              "Item_MRP                        0\n",
              "Outlet_Identifier               0\n",
              "Outlet_Establishment_Year       0\n",
              "Outlet_Size                  2410\n",
              "Outlet_Location_Type            0\n",
              "Outlet_Type                     0\n",
              "Item_Outlet_Sales               0\n",
              "dtype: int64"
            ]
          },
          "metadata": {},
          "execution_count": 8
        }
      ]
    },
    {
      "cell_type": "markdown",
      "source": [
        "### Replacing the missing values of the numeric Item_Weight with the mean of existing Item_Weight values"
      ],
      "metadata": {
        "id": "xqrJZxaogNFd"
      }
    },
    {
      "cell_type": "code",
      "source": [
        "#Less than 50% of Item_Weight values missing, not dropping the column\n",
        "#find the mean of Item_Weight and replace missing values in 'Item_Weight'\n",
        "#confirm no more missing Item_Weight values\n",
        "mean_Item_Weight = df['Item_Weight'].mean()\n",
        "df['Item_Weight'].fillna(mean_Item_Weight, inplace=True)\n",
        "df.isna().sum()"
      ],
      "metadata": {
        "colab": {
          "base_uri": "https://localhost:8080/"
        },
        "id": "K3mOUakIoXoz",
        "outputId": "19d47994-cff6-4234-ddff-a7623a09e974"
      },
      "execution_count": 9,
      "outputs": [
        {
          "output_type": "execute_result",
          "data": {
            "text/plain": [
              "Item_Identifier                 0\n",
              "Item_Weight                     0\n",
              "Item_Fat_Content                0\n",
              "Item_Visibility                 0\n",
              "Item_Type                       0\n",
              "Item_MRP                        0\n",
              "Outlet_Identifier               0\n",
              "Outlet_Establishment_Year       0\n",
              "Outlet_Size                  2410\n",
              "Outlet_Location_Type            0\n",
              "Outlet_Type                     0\n",
              "Item_Outlet_Sales               0\n",
              "dtype: int64"
            ]
          },
          "metadata": {},
          "execution_count": 9
        }
      ]
    },
    {
      "cell_type": "markdown",
      "source": [
        "### Replacing the missing values of the categorical Outlet_Size with the 'Missing"
      ],
      "metadata": {
        "id": "0lLOQmT4guJq"
      }
    },
    {
      "cell_type": "code",
      "source": [
        "# replace missing values in Outlet_Size with 'Missing', not using Mode as there is not a large percentage\n",
        "# of one value amongst Outlet_Size \n",
        "# not deleting rows with missing Outlet_Size as too much data would be lost\n",
        "#confirm no more missing Item_Weight values\n",
        "df['Outlet_Size'].fillna('Missing', inplace=True)\n",
        "df.isna().sum()\n"
      ],
      "metadata": {
        "id": "NWIh2HqTpWz6",
        "colab": {
          "base_uri": "https://localhost:8080/"
        },
        "outputId": "676dc8b4-0135-4112-87d9-23892e61bb91"
      },
      "execution_count": 10,
      "outputs": [
        {
          "output_type": "execute_result",
          "data": {
            "text/plain": [
              "Item_Identifier              0\n",
              "Item_Weight                  0\n",
              "Item_Fat_Content             0\n",
              "Item_Visibility              0\n",
              "Item_Type                    0\n",
              "Item_MRP                     0\n",
              "Outlet_Identifier            0\n",
              "Outlet_Establishment_Year    0\n",
              "Outlet_Size                  0\n",
              "Outlet_Location_Type         0\n",
              "Outlet_Type                  0\n",
              "Item_Outlet_Sales            0\n",
              "dtype: int64"
            ]
          },
          "metadata": {},
          "execution_count": 10
        }
      ]
    },
    {
      "cell_type": "markdown",
      "source": [
        "### Find and Fix any inconsistent categories of data"
      ],
      "metadata": {
        "id": "KqPFGNkLh4CN"
      }
    },
    {
      "cell_type": "code",
      "source": [
        "#check for inconsistencies within categorial data\n"
      ],
      "metadata": {
        "id": "RdVa-qO751D9"
      },
      "execution_count": 11,
      "outputs": []
    },
    {
      "cell_type": "code",
      "source": [
        "#check for inconsistencies 'Item_Identifier' [none]\n",
        "df['Item_Identifier'].value_counts()"
      ],
      "metadata": {
        "colab": {
          "base_uri": "https://localhost:8080/"
        },
        "id": "Lx-kIlLH74QT",
        "outputId": "629a3868-debc-409e-b0e1-d08ceb29e3a0"
      },
      "execution_count": 12,
      "outputs": [
        {
          "output_type": "execute_result",
          "data": {
            "text/plain": [
              "FDW13    10\n",
              "FDG33    10\n",
              "NCY18     9\n",
              "FDD38     9\n",
              "DRE49     9\n",
              "         ..\n",
              "FDY43     1\n",
              "FDQ60     1\n",
              "FDO33     1\n",
              "DRF48     1\n",
              "FDC23     1\n",
              "Name: Item_Identifier, Length: 1559, dtype: int64"
            ]
          },
          "metadata": {},
          "execution_count": 12
        }
      ]
    },
    {
      "cell_type": "code",
      "source": [
        "#check for inconsistencies 'Item_Fat_Content'\n",
        "df['Item_Fat_Content'].value_counts()"
      ],
      "metadata": {
        "colab": {
          "base_uri": "https://localhost:8080/"
        },
        "id": "r0rpdyAY7z-W",
        "outputId": "a29b4286-449b-4f44-9f0f-1695318de3ee"
      },
      "execution_count": 13,
      "outputs": [
        {
          "output_type": "execute_result",
          "data": {
            "text/plain": [
              "Low Fat    5089\n",
              "Regular    2889\n",
              "LF          316\n",
              "reg         117\n",
              "low fat     112\n",
              "Name: Item_Fat_Content, dtype: int64"
            ]
          },
          "metadata": {},
          "execution_count": 13
        }
      ]
    },
    {
      "cell_type": "code",
      "source": [
        "#Within Item_Fat_Content replace reg with Regular and Lf/low fat with Low Fat and confirm\n",
        "df['Item_Fat_Content'].replace(['LF', 'low fat'], ['Low Fat', 'Low Fat'], inplace=True)\n",
        "df['Item_Fat_Content'].replace(['reg'], ['Regular'], inplace=True)\n",
        "df['Item_Fat_Content'].value_counts()"
      ],
      "metadata": {
        "colab": {
          "base_uri": "https://localhost:8080/"
        },
        "id": "TM5nS-KA8TXn",
        "outputId": "a71f56f6-c719-40d3-b7f0-bfccfef0f6f8"
      },
      "execution_count": 14,
      "outputs": [
        {
          "output_type": "execute_result",
          "data": {
            "text/plain": [
              "Low Fat    5517\n",
              "Regular    3006\n",
              "Name: Item_Fat_Content, dtype: int64"
            ]
          },
          "metadata": {},
          "execution_count": 14
        }
      ]
    },
    {
      "cell_type": "code",
      "source": [
        "#check for inconsistencies 'Item_Type' [none]\n",
        "df['Item_Type'].value_counts()"
      ],
      "metadata": {
        "colab": {
          "base_uri": "https://localhost:8080/"
        },
        "id": "jEr2_M5g-DO5",
        "outputId": "ec25747b-f920-45df-de0a-e0fb2bbc7880"
      },
      "execution_count": 15,
      "outputs": [
        {
          "output_type": "execute_result",
          "data": {
            "text/plain": [
              "Fruits and Vegetables    1232\n",
              "Snack Foods              1200\n",
              "Household                 910\n",
              "Frozen Foods              856\n",
              "Dairy                     682\n",
              "Canned                    649\n",
              "Baking Goods              648\n",
              "Health and Hygiene        520\n",
              "Soft Drinks               445\n",
              "Meat                      425\n",
              "Breads                    251\n",
              "Hard Drinks               214\n",
              "Others                    169\n",
              "Starchy Foods             148\n",
              "Breakfast                 110\n",
              "Seafood                    64\n",
              "Name: Item_Type, dtype: int64"
            ]
          },
          "metadata": {},
          "execution_count": 15
        }
      ]
    },
    {
      "cell_type": "code",
      "source": [
        "#check for inconsistencies 'Outlet_Identifier' [none]\n",
        "df['Outlet_Identifier'].value_counts()"
      ],
      "metadata": {
        "colab": {
          "base_uri": "https://localhost:8080/"
        },
        "id": "Wq5vfHdr-RFd",
        "outputId": "f938898c-4b35-44e9-f007-b7caef16f8ec"
      },
      "execution_count": 16,
      "outputs": [
        {
          "output_type": "execute_result",
          "data": {
            "text/plain": [
              "OUT027    935\n",
              "OUT013    932\n",
              "OUT049    930\n",
              "OUT046    930\n",
              "OUT035    930\n",
              "OUT045    929\n",
              "OUT018    928\n",
              "OUT017    926\n",
              "OUT010    555\n",
              "OUT019    528\n",
              "Name: Outlet_Identifier, dtype: int64"
            ]
          },
          "metadata": {},
          "execution_count": 16
        }
      ]
    },
    {
      "cell_type": "code",
      "source": [
        "#check for inconsistencies 'Outlet_Size' [none]\n",
        "df['Outlet_Size'].value_counts()"
      ],
      "metadata": {
        "colab": {
          "base_uri": "https://localhost:8080/"
        },
        "id": "g7uS3aMg-wgn",
        "outputId": "4b0c7840-930b-42b9-9264-e38da0c79b65"
      },
      "execution_count": 17,
      "outputs": [
        {
          "output_type": "execute_result",
          "data": {
            "text/plain": [
              "Medium     2793\n",
              "Missing    2410\n",
              "Small      2388\n",
              "High        932\n",
              "Name: Outlet_Size, dtype: int64"
            ]
          },
          "metadata": {},
          "execution_count": 17
        }
      ]
    },
    {
      "cell_type": "code",
      "source": [
        "#check for inconsistencies 'Outlet_Location_Type' [none]\n",
        "df['Outlet_Location_Type'].value_counts()"
      ],
      "metadata": {
        "colab": {
          "base_uri": "https://localhost:8080/"
        },
        "id": "b0C23_eVFHJF",
        "outputId": "cc6b1c2d-4a70-4700-f741-bbc285afda5c"
      },
      "execution_count": 18,
      "outputs": [
        {
          "output_type": "execute_result",
          "data": {
            "text/plain": [
              "Tier 3    3350\n",
              "Tier 2    2785\n",
              "Tier 1    2388\n",
              "Name: Outlet_Location_Type, dtype: int64"
            ]
          },
          "metadata": {},
          "execution_count": 18
        }
      ]
    },
    {
      "cell_type": "code",
      "source": [
        "#check for inconsistencies 'Outlet_Type' [none]\n",
        "df['Outlet_Type'].value_counts()"
      ],
      "metadata": {
        "colab": {
          "base_uri": "https://localhost:8080/"
        },
        "id": "WbCbU1QSFRUB",
        "outputId": "d64fe50f-5555-4057-9069-2b4672958e19"
      },
      "execution_count": 19,
      "outputs": [
        {
          "output_type": "execute_result",
          "data": {
            "text/plain": [
              "Supermarket Type1    5577\n",
              "Grocery Store        1083\n",
              "Supermarket Type3     935\n",
              "Supermarket Type2     928\n",
              "Name: Outlet_Type, dtype: int64"
            ]
          },
          "metadata": {},
          "execution_count": 19
        }
      ]
    },
    {
      "cell_type": "markdown",
      "source": [
        "### Display summary statistics of each numerical column, min, max, mean"
      ],
      "metadata": {
        "id": "ay1lFpg3henx"
      }
    },
    {
      "cell_type": "code",
      "source": [
        "#summary statistics of numerical columns [round to 2 decimal places]\n",
        "df.agg(\n",
        "    {\n",
        "        \"Item_Weight\": [\"min\", \"max\", \"mean\"],\n",
        "        \"Item_Visibility\": [\"min\", \"max\", \"mean\"], \n",
        "        \"Item_MRP\": [\"min\", \"max\", \"mean\"], \n",
        "        \"Outlet_Establishment_Year\": [\"min\", \"max\", \"mean\"], \n",
        "        \"Item_Outlet_Sales\": [\"min\", \"max\", \"mean\"]\n",
        "    }\n",
        ").round(2)"
      ],
      "metadata": {
        "colab": {
          "base_uri": "https://localhost:8080/",
          "height": 143
        },
        "id": "ZkrKiSHjF-Ls",
        "outputId": "7a1ef9c7-b00b-4494-da10-c6d757b7d6f2"
      },
      "execution_count": 20,
      "outputs": [
        {
          "output_type": "execute_result",
          "data": {
            "text/plain": [
              "      Item_Weight  Item_Visibility  Item_MRP  Outlet_Establishment_Year  \\\n",
              "min          4.56             0.00     31.29                    1985.00   \n",
              "max         21.35             0.33    266.89                    2009.00   \n",
              "mean        12.86             0.07    140.99                    1997.83   \n",
              "\n",
              "      Item_Outlet_Sales  \n",
              "min               33.29  \n",
              "max            13086.96  \n",
              "mean            2181.29  "
            ],
            "text/html": [
              "\n",
              "  <div id=\"df-3f584b75-c734-4054-815e-a712a95c241f\">\n",
              "    <div class=\"colab-df-container\">\n",
              "      <div>\n",
              "<style scoped>\n",
              "    .dataframe tbody tr th:only-of-type {\n",
              "        vertical-align: middle;\n",
              "    }\n",
              "\n",
              "    .dataframe tbody tr th {\n",
              "        vertical-align: top;\n",
              "    }\n",
              "\n",
              "    .dataframe thead th {\n",
              "        text-align: right;\n",
              "    }\n",
              "</style>\n",
              "<table border=\"1\" class=\"dataframe\">\n",
              "  <thead>\n",
              "    <tr style=\"text-align: right;\">\n",
              "      <th></th>\n",
              "      <th>Item_Weight</th>\n",
              "      <th>Item_Visibility</th>\n",
              "      <th>Item_MRP</th>\n",
              "      <th>Outlet_Establishment_Year</th>\n",
              "      <th>Item_Outlet_Sales</th>\n",
              "    </tr>\n",
              "  </thead>\n",
              "  <tbody>\n",
              "    <tr>\n",
              "      <th>min</th>\n",
              "      <td>4.56</td>\n",
              "      <td>0.00</td>\n",
              "      <td>31.29</td>\n",
              "      <td>1985.00</td>\n",
              "      <td>33.29</td>\n",
              "    </tr>\n",
              "    <tr>\n",
              "      <th>max</th>\n",
              "      <td>21.35</td>\n",
              "      <td>0.33</td>\n",
              "      <td>266.89</td>\n",
              "      <td>2009.00</td>\n",
              "      <td>13086.96</td>\n",
              "    </tr>\n",
              "    <tr>\n",
              "      <th>mean</th>\n",
              "      <td>12.86</td>\n",
              "      <td>0.07</td>\n",
              "      <td>140.99</td>\n",
              "      <td>1997.83</td>\n",
              "      <td>2181.29</td>\n",
              "    </tr>\n",
              "  </tbody>\n",
              "</table>\n",
              "</div>\n",
              "      <button class=\"colab-df-convert\" onclick=\"convertToInteractive('df-3f584b75-c734-4054-815e-a712a95c241f')\"\n",
              "              title=\"Convert this dataframe to an interactive table.\"\n",
              "              style=\"display:none;\">\n",
              "        \n",
              "  <svg xmlns=\"http://www.w3.org/2000/svg\" height=\"24px\"viewBox=\"0 0 24 24\"\n",
              "       width=\"24px\">\n",
              "    <path d=\"M0 0h24v24H0V0z\" fill=\"none\"/>\n",
              "    <path d=\"M18.56 5.44l.94 2.06.94-2.06 2.06-.94-2.06-.94-.94-2.06-.94 2.06-2.06.94zm-11 1L8.5 8.5l.94-2.06 2.06-.94-2.06-.94L8.5 2.5l-.94 2.06-2.06.94zm10 10l.94 2.06.94-2.06 2.06-.94-2.06-.94-.94-2.06-.94 2.06-2.06.94z\"/><path d=\"M17.41 7.96l-1.37-1.37c-.4-.4-.92-.59-1.43-.59-.52 0-1.04.2-1.43.59L10.3 9.45l-7.72 7.72c-.78.78-.78 2.05 0 2.83L4 21.41c.39.39.9.59 1.41.59.51 0 1.02-.2 1.41-.59l7.78-7.78 2.81-2.81c.8-.78.8-2.07 0-2.86zM5.41 20L4 18.59l7.72-7.72 1.47 1.35L5.41 20z\"/>\n",
              "  </svg>\n",
              "      </button>\n",
              "      \n",
              "  <style>\n",
              "    .colab-df-container {\n",
              "      display:flex;\n",
              "      flex-wrap:wrap;\n",
              "      gap: 12px;\n",
              "    }\n",
              "\n",
              "    .colab-df-convert {\n",
              "      background-color: #E8F0FE;\n",
              "      border: none;\n",
              "      border-radius: 50%;\n",
              "      cursor: pointer;\n",
              "      display: none;\n",
              "      fill: #1967D2;\n",
              "      height: 32px;\n",
              "      padding: 0 0 0 0;\n",
              "      width: 32px;\n",
              "    }\n",
              "\n",
              "    .colab-df-convert:hover {\n",
              "      background-color: #E2EBFA;\n",
              "      box-shadow: 0px 1px 2px rgba(60, 64, 67, 0.3), 0px 1px 3px 1px rgba(60, 64, 67, 0.15);\n",
              "      fill: #174EA6;\n",
              "    }\n",
              "\n",
              "    [theme=dark] .colab-df-convert {\n",
              "      background-color: #3B4455;\n",
              "      fill: #D2E3FC;\n",
              "    }\n",
              "\n",
              "    [theme=dark] .colab-df-convert:hover {\n",
              "      background-color: #434B5C;\n",
              "      box-shadow: 0px 1px 3px 1px rgba(0, 0, 0, 0.15);\n",
              "      filter: drop-shadow(0px 1px 2px rgba(0, 0, 0, 0.3));\n",
              "      fill: #FFFFFF;\n",
              "    }\n",
              "  </style>\n",
              "\n",
              "      <script>\n",
              "        const buttonEl =\n",
              "          document.querySelector('#df-3f584b75-c734-4054-815e-a712a95c241f button.colab-df-convert');\n",
              "        buttonEl.style.display =\n",
              "          google.colab.kernel.accessAllowed ? 'block' : 'none';\n",
              "\n",
              "        async function convertToInteractive(key) {\n",
              "          const element = document.querySelector('#df-3f584b75-c734-4054-815e-a712a95c241f');\n",
              "          const dataTable =\n",
              "            await google.colab.kernel.invokeFunction('convertToInteractive',\n",
              "                                                     [key], {});\n",
              "          if (!dataTable) return;\n",
              "\n",
              "          const docLinkHtml = 'Like what you see? Visit the ' +\n",
              "            '<a target=\"_blank\" href=https://colab.research.google.com/notebooks/data_table.ipynb>data table notebook</a>'\n",
              "            + ' to learn more about interactive tables.';\n",
              "          element.innerHTML = '';\n",
              "          dataTable['output_type'] = 'display_data';\n",
              "          await google.colab.output.renderOutput(dataTable, element);\n",
              "          const docLink = document.createElement('div');\n",
              "          docLink.innerHTML = docLinkHtml;\n",
              "          element.appendChild(docLink);\n",
              "        }\n",
              "      </script>\n",
              "    </div>\n",
              "  </div>\n",
              "  "
            ]
          },
          "metadata": {},
          "execution_count": 20
        }
      ]
    },
    {
      "cell_type": "markdown",
      "source": [
        "\n",
        "## Exploratory Visuals"
      ],
      "metadata": {
        "id": "6v9WY9C30gS2"
      }
    },
    {
      "cell_type": "code",
      "source": [
        "## import additional libraries for visuals\n",
        "import matplotlib.pyplot as plt\n",
        "import seaborn as sns"
      ],
      "metadata": {
        "id": "25Rd376bhFzX"
      },
      "execution_count": 54,
      "outputs": []
    },
    {
      "cell_type": "markdown",
      "source": [
        " ###  Univariate Visuals towards Data Analysis"
      ],
      "metadata": {
        "id": "p8ixNEOSYfnX"
      }
    },
    {
      "cell_type": "markdown",
      "source": [
        "#### Plot 1: Distribution of Item Visibilities (Histogram)"
      ],
      "metadata": {
        "id": "Eu9aTsUTkjlh"
      }
    },
    {
      "cell_type": "code",
      "source": [
        "## creating a histogram of item visibitilies\n",
        "\n",
        "plt.figure(figsize = (8,4))\n",
        "plt.hist(df['Item_Visibility'])\n",
        "\n",
        "## including the median visibility in our visual\n",
        "median_visibility = df['Item_Visibility'].median().round(2)\n",
        "\n",
        "## titling and labeling axes\n",
        "plt.xlabel('Item Visibility')\n",
        "plt.ylabel('Number of Items')\n",
        "plt.title('Distribution of Item Visibility')\n",
        "\n",
        "plt.axvline(median_visibility, color = 'black', linestyle = '--', label = f'Median Item Visibility is {median_visibility}')\n",
        "plt.legend();"
      ],
      "metadata": {
        "colab": {
          "base_uri": "https://localhost:8080/",
          "height": 294
        },
        "id": "IZPPlsM0mZRs",
        "outputId": "e37a7e7b-23d5-440e-f435-1b0bbb31f9a1"
      },
      "execution_count": 33,
      "outputs": [
        {
          "output_type": "display_data",
          "data": {
            "text/plain": [
              "<Figure size 576x288 with 1 Axes>"
            ],
            "image/png": "[encoded data removed]"
          },
          "metadata": {}
        }
      ]
    },
    {
      "cell_type": "markdown",
      "source": [
        "We see that the distribution of item visibilities has many small values, more than half less than 0.05, and is skewed to the right."
      ],
      "metadata": {
        "id": "SCeYCbfz1A1k"
      }
    },
    {
      "cell_type": "markdown",
      "source": [
        "### Plot 2: Distribution of Item MRP Values (Histogram)"
      ],
      "metadata": {
        "id": "4imvbZiaoMso"
      }
    },
    {
      "cell_type": "code",
      "source": [
        "## creating a histogram of Item MRP\n",
        "plt.figure(figsize = (8,4))\n",
        "plt.hist(df['Item_MRP'], bins = 'auto')\n",
        "\n",
        "## including the median MRP\n",
        "median_MRP = df['Item_MRP'].median().round(2)\n",
        "\n",
        "## titling and labeling\n",
        "plt.xlabel('Item MRP')\n",
        "plt.ylabel('Number of Items')\n",
        "plt.title('Distribution of Item MRP')\n",
        "\n",
        "plt.axvline(median_MRP, color = 'black', linestyle = '--', label = f'Median Item MRP is {median_MRP}')\n",
        "plt.legend();"
      ],
      "metadata": {
        "colab": {
          "base_uri": "https://localhost:8080/",
          "height": 294
        },
        "id": "-NUqUmaIoU0C",
        "outputId": "288ce5d4-7584-4ed3-f460-b490270095a9"
      },
      "execution_count": 36,
      "outputs": [
        {
          "output_type": "display_data",
          "data": {
            "text/plain": [
              "<Figure size 576x288 with 1 Axes>"
            ],
            "image/png": "[encoded data removed]"
          },
          "metadata": {}
        }
      ]
    },
    {
      "cell_type": "markdown",
      "source": [
        "This distribution of Item MRP is not uniform, skewed, or symmetric.  There are many high and low values and no discernible pattern from the histogram."
      ],
      "metadata": {
        "id": "dTGAkIB11cR_"
      }
    },
    {
      "cell_type": "markdown",
      "source": [
        "### Plot 3: Distribution of Item Outlet Sales (Histogram)"
      ],
      "metadata": {
        "id": "A4_FnLEco7Yn"
      }
    },
    {
      "cell_type": "code",
      "source": [
        "## histogram of outlet sales\n",
        "plt.figure(figsize = (8,4))\n",
        "plt.hist(df['Item_Outlet_Sales'], bins = 'auto')\n",
        "\n",
        "## including the median outlet sales\n",
        "median_outlet_sales = df['Item_Outlet_Sales'].median().round(2)\n",
        "\n",
        "## titling and labeling\n",
        "plt.xlabel('Item Outlet Sales')\n",
        "plt.ylabel('Number of Items')\n",
        "plt.title('Distribution of Item Outlet Sales')\n",
        "\n",
        "plt.axvline(median_outlet_sales, color = 'black', linestyle = '--', label = f'Median Item Outlet Sales is {median_outlet_sales}')\n",
        "plt.legend();"
      ],
      "metadata": {
        "colab": {
          "base_uri": "https://localhost:8080/",
          "height": 294
        },
        "id": "y7dwwuEWpOGg",
        "outputId": "fec6034f-948c-4e14-b9cf-aafdf6da7eec"
      },
      "execution_count": 37,
      "outputs": [
        {
          "output_type": "display_data",
          "data": {
            "text/plain": [
              "<Figure size 576x288 with 1 Axes>"
            ],
            "image/png": "[encoded data removed]"
          },
          "metadata": {}
        }
      ]
    },
    {
      "cell_type": "markdown",
      "source": [
        "This distribution of Item Outlet Sales has more than half of the values below 2000 sales, and is skewed to the right."
      ],
      "metadata": {
        "id": "jI0FrsxN1wsz"
      }
    },
    {
      "cell_type": "markdown",
      "source": [
        "### Plot 4: Distribution of Item Weights (Histogram)\n"
      ],
      "metadata": {
        "id": "XltB0kQ9pxQO"
      }
    },
    {
      "cell_type": "code",
      "source": [
        "## histogram of item weights\n",
        "\n",
        "plt.style.use('seaborn')\n",
        "item_weight_hist = df['Item_Weight'].hist(bins = 10, edgecolor = 'black');\n",
        "\n",
        "#including the median item weight\n",
        "median = df['Item_Weight'].median().round(2)\n",
        "\n",
        "item_weight_hist.set(xlabel='Item Weights', ylabel='Number of Items',\n",
        "       title='Distribution of Item Weights')\n",
        "\n",
        "item_weight_hist.axvline(median, color='k', ls=':', \n",
        "            label=f'Median Item Weight{median}')\n",
        "\n",
        "item_weight_hist.legend();"
      ],
      "metadata": {
        "colab": {
          "base_uri": "https://localhost:8080/",
          "height": 376
        },
        "id": "6PhBluiBqKDb",
        "outputId": "00bd7e30-3a30-4c9e-d45d-b4945627d7e9"
      },
      "execution_count": 38,
      "outputs": [
        {
          "output_type": "display_data",
          "data": {
            "text/plain": [
              "<Figure size 576x396 with 1 Axes>"
            ],
            "image/png": "[encoded data removed]"
          },
          "metadata": {}
        }
      ]
    },
    {
      "cell_type": "markdown",
      "source": [
        "This distribution of item weights is pretty uniform with the slight exception around 12 ounces.  There is a large numer of items close to 12 ounces."
      ],
      "metadata": {
        "id": "8WfDZ8vn2Fyn"
      }
    },
    {
      "cell_type": "markdown",
      "source": [
        "### Plot 5: Distribution of Item Weights (Boxplot)\n"
      ],
      "metadata": {
        "id": "DqiksT4rrvLT"
      }
    },
    {
      "cell_type": "code",
      "source": [
        "## boxplot of item weights\n",
        "sns.boxplot(data=df, x='Item_Weight');"
      ],
      "metadata": {
        "colab": {
          "base_uri": "https://localhost:8080/",
          "height": 361
        },
        "id": "2kRP2pRDsHDM",
        "outputId": "76e19edf-7ec5-4489-ca09-afc2f40d8516"
      },
      "execution_count": 39,
      "outputs": [
        {
          "output_type": "display_data",
          "data": {
            "text/plain": [
              "<Figure size 576x396 with 1 Axes>"
            ],
            "image/png": "[encoded data removed]"
          },
          "metadata": {}
        }
      ]
    },
    {
      "cell_type": "markdown",
      "source": [
        "This boxplot of the distribution of Item Weights agrees with the histogram.  As is the case with any single boxplot, more information is gathered from the histogram and no additional information is discovered here."
      ],
      "metadata": {
        "id": "QqjPT-CX2Z1N"
      }
    },
    {
      "cell_type": "markdown",
      "source": [
        "### Plot 6: Distribution of Outlet Location Types (Bar graph)"
      ],
      "metadata": {
        "id": "j4Ld_pKztNA9"
      }
    },
    {
      "cell_type": "code",
      "source": [
        "location_type_counts = df['Outlet_Location_Type'].value_counts()#.sort_values()\n",
        "\n",
        "## Plot the counts of each Outlet Location Type\n",
        "\n",
        "location_type_counts.plot(kind = 'barh')\n",
        "plt.title('Number of Each Location Type', fontsize = 20)\n",
        "plt.ylabel('Location Type', fontsize = 15)\n",
        "plt.xlabel('Count', fontsize = 15)\n",
        "\n",
        "#Display of the figure\n",
        "plt.show()\n"
      ],
      "metadata": {
        "colab": {
          "base_uri": "https://localhost:8080/",
          "height": 386
        },
        "id": "cyOrE2KZtTsI",
        "outputId": "f8c61e2e-a0bb-47f1-e8e7-62946775adcb"
      },
      "execution_count": 45,
      "outputs": [
        {
          "output_type": "display_data",
          "data": {
            "text/plain": [
              "<Figure size 576x396 with 1 Axes>"
            ],
            "image/png": "[encoded data removed]"
          },
          "metadata": {}
        }
      ]
    },
    {
      "cell_type": "markdown",
      "source": [
        "Here is a horizontal bar graph of the counts of Location Type, Tier 1, 2, or 3 of each outlet.  We see the highest category of outlets is Tier 3."
      ],
      "metadata": {
        "id": "6_slo_F02q2T"
      }
    },
    {
      "cell_type": "markdown",
      "source": [
        "### Plot 7: Distribution of Item Weights across Location Types (Side-by-Side Boxplots)"
      ],
      "metadata": {
        "id": "D0qILcXCuJSF"
      }
    },
    {
      "cell_type": "code",
      "source": [
        "## create a side by side boxplot of Item Weights across location types\n",
        "tier1 = df.loc[df['Outlet_Location_Type']=='Tier 1', 'Item_Weight'].values\n",
        "tier2 = df.loc[df['Outlet_Location_Type']=='Tier 2', 'Item_Weight'].values\n",
        "tier3 = df.loc[df['Outlet_Location_Type']=='Tier 3', 'Item_Weight'].values\n",
        "plt.boxplot([tier1,tier2, tier3], labels = ['Tier1', 'Tier2', 'Tier3']);"
      ],
      "metadata": {
        "colab": {
          "base_uri": "https://localhost:8080/",
          "height": 402
        },
        "id": "EV_NYzh3u1CY",
        "outputId": "31268874-05e6-4045-b0b5-1d6db9064916"
      },
      "execution_count": 47,
      "outputs": [
        {
          "output_type": "stream",
          "name": "stderr",
          "text": [
            "/usr/local/lib/python3.7/dist-packages/matplotlib/cbook/__init__.py:1376: VisibleDeprecationWarning: Creating an ndarray from ragged nested sequences (which is a list-or-tuple of lists-or-tuples-or ndarrays with different lengths or shapes) is deprecated. If you meant to do this, you must specify 'dtype=object' when creating the ndarray.\n",
            "  X = np.atleast_1d(X.T if isinstance(X, np.ndarray) else np.asarray(X))\n"
          ]
        },
        {
          "output_type": "display_data",
          "data": {
            "text/plain": [
              "<Figure size 576x396 with 1 Axes>"
            ],
            "image/png": "[encoded data removed]"
          },
          "metadata": {}
        }
      ]
    },
    {
      "cell_type": "markdown",
      "source": [
        "This side-by-side boxplot visual shows that all three distributions of outlet types have similar ninimums, maximums, medians, ranges, and interquartile ranges."
      ],
      "metadata": {
        "id": "HnEnx_S05CpN"
      }
    },
    {
      "cell_type": "markdown",
      "source": [
        "### Plot 8: A Heatmap to discover the correlation between each pair of numerical variables."
      ],
      "metadata": {
        "id": "P78B0-dHwGot"
      }
    },
    {
      "cell_type": "code",
      "source": [
        "## produce a heatmap of correlation coefficients \n",
        "corr = df.corr()\n",
        "sns.heatmap(corr, cmap = 'Greens', annot = True);"
      ],
      "metadata": {
        "colab": {
          "base_uri": "https://localhost:8080/",
          "height": 462
        },
        "id": "T7xvl2CjwiLE",
        "outputId": "16ba56cb-e8e7-407b-b957-44584a0fafe3"
      },
      "execution_count": 49,
      "outputs": [
        {
          "output_type": "display_data",
          "data": {
            "text/plain": [
              "<Figure size 576x396 with 2 Axes>"
            ],
            "image/png": "[encoded data removed]"
          },
          "metadata": {}
        }
      ]
    },
    {
      "cell_type": "markdown",
      "source": [
        "Only one comparison within the Heatmap has a correlation above .3, names Item MRP with Item Outlet Sales. The correlation between these two of 0.57 is moderate correlation."
      ],
      "metadata": {
        "id": "z0cSCsfm5fWF"
      }
    },
    {
      "cell_type": "markdown",
      "source": [
        "### Plot 9: A Scatterplot of Item MRP with Item Outlet Sales"
      ],
      "metadata": {
        "id": "yRXiQx3JxQKH"
      }
    },
    {
      "cell_type": "code",
      "source": [
        "## producing a scatterplot of Item Outlet Sales with Item MRP\n",
        "item_mrp_corr = df['Item_MRP'].values\n",
        "item_outlet_sales_corr = df['Item_Outlet_Sales'].values\n",
        "\n",
        "plt.scatter(item_mrp_corr, item_outlet_sales_corr, c = 'k')\n",
        "\n",
        "## titles and labels\n",
        "plt.title('Scatterplot of Item Outlet Sales and Item MRP', fontsize = 20)\n",
        "plt.ylabel('Item Outlet Sales', fontsize = 15)\n",
        "plt.xlabel('Item MRP', fontsize = 15)\n",
        "\n",
        "\n"
      ],
      "metadata": {
        "colab": {
          "base_uri": "https://localhost:8080/",
          "height": 403
        },
        "id": "RhQHxVBGxcT3",
        "outputId": "943cd1ef-edd1-419f-8943-0bd86eda631c"
      },
      "execution_count": 53,
      "outputs": [
        {
          "output_type": "execute_result",
          "data": {
            "text/plain": [
              "Text(0.5, 0, 'Item MRP')"
            ]
          },
          "metadata": {},
          "execution_count": 53
        },
        {
          "output_type": "display_data",
          "data": {
            "text/plain": [
              "<Figure size 576x396 with 1 Axes>"
            ],
            "image/png": "[encoded data removed]"
          },
          "metadata": {}
        }
      ]
    },
    {
      "cell_type": "markdown",
      "source": [
        "This scatterplot of Item MRP with Item Outlet Sales agrees with the correlation coefficient between Item MRP and Item Outlet Sales, 0.57, a moderate correlation value. This scatterplot has a slight fan shape, and some type of grouping might be analyzed in the future."
      ],
      "metadata": {
        "id": "Czypcc_86Cum"
      }
    },
    {
      "cell_type": "markdown",
      "source": [
        "\n",
        "## Explanatory Visuals"
      ],
      "metadata": {
        "id": "Hpqk_j_20g_S"
      }
    },
    {
      "cell_type": "markdown",
      "source": [],
      "metadata": {
        "id": "i1ci74yV0hjU"
      }
    }
  ]
}